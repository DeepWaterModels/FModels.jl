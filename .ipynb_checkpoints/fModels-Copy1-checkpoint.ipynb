{
 "cells": [
  {
   "cell_type": "code",
   "execution_count": 2,
   "metadata": {},
   "outputs": [
    {
     "data": {
      "text/plain": [
       "Plots.PyPlotBackend()"
      ]
     },
     "execution_count": 2,
     "metadata": {},
     "output_type": "execute_result"
    }
   ],
   "source": [
    "using  FFTW\n",
    "using  LinearAlgebra\n",
    "using  ProgressMeter\n",
    "using  BenchmarkTools\n",
    "using  Plots\n",
    "pyplot()"
   ]
  },
  {
   "cell_type": "markdown",
   "metadata": {},
   "source": [
    "Paramètres du système"
   ]
  },
  {
   "cell_type": "code",
   "execution_count": 3,
   "metadata": {},
   "outputs": [
    {
     "name": "stdout",
     "output_type": "stream",
     "text": [
      "(epsilon, N, L, T, dt) = (0.5, 4096, 10, 5, 0.001)\n"
     ]
    }
   ],
   "source": [
    "epsilon=1/2\n",
    "N=2^12\n",
    "L=10\n",
    "T=5\n",
    "dt=0.001\n",
    "@show epsilon,N,L,T,dt;"
   ]
  },
  {
   "cell_type": "markdown",
   "metadata": {},
   "source": [
    "Initialisation : grilles en espace, fréquence, temps"
   ]
  },
  {
   "cell_type": "code",
   "execution_count": 4,
   "metadata": {},
   "outputs": [],
   "source": [
    "struct Mesh\n",
    "    \n",
    "    nx   :: Int\n",
    "    xmin :: Float64\n",
    "    xmax :: Float64\n",
    "    dx   :: Float64\n",
    "    x    :: Vector{Float64}\n",
    "    \n",
    "    function Mesh( xmin, xmax, nx)\n",
    "        dx = (xmax-xmin)/nx\n",
    "        x = range(xmin, stop=xmax, length=nx+1)[1:end-1] \n",
    "        new( nx, xmin, xmax, dx, x)\n",
    "    end\n",
    "end\n",
    "\n",
    "struct Freq\n",
    "    \n",
    "    nk   :: Int\n",
    "    kmin :: Float64\n",
    "    kmax :: Float64\n",
    "    dk   :: Float64\n",
    "    k    :: Vector{Float64}\n",
    "    \n",
    "    function Freq( dx, nk)\n",
    "        dk = 2*π/(nk*dx)\n",
    "        kmin = -nk/2*dk\n",
    "        kmax = (nk/2-1)*dk\n",
    "        k = [range(0, length=nk ÷ 2, step = dk) ; range(kmin, length=nk ÷ 2, step = dk) ]\n",
    "        new( nk, kmin, kmax, dk, k)\n",
    "    end\n",
    "end\n",
    "\n",
    "struct Times\n",
    "    \n",
    "    nt   :: Int\n",
    "    tfin :: Float64\n",
    "    dt   :: Float64\n",
    "    t    :: Vector{Float64}\n",
    "    \n",
    "    function Times( dt, tfin)\n",
    "        t = range(0, stop=tfin, step = dt)\n",
    "        nt = length(t)\n",
    "        new( nt, tfin, dt, t)\n",
    "    end\n",
    "end\n",
    "\n",
    "\n",
    "mesh = Mesh(-L, L, N);\n",
    "freq = Freq(mesh.dx, N);\n",
    "times = Times(dt, T);"
   ]
  },
  {
   "cell_type": "markdown",
   "metadata": {},
   "source": [
    "Quelques multiplicateurs de Fourier"
   ]
  },
  {
   "cell_type": "code",
   "execution_count": 5,
   "metadata": {},
   "outputs": [],
   "source": [
    "Gamma=abs.(freq.k); # Lambda, \"absolute differentiation\"\n",
    "H=-1im.*sign.(freq.k); # Hilbert transform\n",
    "Dx=1im*freq.k; # Differentiation\n",
    "Pi=Gamma.<freq.kmax*2/3; # Dealiasing low-pass filter"
   ]
  },
  {
   "cell_type": "markdown",
   "metadata": {},
   "source": [
    "Donnée initiale"
   ]
  },
  {
   "cell_type": "code",
   "execution_count": 6,
   "metadata": {},
   "outputs": [],
   "source": [
    "h0=exp.(-mesh.x.^2);\n",
    "h0hat=Pi.*fft(h0);\n",
    "u0=zeros(N);\n",
    "u0hat=Pi.*fft(u0);"
   ]
  },
  {
   "cell_type": "code",
   "execution_count": 7,
   "metadata": {},
   "outputs": [
    {
     "data": {
      "image/png": "[encoded data removed]"
     },
     "execution_count": 7,
     "metadata": {},
     "output_type": "execute_result"
    }
   ],
   "source": [
    "plot(mesh.x,h0,label=\"h₀\")"
   ]
  },
  {
   "cell_type": "markdown",
   "metadata": {},
   "source": [
    "Systèmes à résoudre : d_t U=F(U)"
   ]
  },
  {
   "cell_type": "code",
   "execution_count": 8,
   "metadata": {},
   "outputs": [
    {
     "data": {
      "text/plain": [
       "Fwave_prealloc (generic function with 1 method)"
      ]
     },
     "execution_count": 8,
     "metadata": {},
     "output_type": "execute_result"
    }
   ],
   "source": [
    "Px=plan_fft(h0hat);\n",
    "\n",
    "function Fwave_prealloc(hhat,uhat)\n",
    "    #global h, dum, Int1, Int2, Int3, nhhat, nuhat\n",
    "    dum=similar(hhat); \n",
    "    #@PNavaro : je voudrais faire cette allocation (et d'autres) en dehors de la fonction (en utilisant global ? en ajoutant une variable ?), mais je n'arrive pas à le faire avec un gain de temps substantiel\n",
    "    h = Px \\ copy(hhat);\n",
    "    Int1=copy(uhat);Int1.*=Gamma; ldiv!(dum , Px , Int1); dum.^=2; mul!(Int1 , Px , dum); Int1.*=H; \n",
    "    Int2=copy(hhat);Int2.*=Dx; ldiv!(dum , Px , Int2); dum.*=h; mul!(Int2 , Px , dum);\n",
    "    Int3=copy(hhat);Int3.*=Gamma; ldiv!(dum,Px,Int3); dum.*=h; mul!(Int3 , Px , dum); Int3.*=H;\n",
    "    nhhat=-copy(uhat);nhhat.*=Dx;\n",
    "    Int1-=Int2;Int1.-=Int3;Int1.*=Pi;Int1.*=epsilon;\n",
    "    nuhat=copy(hhat);nuhat.*=H;nuhat.+=Int1;\n",
    "    return (nhhat,nuhat)\n",
    "end"
   ]
  },
  {
   "cell_type": "markdown",
   "metadata": {},
   "source": [
    "Intégration en temps : RK4 (remplace la donnée)"
   ]
  },
  {
   "cell_type": "code",
   "execution_count": 9,
   "metadata": {},
   "outputs": [],
   "source": [
    "function RK4!(h,u,F,dt)\n",
    "    (h1,u1) =F(h,u)\n",
    "    (h2,u2) =F(h+dt/2*h1,u+dt/2*u1)\n",
    "    (h3,u3) =F(h+dt/2*h2,u+dt/2*u2)\n",
    "    (h4,u4) =F(h+dt*h3,u+dt*u3)\n",
    "    h.+=dt/6*(h1+2*h2+2*h3+h4)\n",
    "    u.+=dt/6*(u1+2*u2+2*u3+u4)\n",
    "end\n",
    "#@btime RK4!(h0hat,u0hat,Fwave,dt);"
   ]
  },
  {
   "cell_type": "markdown",
   "metadata": {},
   "source": [
    "wrap-up : intégration sur tous les pas de temps, écriture sur la donnée Us"
   ]
  },
  {
   "cell_type": "code",
   "execution_count": 10,
   "metadata": {},
   "outputs": [
    {
     "data": {
      "text/plain": [
       "solve (generic function with 1 method)"
      ]
     },
     "execution_count": 10,
     "metadata": {},
     "output_type": "execute_result"
    }
   ],
   "source": [
    "Us=[];Modeles=[];\n",
    "function solve(U0,F,times)\n",
    "    h=copy(U0[1]);u=copy(U0[2])\n",
    "    push!(Us,zeros(Complex{Float64},(mesh.nx,2,times.nt)))\n",
    "    (Us[end][:,1,1],Us[end][:,2,1])=(h,u)\n",
    "    prog = Progress(times.nt,1) # progress bar\n",
    "    for l in range(1,times.nt-1)\n",
    "        dt=times.t[l+1]-times.t[l]\n",
    "        #Compute one time step\n",
    "        RK4!(h,u,F,dt)\n",
    "        \n",
    "        #Store\n",
    "        (Us[end][:,1,l+1],Us[end][:,2,l+1])=(h,u)\n",
    "            \n",
    "        next!(prog) # increment the progress bar\n",
    "    end\n",
    "end"
   ]
  },
  {
   "cell_type": "markdown",
   "metadata": {},
   "source": [
    "Finalement les calculs : version naive, puis fft_plan, puis prealloc"
   ]
  },
  {
   "cell_type": "code",
   "execution_count": 12,
   "metadata": {},
   "outputs": [
    {
     "name": "stderr",
     "output_type": "stream",
     "text": [
      "\u001b[32mProgress:  98%|████████████████████████████████████████ |  ETA: 0:00:00\u001b[39m"
     ]
    },
    {
     "name": "stdout",
     "output_type": "stream",
     "text": [
      " 15.938926 seconds (7.86 M allocations: 19.290 GiB, 18.75% gc time)\n"
     ]
    }
   ],
   "source": [
    "#print(\"*** Calculs Cheng et al. ***\")\n",
    "push!(Modeles,\"Cheng et al. version prealloc\")\n",
    "@time solve((h0hat,u0hat),Fwave_prealloc,times);"
   ]
  },
  {
   "cell_type": "markdown",
   "metadata": {},
   "source": [
    "Graphiques"
   ]
  },
  {
   "cell_type": "code",
   "execution_count": 13,
   "metadata": {
    "scrolled": false
   },
   "outputs": [
    {
     "data": {
      "text/plain": [
       "fig (generic function with 1 method)"
      ]
     },
     "execution_count": 13,
     "metadata": {},
     "output_type": "execute_result"
    }
   ],
   "source": [
    "Labels=reshape(copy(Modeles),(1,length(Modeles)))\n",
    "function fig(t)\n",
    "    s=0\n",
    "    if indexin(false,times.t.<=t)[1]==nothing\n",
    "        index=length(times.t)\n",
    "        else index=indexin(false,times.t.<=t)\n",
    "    end\n",
    "    \n",
    "    p1 = plot(title=\"temps t=$t, ϵ=$epsilon\")\n",
    "    \n",
    "    for modele in range(1,size(Us)[end])\n",
    "    \n",
    "        (hhat,uhat)=(Us[modele][:,1,index],Us[modele][:,2,index])\n",
    "        (h,u)=(real(ifft((Gamma.^s).*hhat)),real(ifft(uhat)))\n",
    "\n",
    "        \n",
    "        p1 = plot!(mesh.x,h)\n",
    "    end\n",
    "        \n",
    "    p2 = plot()\n",
    "    \n",
    "    for modele in range(1,size(Us)[end])\n",
    "    \n",
    "        (hhat,uhat)=(Us[modele][:,1,index],Us[modele][:,2,index])\n",
    "        (h,u)=(real(ifft((Gamma.^s).*hhat)),real(ifft(uhat)))\n",
    "\n",
    "        p2 = plot!(fftshift(freq.k),log10.(1e-18.+abs.(fftshift(hhat))))\n",
    "        \n",
    "    end\n",
    "    p=plot(p1,p2,layout=(2,1),label=Labels)\n",
    "\n",
    "    display(p)\n",
    "end"
   ]
  },
  {
   "cell_type": "code",
   "execution_count": 14,
   "metadata": {},
   "outputs": [
    {
     "data": {
      "image/png": "[encoded data removed]",
      "text/plain": [
       "PyPlot.Figure(PyObject <Figure size 600x400 with 2 Axes>)"
      ]
     },
     "metadata": {},
     "output_type": "display_data"
    }
   ],
   "source": [
    "fig(5)\n",
    "#@PNavaro : Sais-tu comment afficher des plots interactifs ? (=possibilité de zoomer, bouton pour sauvegarder)"
   ]
  }
 ],
 "metadata": {
  "kernelspec": {
   "display_name": "Julia 1.0.1",
   "language": "julia",
   "name": "julia-1.0"
  },
  "language_info": {
   "file_extension": ".jl",
   "mimetype": "application/julia",
   "name": "julia",
   "version": "1.0.1"
  }
 },
 "nbformat": 4,
 "nbformat_minor": 2
}
