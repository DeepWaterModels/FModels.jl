{
 "cells": [
  {
   "cell_type": "code",
   "execution_count": 85,
   "metadata": {},
   "outputs": [
    {
     "data": {
      "text/plain": [
       "Plots.PyPlotBackend()"
      ]
     },
     "execution_count": 85,
     "metadata": {},
     "output_type": "execute_result"
    }
   ],
   "source": [
    "using  FFTW\n",
    "using  LinearAlgebra\n",
    "using  ProgressMeter\n",
    "using  BenchmarkTools\n",
    "using  Plots\n",
    "pyplot()"
   ]
  },
  {
   "cell_type": "code",
   "execution_count": 86,
   "metadata": {},
   "outputs": [],
   "source": [
    "struct Mesh\n",
    "    \n",
    "    nx   :: Int\n",
    "    xmin :: Float64\n",
    "    xmax :: Float64\n",
    "    dx   :: Float64\n",
    "    x    :: Vector{Float64}\n",
    "    \n",
    "    function Mesh( xmin, xmax, nx)\n",
    "        dx = (xmax-xmin)/nx\n",
    "        x = range(xmin, stop=xmax, length=nx+1)[1:end-1] \n",
    "        new( nx, xmin, xmax, dx, x)\n",
    "    end\n",
    "end"
   ]
  },
  {
   "cell_type": "code",
   "execution_count": 87,
   "metadata": {},
   "outputs": [],
   "source": [
    "struct Freq\n",
    "    \n",
    "    nk   :: Int\n",
    "    kmin :: Float64\n",
    "    kmax :: Float64\n",
    "    dk   :: Float64\n",
    "    k    :: Vector{Float64}\n",
    "    \n",
    "    function Freq( dx, nk)\n",
    "        dk = 2π/(nk*dx)\n",
    "        kmin = -nk/2*dk\n",
    "        kmax = (nk/2-1)*dk\n",
    "        k = [range(0, length=nk ÷ 2, step = dk) ; range(kmin, length=nk ÷ 2, step = dk) ]\n",
    "        new( nk, kmin, kmax, dk, k)\n",
    "    end\n",
    "end"
   ]
  },
  {
   "cell_type": "code",
   "execution_count": 88,
   "metadata": {},
   "outputs": [],
   "source": [
    "struct Times\n",
    "    \n",
    "    nt   :: Int\n",
    "    tfin :: Float64\n",
    "    dt   :: Float64\n",
    "    t    :: Vector{Float64}\n",
    "    \n",
    "    function Times( dt, tfin)\n",
    "        t = range(0, stop=tfin, step = dt)\n",
    "        nt = length(t)\n",
    "        new( nt, tfin, dt, t)\n",
    "    end\n",
    "end"
   ]
  },
  {
   "cell_type": "code",
   "execution_count": 89,
   "metadata": {},
   "outputs": [
    {
     "data": {
      "text/plain": [
       "fig (generic function with 3 methods)"
      ]
     },
     "execution_count": 89,
     "metadata": {},
     "output_type": "execute_result"
    }
   ],
   "source": [
    "function fig(t, times, Us, Gamma, freq, Modeles, epsilon, mesh)\n",
    "        \n",
    "    Labels = reshape(copy(Modeles),(1,length(Modeles)))   \n",
    "    s = 0\n",
    "    if indexin(false,times.t.<=t)[1]==nothing\n",
    "        index=length(times.t)\n",
    "    else \n",
    "        index=indexin(false,times.t.<=t)\n",
    "    end\n",
    "    \n",
    "    p1 = plot(title=\"temps t=$t, ϵ=$epsilon\")\n",
    "    \n",
    "    for modele in range(1,size(Us)[end])\n",
    "        (hhat,uhat)=(Us[modele][:,1,index],Us[modele][:,2,index])\n",
    "        (h,u)=(real(ifft((Gamma.^s).*hhat)),real(ifft(uhat)))\n",
    "        p1 = plot!(mesh.x,h)\n",
    "    end\n",
    "        \n",
    "    p2 = plot()\n",
    "    \n",
    "    for modele in range(1,size(Us)[end])\n",
    "    \n",
    "        (hhat,uhat)=(Us[modele][:,1,index],Us[modele][:,2,index])\n",
    "        (h,u)=(real(ifft((Gamma.^s).*hhat)),real(ifft(uhat)))\n",
    "        p2 = plot!(fftshift(freq.k),log10.(1e-18.+abs.(fftshift(hhat))))\n",
    "        \n",
    "    end\n",
    "    \n",
    "    p=plot(p1,p2,layout=(2,1),label=Labels)\n",
    "    display(p)\n",
    "end"
   ]
  },
  {
   "cell_type": "code",
   "execution_count": 90,
   "metadata": {},
   "outputs": [
    {
     "data": {
      "text/plain": [
       "run (generic function with 1 method)"
      ]
     },
     "execution_count": 90,
     "metadata": {},
     "output_type": "execute_result"
    }
   ],
   "source": [
    "function run()\n",
    "    \n",
    "    epsilon = 1/2\n",
    "    N       = 2^12\n",
    "    L       = 10\n",
    "    T       = 5\n",
    "    dt      = 0.001\n",
    "    \n",
    "    @show epsilon,N,L,T,dt\n",
    "    \n",
    "    mesh  = Mesh(-L, L, N)\n",
    "    freq  = Freq(mesh.dx, N)\n",
    "    times = Times(dt, T)\n",
    "    \n",
    "    Gamma = abs.(freq.k)             # Lambda, \"absolute differentiation\"\n",
    "    H     = -1im * sign.(freq.k)     # Hilbert transform\n",
    "    Dx    =  1im * freq.k            # Differentiation\n",
    "    Pi    = Gamma .< freq.kmax * 2/3 # Dealiasing low-pass filter\n",
    "    h0    = exp.(-mesh.x.^2)\n",
    "    h0hat = Pi .* fft(h0)\n",
    "    u0    = zeros(Complex{Float64},N)\n",
    "    u0hat = Pi .* fft(u0)\n",
    "    \n",
    "    Px  = plan_fft(h0hat)\n",
    "\n",
    "    function fwave!(hnew::Vector{Complex{Float64}},\n",
    "                    unew::Vector{Complex{Float64}},\n",
    "                    hhat::Vector{Complex{Float64}},\n",
    "                    uhat::Vector{Complex{Float64}})\n",
    "        \n",
    "        ldiv!(hnew, Px , hhat)\n",
    "        \n",
    "        Int1   = copy(uhat)\n",
    "        Int1 .*= Gamma\n",
    "        ldiv!(unew, Px , Int1)\n",
    "        unew  .^= 2\n",
    "        mul!(Int1, Px , unew)\n",
    "        Int1 .*= H\n",
    "        \n",
    "        Int2   = copy(hhat)\n",
    "        Int2 .*= Dx\n",
    "        ldiv!(unew, Px , Int2)\n",
    "        unew  .*= hnew\n",
    "        mul!(Int2, Px , unew)\n",
    "        \n",
    "        Int3   = copy(hhat)\n",
    "        Int3 .*= Gamma\n",
    "        ldiv!(unew, Px, Int3)\n",
    "        unew  .*= hnew\n",
    "        mul!(Int3 , Px , unew)\n",
    "        Int3 .*= H\n",
    "        \n",
    "        hnew  .= -uhat\n",
    "        hnew .*= Dx\n",
    "        \n",
    "        Int1 .-= Int2\n",
    "        Int1 .-= Int3\n",
    "        Int1 .*= Pi\n",
    "        Int1 .*= epsilon\n",
    "        \n",
    "        unew  .= hhat\n",
    "        unew .*= H\n",
    "        unew .+= Int1\n",
    "        \n",
    "        hhat .= hnew\n",
    "        uhat .= unew\n",
    "        \n",
    "    end\n",
    "    \n",
    "    Us      = []\n",
    "    Modeles = String[]\n",
    "    \n",
    "    function solve(U0, times)\n",
    "        \n",
    "        h = copy(U0[1])\n",
    "        u = copy(U0[2])\n",
    "        push!(Us,zeros(Complex{Float64},(mesh.nx,2,times.nt)))\n",
    "        \n",
    "        (Us[end][:,1,1],Us[end][:,2,1])=(h,u)\n",
    "        prog = Progress(times.nt,1) # progress bar\n",
    "        \n",
    "        dh = similar(h)\n",
    "        du = similar(u)\n",
    "        \n",
    "        ht = similar(h)\n",
    "        ut = similar(u)\n",
    "        \n",
    "        hnew = similar(h)\n",
    "        unew = similar(u)\n",
    "        \n",
    "        for l in range(1,times.nt-1)\n",
    "            \n",
    "            dt = times.t[l+1]-times.t[l]\n",
    "            \n",
    "            ht .= h\n",
    "            ut .= u\n",
    "            fwave!(hnew, unew, ht, ut)\n",
    "            dh .= ht\n",
    "            du .= ut\n",
    "            \n",
    "            ht .= h .+ dt/2*ht\n",
    "            ut .= u .+ dt/2*ut\n",
    "            fwave!(hnew, unew, ht,ut)\n",
    "            dh .+= 2 * ht\n",
    "            du .+= 2 * ut\n",
    "            \n",
    "            ht .= h .+ dt/2*ht\n",
    "            ut .= u .+ dt/2*ut\n",
    "            fwave!(hnew, unew, ht, ut)\n",
    "            dh .+= 2 * ht\n",
    "            du .+= 2 * ut\n",
    "            \n",
    "            ht .= h .+ dt*ht\n",
    "            ut .= u .+ dt*ut\n",
    "            fwave!(hnew, unew, ht, ut)\n",
    "            dh .+= ht\n",
    "            du .+= ut\n",
    "            \n",
    "            h .+= dt/6 * dh\n",
    "            u .+= dt/6 * du\n",
    "        \n",
    "            #Store\n",
    "            (Us[end][:,1,l+1],Us[end][:,2,l+1])=(h,u)\n",
    "            \n",
    "            next!(prog) # increment the progress bar\n",
    "        end\n",
    "    end\n",
    "    \n",
    "    push!(Modeles,\"Cheng et al. version prealloc\")\n",
    "    \n",
    "    solve((h0hat,u0hat), times)\n",
    "    \n",
    "    fig(5, times, Us, Gamma, freq, Modeles, epsilon, mesh)\n",
    "\n",
    "end"
   ]
  },
  {
   "cell_type": "code",
   "execution_count": 91,
   "metadata": {},
   "outputs": [
    {
     "name": "stdout",
     "output_type": "stream",
     "text": [
      "(epsilon, N, L, T, dt) = (0.5, 4096, 10, 5, 0.001)\n"
     ]
    },
    {
     "name": "stderr",
     "output_type": "stream",
     "text": [
      "\u001b[32mProgress:  95%|███████████████████████████████████████  |  ETA: 0:00:00\u001b[39m"
     ]
    },
    {
     "data": {
      "image/png": "[encoded data removed]",
      "text/plain": [
       "PyPlot.Figure(PyObject <Figure size 600x400 with 2 Axes>)"
      ]
     },
     "metadata": {},
     "output_type": "display_data"
    },
    {
     "name": "stdout",
     "output_type": "stream",
     "text": [
      "  9.852545 seconds (1.98 M allocations: 9.239 GiB, 13.73% gc time)\n"
     ]
    }
   ],
   "source": [
    "@time run()"
   ]
  },
  {
   "cell_type": "code",
   "execution_count": null,
   "metadata": {},
   "outputs": [],
   "source": []
  }
 ],
 "metadata": {
  "kernelspec": {
   "display_name": "Julia 1.0.1",
   "language": "julia",
   "name": "julia-1.0"
  },
  "language_info": {
   "file_extension": ".jl",
   "mimetype": "application/julia",
   "name": "julia",
   "version": "1.0.1"
  }
 },
 "nbformat": 4,
 "nbformat_minor": 2
}
