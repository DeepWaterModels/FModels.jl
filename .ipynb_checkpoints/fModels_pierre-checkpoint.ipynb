{
 "cells": [
  {
   "cell_type": "code",
   "execution_count": 4,
   "metadata": {},
   "outputs": [
    {
     "ename": "ArgumentError",
     "evalue": "ArgumentError: Package PlotlyJS not found in current path:\n- Run `import Pkg; Pkg.add(\"PlotlyJS\")` to install the PlotlyJS package.\n",
     "output_type": "error",
     "traceback": [
      "ArgumentError: Package PlotlyJS not found in current path:\n- Run `import Pkg; Pkg.add(\"PlotlyJS\")` to install the PlotlyJS package.\n",
      "",
      "Stacktrace:",
      " [1] require(::Module, ::Symbol) at ./loading.jl:820",
      " [2] top-level scope at /Users/navaro/.julia/packages/Plots/Ufx0i/src/backends.jl:575",
      " [3] eval at ./boot.jl:319 [inlined]",
      " [4] _initialize_backend(::Plots.PlotlyJSBackend) at /Users/navaro/.julia/packages/Plots/Ufx0i/src/backends.jl:574",
      " [5] backend(::Plots.PlotlyJSBackend) at /Users/navaro/.julia/packages/Plots/Ufx0i/src/backends.jl:196",
      " [6] backend(::Symbol) at /Users/navaro/.julia/packages/Plots/Ufx0i/src/backends.jl:209",
      " [7] plotlyjs() at /Users/navaro/.julia/packages/Plots/Ufx0i/src/backends.jl:29",
      " [8] top-level scope at In[4]:6"
     ]
    }
   ],
   "source": [
    "using  FFTW\n",
    "using  LinearAlgebra\n",
    "using  ProgressMeter\n",
    "using  BenchmarkTools\n",
    "using  Plots\n",
    "plotlyjs()"
   ]
  },
  {
   "cell_type": "markdown",
   "metadata": {},
   "source": [
    "Paramètres du système"
   ]
  },
  {
   "cell_type": "code",
   "execution_count": 2,
   "metadata": {},
   "outputs": [
    {
     "name": "stdout",
     "output_type": "stream",
     "text": [
      "(epsilon, N, L, T, dt) = (0.5, 4096, 10, 5, 0.001)\n"
     ]
    }
   ],
   "source": [
    "epsilon=1/2\n",
    "N=2^12\n",
    "L=10\n",
    "T=5\n",
    "dt=0.001\n",
    "@show epsilon,N,L,T,dt;"
   ]
  },
  {
   "cell_type": "markdown",
   "metadata": {},
   "source": [
    "Initialisation : grilles en espace, fréquence, temps"
   ]
  },
  {
   "cell_type": "code",
   "execution_count": 3,
   "metadata": {},
   "outputs": [],
   "source": [
    "struct Mesh\n",
    "    \n",
    "    nx   :: Int\n",
    "    xmin :: Float64\n",
    "    xmax :: Float64\n",
    "    dx   :: Float64\n",
    "    x    :: Vector{Float64}\n",
    "    \n",
    "    function Mesh( xmin, xmax, nx)\n",
    "        dx = (xmax-xmin)/nx\n",
    "        x = range(xmin, stop=xmax, length=nx+1)[1:end-1] \n",
    "        new( nx, xmin, xmax, dx, x)\n",
    "    end\n",
    "end\n",
    "\n",
    "struct Freq\n",
    "    \n",
    "    nk   :: Int\n",
    "    kmin :: Float64\n",
    "    kmax :: Float64\n",
    "    dk   :: Float64\n",
    "    k    :: Vector{Float64}\n",
    "    \n",
    "    function Freq( dx, nk)\n",
    "        dk = 2*π/(nk*dx)\n",
    "        kmin = -nk/2*dk\n",
    "        kmax = (nk/2-1)*dk\n",
    "        k = [range(0, length=nk ÷ 2, step = dk) ; range(kmin, length=nk ÷ 2, step = dk) ]\n",
    "        new( nk, kmin, kmax, dk, k)\n",
    "    end\n",
    "end\n",
    "\n",
    "struct Times\n",
    "    \n",
    "    nt   :: Int\n",
    "    tfin :: Float64\n",
    "    dt   :: Float64\n",
    "    t    :: Vector{Float64}\n",
    "    \n",
    "    function Times( dt, tfin)\n",
    "        t = collect(range(0, stop=tfin, step = dt))\n",
    "        nt = length(t)\n",
    "        new( nt, tfin, dt, t)\n",
    "    end\n",
    "end\n",
    "\n",
    "\n",
    "mesh = Mesh(-L, L, N);\n",
    "freq = Freq(mesh.dx, N);\n",
    "times = Times(dt, T);"
   ]
  },
  {
   "cell_type": "markdown",
   "metadata": {},
   "source": [
    "Quelques multiplicateurs de Fourier"
   ]
  },
  {
   "cell_type": "code",
   "execution_count": 4,
   "metadata": {},
   "outputs": [],
   "source": [
    "Gamma=abs.(freq.k); # Lambda, \"absolute differentiation\"\n",
    "H=-1im.*sign.(freq.k); # Hilbert transform\n",
    "Dx=1im*freq.k; # Differentiation\n",
    "Pi=Gamma.<freq.kmax*2/3; # Dealiasing low-pass filter"
   ]
  },
  {
   "cell_type": "markdown",
   "metadata": {},
   "source": [
    "Donnée initiale"
   ]
  },
  {
   "cell_type": "code",
   "execution_count": 5,
   "metadata": {},
   "outputs": [],
   "source": [
    "h0=exp.(-mesh.x.^2);\n",
    "h0hat=Pi.*fft(h0);\n",
    "u0=zeros(N);\n",
    "u0hat=Pi.*fft(u0);"
   ]
  },
  {
   "cell_type": "code",
   "execution_count": 6,
   "metadata": {},
   "outputs": [
    {
     "data": {
      "image/png": "[encoded data removed]"
     },
     "execution_count": 6,
     "metadata": {},
     "output_type": "execute_result"
    }
   ],
   "source": [
    "plot(mesh.x,h0,label=\"h₀\")"
   ]
  },
  {
   "cell_type": "markdown",
   "metadata": {},
   "source": [
    "Systèmes à résoudre : d_t U=F(U)"
   ]
  },
  {
   "cell_type": "code",
   "execution_count": 7,
   "metadata": {},
   "outputs": [
    {
     "data": {
      "text/plain": [
       "BenchmarkTools.Trial: \n",
       "  memory estimate:  1.43 MiB\n",
       "  allocs estimate:  462\n",
       "  --------------\n",
       "  minimum time:     697.089 μs (0.00% GC)\n",
       "  median time:      902.470 μs (0.00% GC)\n",
       "  mean time:        1.209 ms (17.21% GC)\n",
       "  maximum time:     112.418 ms (98.98% GC)\n",
       "  --------------\n",
       "  samples:          4089\n",
       "  evals/sample:     1"
      ]
     },
     "execution_count": 7,
     "metadata": {},
     "output_type": "execute_result"
    }
   ],
   "source": [
    "#=\n",
    "# WW2\n",
    "function FWW2(hhat,uhat)\n",
    "    h=real(ifft(hhat))\n",
    "    u=real(ifft(uhat))\n",
    "    Hu=real(ifft(H.*uhat))\n",
    "    return (H.*uhat-epsilon*Pi.*(Gamma.*fft(h.*Hu)+Dx.*fft(h.*u)),-(Dx.*hhat)-epsilon/2*Pi.*Dx.*fft(u.^2-Hu.^2))\n",
    "end\n",
    "#@btime FWW2(h0hat,u0hat);\n",
    "=#\n",
    "# Cheng et al\n",
    "function Fwave_naive(hhat,uhat)\n",
    "    h=ifft(hhat);\n",
    "    Int1=H.*fft(ifft(Gamma.*uhat).^2);\n",
    "    Int2=fft(h.*ifft(Dx.*hhat)) ;\n",
    "    Int3=H.*fft(h.*ifft(Gamma.*hhat));\n",
    "    return (-(Dx.*uhat),H.*hhat+epsilon*Pi.*(Int1-Int2-Int3))\n",
    "end\n",
    "@benchmark Fwave_naive(h0hat,u0hat)\n",
    "\n",
    "#=\n",
    "# Matsuno  \n",
    "function Matsuno(hhat,uhat)\n",
    "    h=real(ifft(hhat))\n",
    "    u=real(ifft(uhat))\n",
    "    Int4=fft(real(ifft(Dx.*hhat)).*real(ifft(Gamma.*hhat)))\n",
    "    return (H.*uhat-epsilon*Pi.*(H.*fft(h.*real(ifft(Gamma.*uhat)))+Dx.*fft(h.*u)),-(Dx.*hhat)-epsilon/2*Pi.*(Dx.*fft(u.^2))+epsilon*Pi.*Int4)\n",
    "end    \n",
    "#@btime Matsuno(h0hat,u0hat);\n",
    "\n",
    "# Saut-Xu\n",
    "function SautXu(hhat,uhat)\n",
    "    h=real(ifft(hhat))\n",
    "    u=real(ifft(uhat))\n",
    "    Dh=real(ifft(Dx.*hhat))\n",
    "    Du=real(ifft(Dx.*uhat))\n",
    "    Gu=real(ifft(Gamma.*uhat))\n",
    "    Gh=real(ifft(Gamma.*hhat))\n",
    "    return (H.*uhat-epsilon*Pi.*(fft(u.*Dh/2+h.*Du)+H.*fft(h.*Gu+u.*Gh/2)),-(Dx.*hhat)-epsilon*Pi.*(Dx.*fft(u.^2)-fft(Dh.*Gh)/2))\n",
    "end  \n",
    "#btime SautXu(h0hat,u0hat);\n",
    "\n",
    "# WW2 modifié (prime)\n",
    "function FWW2p(hhat,uhat)\n",
    "    h=real(ifft(hhat))\n",
    "    u=real(ifft(uhat))\n",
    "    Hu=real(ifft(H.*uhat))\n",
    "    Dth=H.*uhat-epsilon*Pi.*(Gamma.*fft(h.*Hu)+Dx.*fft(h.*u))\n",
    "    return (Dth,-Dx.*hhat-epsilon/2*Pi.*Dx.*fft(u.^2-real(ifft(Dth).^2)))\n",
    "end\n",
    "#@btime FWW2p(h0hat,u0hat);\n",
    "=#"
   ]
  },
  {
   "cell_type": "code",
   "execution_count": 8,
   "metadata": {},
   "outputs": [
    {
     "data": {
      "text/plain": [
       "BenchmarkTools.Trial: \n",
       "  memory estimate:  898.48 KiB\n",
       "  allocs estimate:  73\n",
       "  --------------\n",
       "  minimum time:     520.542 μs (0.00% GC)\n",
       "  median time:      650.759 μs (0.00% GC)\n",
       "  mean time:        855.741 μs (15.00% GC)\n",
       "  maximum time:     132.987 ms (99.50% GC)\n",
       "  --------------\n",
       "  samples:          5757\n",
       "  evals/sample:     1"
      ]
     },
     "execution_count": 8,
     "metadata": {},
     "output_type": "execute_result"
    }
   ],
   "source": [
    "Px=plan_fft(h0hat);\n",
    "function Fwave_plan(hhat,uhat)\n",
    "    h = Px \\ copy(hhat);\n",
    "    Int1=copy(uhat);Int1.*=Gamma; dum = Px \\ Int1; dum.^=2; Int1 .= Px * dum; Int1.*=H; \n",
    "    #@PNavaro : pourquoi dum .= Px \\ Int1; (avec le point) produit plus d'allocations ?\n",
    "    Int2=copy(hhat);Int2.*=Dx; dum = Px \\ Int2; dum.*=h; Int2 .= Px * dum;\n",
    "    Int3=copy(hhat);Int3.*=Gamma; dum = Px \\ Int3; dum.*=h; Int3 .= Px * dum; Int3.*=H;\n",
    "    nhhat=-copy(uhat);nhhat.*=Dx;\n",
    "    Int1.-=Int2;Int1.-=Int3;Int1.*=Pi;Int1.*=epsilon;\n",
    "    nuhat=copy(hhat);nuhat.*=H;nuhat.+=Int1;\n",
    "    return (nhhat,nuhat)\n",
    "end\n",
    "@benchmark Fwave_plan(h0hat,u0hat)\n"
   ]
  },
  {
   "cell_type": "code",
   "execution_count": 9,
   "metadata": {},
   "outputs": [
    {
     "data": {
      "text/plain": [
       "BenchmarkTools.Trial: \n",
       "  memory estimate:  642.02 KiB\n",
       "  allocs estimate:  55\n",
       "  --------------\n",
       "  minimum time:     487.273 μs (0.00% GC)\n",
       "  median time:      540.420 μs (0.00% GC)\n",
       "  mean time:        665.661 μs (13.91% GC)\n",
       "  maximum time:     91.098 ms (99.30% GC)\n",
       "  --------------\n",
       "  samples:          7446\n",
       "  evals/sample:     1"
      ]
     },
     "execution_count": 9,
     "metadata": {},
     "output_type": "execute_result"
    }
   ],
   "source": [
    "#h=copy(h0hat);dum=copy(u0hat);Int1=copy(u0hat);Int2=copy(u0hat);Int3=copy(u0hat);nhhat=copy(u0hat);nuhat=copy(u0hat);\n",
    "function Fwave_prealloc(hhat,uhat)\n",
    "    #global h, dum, Int1, Int2, Int3, nhhat, nuhat\n",
    "    dum=similar(hhat); \n",
    "    #@PNavaro : je voudrais faire cette allocation (et d'autres) en dehors de la fonction (en utilisant global ? en ajoutant une variable ?), mais je n'arrive pas à le faire avec un gain de temps substantiel\n",
    "    h = Px \\ copy(hhat);\n",
    "    Int1=copy(uhat);Int1.*=Gamma; ldiv!(dum , Px , Int1); dum.^=2; mul!(Int1 , Px , dum); Int1.*=H; \n",
    "    Int2=copy(hhat);Int2.*=Dx; ldiv!(dum , Px , Int2); dum.*=h; mul!(Int2 , Px , dum);\n",
    "    Int3=copy(hhat);Int3.*=Gamma; ldiv!(dum,Px,Int3); dum.*=h; mul!(Int3 , Px , dum); Int3.*=H;\n",
    "    nhhat=-copy(uhat);nhhat.*=Dx;\n",
    "    Int1-=Int2;Int1.-=Int3;Int1.*=Pi;Int1.*=epsilon;\n",
    "    nuhat=copy(hhat);nuhat.*=H;nuhat.+=Int1;\n",
    "    return (nhhat,nuhat)\n",
    "end\n",
    "@benchmark Fwave_prealloc(h0hat,u0hat)"
   ]
  },
  {
   "cell_type": "markdown",
   "metadata": {},
   "source": [
    "Intégration en temps : RK4 (remplace la donnée)"
   ]
  },
  {
   "cell_type": "code",
   "execution_count": 10,
   "metadata": {},
   "outputs": [],
   "source": [
    "function RK4!(h,u,F,dt)\n",
    "    (h1,u1)=F(h,u)\n",
    "    (h2,u2)=F(h+dt/2*h1,u+dt/2*u1)\n",
    "    (h3,u3)=F(h+dt/2*h2,u+dt/2*u2)\n",
    "    (h4,u4)=F(h+dt*h3,u+dt*u3)\n",
    "    h.+=dt/6*(h1+2*h2+2*h3+h4)\n",
    "    u.+=dt/6*(u1+2*u2+2*u3+u4)\n",
    "end\n",
    "#@btime RK4!(h0hat,u0hat,Fwave,dt);"
   ]
  },
  {
   "cell_type": "markdown",
   "metadata": {},
   "source": [
    "wrap-up : intégration sur tous les pas de temps, écriture sur la donnée Us"
   ]
  },
  {
   "cell_type": "code",
   "execution_count": 11,
   "metadata": {},
   "outputs": [
    {
     "data": {
      "text/plain": [
       "solve (generic function with 1 method)"
      ]
     },
     "execution_count": 11,
     "metadata": {},
     "output_type": "execute_result"
    }
   ],
   "source": [
    "Us=[];Modeles=[];\n",
    "function solve(U0,F,times)\n",
    "    h=copy(U0[1]);u=copy(U0[2])\n",
    "    push!(Us,zeros(Complex{Float64},(mesh.nx,2,times.nt)))\n",
    "    (Us[end][:,1,1],Us[end][:,2,1])=(h,u)\n",
    "    prog = Progress(times.nt,1) # progress bar\n",
    "    for l in range(1,times.nt-1)\n",
    "        dt=times.t[l+1]-times.t[l]\n",
    "        #Compute one time step\n",
    "        RK4!(h,u,F,dt)\n",
    "        \n",
    "        #Store\n",
    "        (Us[end][:,1,l+1],Us[end][:,2,l+1])=(h,u)\n",
    "            \n",
    "        next!(prog) # increment the progress bar\n",
    "    end\n",
    "end"
   ]
  },
  {
   "cell_type": "markdown",
   "metadata": {},
   "source": [
    "Finalement les calculs : version naive, puis fft_plan, puis prealloc"
   ]
  },
  {
   "cell_type": "code",
   "execution_count": 12,
   "metadata": {},
   "outputs": [],
   "source": [
    "#print(\"*** Calculs WW2 ***\")\n",
    "#push!(Modeles,\"WW2\")\n",
    "#@time solve((h0hat,u0hat),FWW2,times);"
   ]
  },
  {
   "cell_type": "code",
   "execution_count": 13,
   "metadata": {},
   "outputs": [
    {
     "name": "stderr",
     "output_type": "stream",
     "text": [
      "\u001b[32mProgress:  96%|████████████████████████████████████████ |  ETA: 0:00:01\u001b[39m"
     ]
    },
    {
     "name": "stdout",
     "output_type": "stream",
     "text": [
      " 27.488521 seconds (12.26 M allocations: 34.798 GiB, 18.18% gc time)\n"
     ]
    }
   ],
   "source": [
    "#print(\"*** Calculs Cheng et al. ***\")\n",
    "push!(Modeles,\"Cheng et al. version naive\")\n",
    "@time solve((h0hat,u0hat),Fwave_naive,times);"
   ]
  },
  {
   "cell_type": "code",
   "execution_count": 14,
   "metadata": {},
   "outputs": [
    {
     "name": "stderr",
     "output_type": "stream",
     "text": [
      "\u001b[32mProgress:  95%|███████████████████████████████████████  |  ETA: 0:00:01\u001b[39m"
     ]
    },
    {
     "name": "stdout",
     "output_type": "stream",
     "text": [
      " 19.421957 seconds (1.84 M allocations: 23.866 GiB, 16.97% gc time)\n"
     ]
    }
   ],
   "source": [
    "#print(\"*** Calculs Cheng et al. ***\")\n",
    "push!(Modeles,\"Cheng et al. version fft_plan\")\n",
    "@time solve((h0hat,u0hat),Fwave_plan,times);"
   ]
  },
  {
   "cell_type": "code",
   "execution_count": 23,
   "metadata": {},
   "outputs": [
    {
     "name": "stderr",
     "output_type": "stream",
     "text": [
      "\u001b[32mProgress:  97%|████████████████████████████████████████ |  ETA: 0:00:00\u001b[39m"
     ]
    },
    {
     "name": "stdout",
     "output_type": "stream",
     "text": [
      " 16.955924 seconds (1.39 M allocations: 18.970 GiB, 15.91% gc time)\n"
     ]
    }
   ],
   "source": [
    "#print(\"*** Calculs Cheng et al. ***\")\n",
    "push!(Modeles,\"Cheng et al. version prealloc\")\n",
    "@time solve((h0hat,u0hat),Fwave_prealloc,times);"
   ]
  },
  {
   "cell_type": "code",
   "execution_count": 16,
   "metadata": {},
   "outputs": [],
   "source": [
    "#print(\"*** Calculs Matsuno ***\")\n",
    "#push!(Modeles,\"Matsuno\")\n",
    "#@time solve((h0hat,u0hat),Matsuno,times);"
   ]
  },
  {
   "cell_type": "code",
   "execution_count": 17,
   "metadata": {},
   "outputs": [],
   "source": [
    "#print(\"*** Calculs Saut-Xu ***\")\n",
    "#push!(Modeles,\"Saut-Xu\")\n",
    "#@time solve((h0hat,u0hat),SautXu,times);"
   ]
  },
  {
   "cell_type": "code",
   "execution_count": 18,
   "metadata": {},
   "outputs": [],
   "source": [
    "#print(\"*** Calculs WW2 modifié ***\")\n",
    "#push!(Modeles,\"WW2 modifié\")\n",
    "#@time solve((h0hat,u0hat),FWW2p,times);"
   ]
  },
  {
   "cell_type": "markdown",
   "metadata": {},
   "source": [
    "Graphiques"
   ]
  },
  {
   "cell_type": "code",
   "execution_count": 19,
   "metadata": {
    "scrolled": false
   },
   "outputs": [
    {
     "data": {
      "text/plain": [
       "fig (generic function with 1 method)"
      ]
     },
     "execution_count": 19,
     "metadata": {},
     "output_type": "execute_result"
    }
   ],
   "source": [
    "Labels=reshape(copy(Modeles),(1,length(Modeles)))\n",
    "function fig(t)\n",
    "    s=0\n",
    "    if indexin(false,times.t.<=t)[1]==nothing\n",
    "        index=length(times.t)\n",
    "        else index=indexin(false,times.t.<=t)\n",
    "    end\n",
    "    \n",
    "    p1 = plot(title=\"temps t=$t, ϵ=$epsilon\")\n",
    "    \n",
    "    for modele in range(1,size(Us)[end])\n",
    "    \n",
    "        (hhat,uhat)=(Us[modele][:,1,index],Us[modele][:,2,index])\n",
    "        (h,u)=(real(ifft((Gamma.^s).*hhat)),real(ifft(uhat)))\n",
    "\n",
    "        \n",
    "        p1 = plot!(mesh.x,h)\n",
    "    end\n",
    "        \n",
    "    p2 = plot()\n",
    "    \n",
    "    for modele in range(1,size(Us)[end])\n",
    "    \n",
    "        (hhat,uhat)=(Us[modele][:,1,index],Us[modele][:,2,index])\n",
    "        (h,u)=(real(ifft((Gamma.^s).*hhat)),real(ifft(uhat)))\n",
    "\n",
    "        p2 = plot!(fftshift(freq.k),log10.(1e-18.+abs.(fftshift(hhat))))\n",
    "        \n",
    "    end\n",
    "    p=plot(p1,p2,layout=(2,1),label=Labels)\n",
    "\n",
    "    display(p)\n",
    "end"
   ]
  },
  {
   "cell_type": "code",
   "execution_count": 24,
   "metadata": {},
   "outputs": [
    {
     "data": {
      "image/png": "[encoded data removed]",
      "text/plain": [
       "PyPlot.Figure(PyObject <Figure size 600x400 with 2 Axes>)"
      ]
     },
     "metadata": {},
     "output_type": "display_data"
    }
   ],
   "source": [
    "fig(5)\n",
    "#@PNavaro : Sais-tu comment afficher des plots interactifs ? (=possibilité de zoomer, bouton pour sauvegarder)"
   ]
  },
  {
   "cell_type": "code",
   "execution_count": 27,
   "metadata": {},
   "outputs": [
    {
     "data": {
      "text/plain": [
       "(0.0, 0.0)"
      ]
     },
     "execution_count": 27,
     "metadata": {},
     "output_type": "execute_result"
    }
   ],
   "source": [
    "norm(Us[2][:,:,:]-Us[1][:,:,:]),norm(Us[3][:,:,:]-Us[1][:,:,:],Inf)\n",
    "#@PNavaro : C'est possible qu'il n'y ait *aucune* différence entre deux simulations ?"
   ]
  },
  {
   "cell_type": "code",
   "execution_count": null,
   "metadata": {},
   "outputs": [],
   "source": []
  }
 ],
 "metadata": {
  "kernelspec": {
   "display_name": "Julia 1.0.1",
   "language": "julia",
   "name": "julia-1.0"
  },
  "language_info": {
   "file_extension": ".jl",
   "mimetype": "application/julia",
   "name": "julia",
   "version": "1.0.1"
  }
 },
 "nbformat": 4,
 "nbformat_minor": 2
}
