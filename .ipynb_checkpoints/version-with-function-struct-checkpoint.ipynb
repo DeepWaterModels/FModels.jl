{
 "cells": [
  {
   "cell_type": "code",
   "execution_count": 1,
   "metadata": {},
   "outputs": [
    {
     "data": {
      "text/plain": [
       "Plots.PyPlotBackend()"
      ]
     },
     "execution_count": 1,
     "metadata": {},
     "output_type": "execute_result"
    }
   ],
   "source": [
    "using  FFTW\n",
    "using  LinearAlgebra\n",
    "using  ProgressMeter\n",
    "using  BenchmarkTools\n",
    "using  Plots\n",
    "pyplot()\n",
    "include(\"mesh.jl\")\n",
    "include(\"freq.jl\")\n",
    "include(\"times.jl\")"
   ]
  },
  {
   "cell_type": "code",
   "execution_count": 5,
   "metadata": {},
   "outputs": [],
   "source": [
    "mutable struct Cheng\n",
    "\n",
    "    freq    :: Freq\n",
    "    label   :: String\n",
    "    data    :: Vector{Tuple{Vector{Complex{Float64}},Vector{Complex{Float64}}}}\n",
    "    Gamma   :: Array{Float64,1}\n",
    "    Dx      :: Array{Complex{Float64},1}\n",
    "    H       :: Array{Complex{Float64},1}\n",
    "    Pi      :: BitArray{1}\n",
    "    epsilon :: Float64\n",
    "    hnew    :: Vector{Complex{Float64}}\n",
    "    unew    :: Vector{Complex{Float64}}\n",
    "    \n",
    "    Int1    :: Vector{Complex{Float64}}\n",
    "    Int2    :: Vector{Complex{Float64}}\n",
    "    Int3    :: Vector{Complex{Float64}}\n",
    "    \n",
    "    Px      :: FFTW.FFTWPlan\n",
    "        \n",
    "    function Cheng(freq::Freq, epsilon::Float64)\n",
    "        label = \"Cheng et al.\"\n",
    "        data  = []\n",
    "        Gamma = abs.(freq.k)\n",
    "        Dx    =  1im * freq.k            # Differentiation\n",
    "        H     = -1im * sign.(freq.k)     # Hilbert transform\n",
    "        Pi    = Gamma .< freq.kmax * 2/3 # Dealiasing low-pass filter\n",
    "        \n",
    "        hnew = zeros(Complex{Float64}, freq.nk)\n",
    "        unew = zeros(Complex{Float64}, freq.nk)\n",
    "    \n",
    "        Int1 = zeros(Complex{Float64}, freq.nk)\n",
    "        Int2 = zeros(Complex{Float64}, freq.nk)\n",
    "        Int3 = zeros(Complex{Float64}, freq.nk)\n",
    "        \n",
    "        Px  = plan_fft(hnew; flags = FFTW.MEASURE)\n",
    "      \n",
    "        new(freq, label, data, Gamma, Dx, H, Pi, epsilon,\n",
    "            hnew, unew, Int1, Int2, Int3, Px)\n",
    "        \n",
    "    end\n",
    "end\n",
    "\n",
    "function (m::Cheng)!(h::Vector{Complex{Float64}},\n",
    "                     u::Vector{Complex{Float64}})\n",
    "         \n",
    "         ldiv!(m.hnew, m.Px , h)\n",
    "         \n",
    "         m.Int1  .= u\n",
    "         m.Int1 .*= Gamma\n",
    "         ldiv!(m.unew, m.Px , m.Int1)\n",
    "         m.unew  .^= 2\n",
    "         mul!(m.Int1, m.Px , m.unew)\n",
    "         m.Int1 .*= m.H\n",
    "         \n",
    "         m.Int2  .= m.h\n",
    "         m.Int2 .*= m.Dx\n",
    "         ldiv!(m.unew, m.Px , m.Int2)\n",
    "         m.unew  .*= m.hnew\n",
    "         mul!(m.Int2, m.Px , m.unew)\n",
    "         \n",
    "         m.Int3  .= h\n",
    "         m.Int3 .*= m.Gamma\n",
    "         ldiv!(m.unew, m.Px, m.Int3)\n",
    "         m.unew  .*= m.hnew\n",
    "         mul!(m.Int3 , m.Px , m.unew)\n",
    "         m.Int3 .*= m.H\n",
    "         \n",
    "         m.hnew  .= -u\n",
    "         m.hnew .*= m.Dx\n",
    "         \n",
    "         m.Int1 .-= m.Int2\n",
    "         m.Int1 .-= m.Int3\n",
    "         m.Int1 .*= m.Pi\n",
    "         m.Int1 .*= m.epsilon\n",
    "         \n",
    "         u  .= h\n",
    "         u .*= m.H\n",
    "         u .+= m.Int1\n",
    "         \n",
    "         h .= m.hnew\n",
    "         \n",
    "    end\n",
    "    \n",
    "end\n",
    "\n"
   ]
  },
  {
   "cell_type": "code",
   "execution_count": 6,
   "metadata": {},
   "outputs": [
    {
     "data": {
      "text/plain": [
       "step! (generic function with 1 method)"
      ]
     },
     "execution_count": 6,
     "metadata": {},
     "output_type": "execute_result"
    }
   ],
   "source": [
    "abstract type TimeSolver end\n",
    "\n",
    "mutable struct RK4 <: TimeSolver\n",
    "    \n",
    "    hhat :: Vector{Complex{Float64}}\n",
    "    uhat :: Vector{Complex{Float64}}\n",
    "    dh   :: Vector{Complex{Float64}}\n",
    "    du   :: Vector{Complex{Float64}}\n",
    "    \n",
    "    function RK4( n )\n",
    "        \n",
    "        hhat = zeros(Complex{Float64}, n)\n",
    "        uhat = zeros(Complex{Float64}, n)\n",
    "        du   = zeros(Complex{Float64}, n)\n",
    "        dh   = zeros(Complex{Float64}, n)\n",
    "        \n",
    "        new( hhat, uhat, du, dh)\n",
    "        \n",
    "    end\n",
    "    \n",
    "end\n",
    "\n",
    "function step!(s  :: RK4,\n",
    "               f  :: Function,\n",
    "               h  :: Vector{Complex{Float64}},\n",
    "               u  :: Vector{Complex{Float64}},\n",
    "               dt :: Float64)\n",
    "        \n",
    "    s.hhat .= h\n",
    "    s.uhat .= u\n",
    "    f( s.hhat, s.uhat)\n",
    "    s.dh .= s.hhat\n",
    "    s.du .= s.uhat\n",
    "    \n",
    "    s.hhat .= h .+ dt/2*s.hhat\n",
    "    s.uhat .= u .+ dt/2*s.uhat\n",
    "    f( s.hhat, s.uhat)\n",
    "    s.dh .+= 2 * s.hhat\n",
    "    s.du .+= 2 * s.uhat\n",
    "    \n",
    "    s.hhat .= h .+ dt/2*s.hhat\n",
    "    s.uhat .= u .+ dt/2*s.uhat\n",
    "    f( s.hhat, s.uhat)\n",
    "    s.dh .+= 2 * s.hhat\n",
    "    s.du .+= 2 * s.uhat\n",
    "    \n",
    "    s.hhat .= h .+ dt*s.hhat\n",
    "    s.uhat .= u .+ dt*s.uhat\n",
    "    f( s.hhat, s.uhat)\n",
    "    s.dh .+= s.hhat\n",
    "    s.du .+= s.uhat\n",
    "    \n",
    "    h .+= dt/6 * s.dh\n",
    "    u .+= dt/6 * s.du\n",
    "end\n",
    "    "
   ]
  },
  {
   "cell_type": "code",
   "execution_count": 7,
   "metadata": {},
   "outputs": [
    {
     "data": {
      "text/plain": [
       "solve! (generic function with 1 method)"
      ]
     },
     "execution_count": 7,
     "metadata": {},
     "output_type": "execute_result"
    }
   ],
   "source": [
    "function solve!(model::Cheng, h, u, times::Times, solver::TimeSolver)\n",
    "                \n",
    "    Gamma = model.Gamma\n",
    "    H     = model.H     # Hilbert transform\n",
    "    Dx    = model.Dx    # Differentiation\n",
    "    Pi    = model.Pi    # Dealiasing low-pass filter\n",
    "    \n",
    "    prog = Progress(times.nt,1) # progress bar\n",
    "    \n",
    "    model.data = []\n",
    "  \n",
    "    push!(model.data,(h,u))\n",
    "    for l in range(1,times.nt-1)\n",
    "        \n",
    "        dt = times.t[l+1]-times.t[l]\n",
    "        \n",
    "        step!( solver, fwave!, h, u, dt)\n",
    "    \n",
    "        push!(model.data,(h,u))   \n",
    "        next!(prog)\n",
    "    end\n",
    "            \n",
    "end"
   ]
  },
  {
   "cell_type": "code",
   "execution_count": 8,
   "metadata": {},
   "outputs": [],
   "source": [
    "mutable struct Matsuno\n",
    "    \n",
    "    freq    :: Freq\n",
    "    label   :: String\n",
    "    data    :: Vector{Tuple{Vector{Complex{Float64}},Vector{Complex{Float64}}}}\n",
    "    Gamma   :: Array{Float64,1}\n",
    "    Dx      :: Array{Complex{Float64},1}\n",
    "    H       :: Array{Complex{Float64},1}\n",
    "    Pi      :: BitArray{1}\n",
    "    epsilon :: Float64\n",
    "    hnew    :: Vector{Complex{Float64}}\n",
    "    unew    :: Vector{Complex{Float64}}\n",
    "    \n",
    "    Int1    :: Vector{Complex{Float64}}\n",
    "    Int2    :: Vector{Complex{Float64}}\n",
    "    Int3    :: Vector{Complex{Float64}}\n",
    "    \n",
    "    Px      :: FFTW.FFTWPlan\n",
    "\n",
    "    function Matsuno(freq::Freq, epsilon::Float64)\n",
    "        label = \"Matsuno\"\n",
    "        data  = []\n",
    "        Gamma = abs.(freq.k)\n",
    "        Dx    =  1im * freq.k            # Differentiation\n",
    "        H     = -1im * sign.(freq.k)     # Hilbert transform\n",
    "        Pi    = Gamma .< freq.kmax * 2/3 # Dealiasing low-pass filter\n",
    "        Px    = plan_fft(hnew; flags = FFTW.MEASURE)\n",
    "\n",
    "        new(freq, label, data, Gamma, Dx, H, Pi, epsilon,\n",
    "            hnew, unew, Int1, Int2, Int3, Px)\n",
    "    end\n",
    "end\n",
    "\n",
    "\n",
    "function fwave!(h::Vector{Complex{Float64}},\n",
    "                u::Vector{Complex{Float64}})\n",
    "    \n",
    "   # hnew .= real(ifft(h))\n",
    "   # unew .= real(ifft(u))\n",
    "   # Int3 .= fft(real(ifft(Dx.*h)).*real(ifft(Gamma.*h)))\n",
    " #\n",
    "   # Int1 .= H.*u-epsilon*Pi.*(H.*fft(hnew.*real(ifft(Gamma.*u))).+Dx.*fft(hnew.*unew))\n",
    "   # Int2 .= -(Dx.*h)-epsilon/2*Pi.*(Dx.*fft(unew.^2))+epsilon*Pi.*Int3\n",
    "   # \n",
    "   # h .= Int1\n",
    "   # u .= Int2\n",
    "     \n",
    "    hnew .= Gamma \n",
    "    hnew .*= h         \n",
    "    ldiv!(unew, Px, hnew )   \n",
    "    hnew .= Dx \n",
    "    hnew .*= h            \n",
    "    ldiv!(Int1, Px, hnew)    \n",
    "    unew .*= Int1            \n",
    "    mul!(Int1, Px, unew)     \n",
    "    Int1 .*= epsilon*Pi\n",
    "    Int2 .= Dx .* h\n",
    "    Int1 .-= Int2\n",
    "    ldiv!(hnew, Px, h)\n",
    "    ldiv!(unew, Px, u)\n",
    "    Int2  .= hnew .* unew\n",
    "    mul!(Int3, Px, Int2)\n",
    "    Int3 .*= Dx\n",
    "    h     .= H.*u\n",
    "    u    .*= Gamma\n",
    "    ldiv!(Int2, Px, u)\n",
    "    Int2 .*= hnew\n",
    "    mul!(u, Px, Int2)\n",
    "    u    .*= H\n",
    "    Int3 .+= u\n",
    "    Int3 .*= epsilon * Pi\n",
    "    h    .-= Int3     \n",
    "    Int3  .= unew.^2\n",
    "    mul!(unew, Px, Int3)\n",
    "    unew  .*= Dx\n",
    "    unew  .*= epsilon/2 * Pi \n",
    "    Int1  .-= unew\n",
    "    u .= Int1\n",
    "end\n",
    "    "
   ]
  },
  {
   "cell_type": "code",
   "execution_count": 9,
   "metadata": {},
   "outputs": [
    {
     "data": {
      "text/plain": [
       "solve! (generic function with 2 methods)"
      ]
     },
     "execution_count": 9,
     "metadata": {},
     "output_type": "execute_result"
    }
   ],
   "source": [
    "function solve!(model::Matsuno, h, u, times::Times, solver::TimeSolver)\n",
    "                \n",
    "    Gamma = model.Gamma\n",
    "    H     = model.H     # Hilbert transform\n",
    "    Dx    = model.Dx    # Differentiation\n",
    "    Pi    = model.Pi    # Dealiasing low-pass filter\n",
    "    \n",
    "    prog = Progress(times.nt,1) # progress bar\n",
    "    \n",
    "    \n",
    "    model.data = []\n",
    "  \n",
    "    push!(model.data,(h,u))\n",
    "    for l in range(1,times.nt-1)\n",
    "        \n",
    "        dt = times.t[l+1]-times.t[l]\n",
    "        \n",
    "        step!( solver, fwave!, h, u, dt)\n",
    "    \n",
    "        push!(model.data,(h,u))   \n",
    "        next!(prog)\n",
    "    end\n",
    "            \n",
    "end"
   ]
  },
  {
   "cell_type": "code",
   "execution_count": 10,
   "metadata": {},
   "outputs": [
    {
     "data": {
      "text/plain": [
       "fig (generic function with 1 method)"
      ]
     },
     "execution_count": 10,
     "metadata": {},
     "output_type": "execute_result"
    }
   ],
   "source": [
    "function fig(t, times::Times, models, mesh::Mesh)\n",
    "        \n",
    "    s = 0\n",
    "    if indexin(false,times.t.<=t)[1]==nothing\n",
    "        index=length(times.t)\n",
    "    else \n",
    "        index=indexin(false,times.t.<=t)\n",
    "    end\n",
    "    \n",
    "    p = plot(layout=(2,1))\n",
    "    \n",
    "    for model in models\n",
    "        (hhat,uhat)=model.data[index]\n",
    "        (h,u)=(real(ifft((model.Gamma.^s).*hhat)),real(ifft(uhat)))\n",
    "        plot!(p[1,1], mesh.x,h; label=model.label)\n",
    "        plot!(p[2,1], fftshift(model.freq.k),log10.(1e-18.+abs.(fftshift(hhat))); \n",
    "            label=model.label)  \n",
    "    end\n",
    "    \n",
    "    display(p)\n",
    "end"
   ]
  },
  {
   "cell_type": "code",
   "execution_count": 11,
   "metadata": {},
   "outputs": [
    {
     "data": {
      "text/plain": [
       "run_simulations (generic function with 1 method)"
      ]
     },
     "execution_count": 11,
     "metadata": {},
     "output_type": "execute_result"
    }
   ],
   "source": [
    "function run_simulations(mesh::Mesh, models, times::Times)\n",
    "   \n",
    "    solver = RK4( mesh.nx )\n",
    "\n",
    "    for model in models\n",
    "        \n",
    "        h  = zeros(Complex{Float64}, mesh.nx)\n",
    "        h .= exp.(-mesh.x.^2)\n",
    "        h .= model.Pi .* fft(h)\n",
    "        u  = zeros(Complex{Float64}, mesh.nx)\n",
    "        u .= model.Pi .* fft(u)\n",
    "        \n",
    "        solve!(model, h, u, times, solver )\n",
    "    end\n",
    "    \n",
    "end"
   ]
  },
  {
   "cell_type": "code",
   "execution_count": 13,
   "metadata": {},
   "outputs": [
    {
     "name": "stdout",
     "output_type": "stream",
     "text": [
      "(epsilon, N, L, T, dt) = (0.5, 4096, 10, 5, 0.001)\n"
     ]
    },
    {
     "name": "stderr",
     "output_type": "stream",
     "text": [
      "\u001b[32mProgress:  90%|█████████████████████████████████████    |  ETA: 0:00:01\u001b[39m"
     ]
    },
    {
     "data": {
      "image/png": "[encoded data removed]",
      "text/plain": [
       "PyPlot.Figure(PyObject <Figure size 600x400 with 2 Axes>)"
      ]
     },
     "metadata": {},
     "output_type": "display_data"
    },
    {
     "name": "stdout",
     "output_type": "stream",
     "text": [
      " 10.487449 seconds (1.14 M allocations: 10.428 GiB, 8.86% gc time)\n"
     ]
    }
   ],
   "source": [
    "epsilon = 1/2\n",
    "N       = 2^12\n",
    "L       = 10\n",
    "T       = 5\n",
    "dt      = 0.001\n",
    "\n",
    "@show epsilon,N,L,T,dt\n",
    "\n",
    "mesh  = Mesh(-L, L, N)\n",
    "freq  = Freq(mesh.dx, N)\n",
    "times = Times(dt, T)\n",
    "\n",
    "models = []\n",
    "(fwave!::Cheng)() = fwave!(freq, epsilon)\n",
    "push!(models, fwave!)\n",
    "(fwave!::Matsuno)() = fwave!(freq, epsilon)\n",
    "push!(models, fwave!)\n",
    "    \n",
    "@time run_simulations(mesh, models, times)\n",
    "fig(5, times, models, mesh)"
   ]
  },
  {
   "cell_type": "code",
   "execution_count": null,
   "metadata": {},
   "outputs": [],
   "source": []
  }
 ],
 "metadata": {
  "kernelspec": {
   "display_name": "Julia 1.0.1",
   "language": "julia",
   "name": "julia-1.0"
  },
  "language_info": {
   "file_extension": ".jl",
   "mimetype": "application/julia",
   "name": "julia",
   "version": "1.0.1"
  }
 },
 "nbformat": 4,
 "nbformat_minor": 2
}
