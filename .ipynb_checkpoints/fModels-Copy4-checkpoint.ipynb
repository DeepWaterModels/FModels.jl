{
 "cells": [
  {
   "cell_type": "code",
   "execution_count": 1,
   "metadata": {},
   "outputs": [
    {
     "data": {
      "text/plain": [
       "Plots.PyPlotBackend()"
      ]
     },
     "execution_count": 1,
     "metadata": {},
     "output_type": "execute_result"
    }
   ],
   "source": [
    "using  FFTW\n",
    "using  LinearAlgebra\n",
    "using  ProgressMeter\n",
    "using  BenchmarkTools\n",
    "using  Plots\n",
    "pyplot()"
   ]
  },
  {
   "cell_type": "code",
   "execution_count": 2,
   "metadata": {},
   "outputs": [],
   "source": [
    "struct Mesh\n",
    "    \n",
    "    nx   :: Int\n",
    "    xmin :: Float64\n",
    "    xmax :: Float64\n",
    "    dx   :: Float64\n",
    "    x    :: Vector{Float64}\n",
    "    \n",
    "    function Mesh( xmin, xmax, nx)\n",
    "        dx = (xmax-xmin)/nx\n",
    "        x = range(xmin, stop=xmax, length=nx+1)[1:end-1] \n",
    "        new( nx, xmin, xmax, dx, x)\n",
    "    end\n",
    "end"
   ]
  },
  {
   "cell_type": "code",
   "execution_count": 3,
   "metadata": {},
   "outputs": [],
   "source": [
    "struct Freq\n",
    "    \n",
    "    nk   :: Int\n",
    "    kmin :: Float64\n",
    "    kmax :: Float64\n",
    "    dk   :: Float64\n",
    "    k    :: Vector{Float64}\n",
    "    \n",
    "    function Freq( dx, nk)\n",
    "        dk = 2π/(nk*dx)\n",
    "        kmin = -nk/2*dk\n",
    "        kmax = (nk/2-1)*dk\n",
    "        k = [range(0, length=nk ÷ 2, step = dk) ; range(kmin, length=nk ÷ 2, step = dk) ]\n",
    "        new( nk, kmin, kmax, dk, k)\n",
    "    end\n",
    "end"
   ]
  },
  {
   "cell_type": "code",
   "execution_count": 4,
   "metadata": {},
   "outputs": [],
   "source": [
    "struct Times\n",
    "    \n",
    "    nt   :: Int\n",
    "    tfin :: Float64\n",
    "    dt   :: Float64\n",
    "    t    :: Vector{Float64}\n",
    "    \n",
    "    function Times( dt, tfin)\n",
    "        t = range(0, stop=tfin, step = dt)\n",
    "        nt = length(t)\n",
    "        new( nt, tfin, dt, t)\n",
    "    end\n",
    "end"
   ]
  },
  {
   "cell_type": "code",
   "execution_count": 160,
   "metadata": {},
   "outputs": [
    {
     "data": {
      "text/plain": [
       "fig (generic function with 2 methods)"
      ]
     },
     "execution_count": 160,
     "metadata": {},
     "output_type": "execute_result"
    }
   ],
   "source": [
    "function fig(t, times, Gamma, freq, Modeles, epsilon, mesh)\n",
    "        \n",
    "    Labels = keys(Modeles)\n",
    "    s = 0\n",
    "    if indexin(false,times.t.<=t)[1]==nothing\n",
    "        index=length(times.t)\n",
    "    else \n",
    "        index=indexin(false,times.t.<=t)\n",
    "    end\n",
    "    \n",
    "    p = plot(layout=(2,1))\n",
    "    \n",
    "    for label in Labels\n",
    "        (hhat,uhat)=Modeles[label][index]\n",
    "        (h,u)=(real(ifft((Gamma.^s).*hhat)),real(ifft(uhat)))\n",
    "        plot!(p[1,1], mesh.x,h; label=string(label))\n",
    "        plot!(p[2,1], fftshift(freq.k),log10.(1e-18.+abs.(fftshift(hhat))); label=string(label))  \n",
    "    end\n",
    "    \n",
    "    display(p)\n",
    "end"
   ]
  },
  {
   "cell_type": "code",
   "execution_count": 161,
   "metadata": {},
   "outputs": [
    {
     "data": {
      "text/plain": [
       "run (generic function with 3 methods)"
      ]
     },
     "execution_count": 161,
     "metadata": {},
     "output_type": "execute_result"
    }
   ],
   "source": [
    "\n",
    "function run(mesh::Mesh, freq::Freq, times::Times, Gamma::Vector{Float64})\n",
    "    \n",
    "    function solve!(h, u, times)\n",
    "                \n",
    "        prog = Progress(times.nt,1) # progress bar\n",
    "        \n",
    "        dh, du = similar(h), similar(u)\n",
    "        hhat, uhat = similar(h), similar(u)\n",
    "        hnew, unew = similar(h), similar(u)\n",
    "        \n",
    "        Int1 = similar(u)\n",
    "        Int2 = similar(h)\n",
    "        Int3 = similar(h)\n",
    "        \n",
    "        Px  = plan_fft(hnew; flags = FFTW.MEASURE)\n",
    "\n",
    "        function fwave!(h::Vector{Complex{Float64}},\n",
    "                        u::Vector{Complex{Float64}})\n",
    "             \n",
    "             ldiv!(hnew, Px , h)\n",
    "             \n",
    "             Int1  .= u\n",
    "             Int1 .*= Gamma\n",
    "             ldiv!(unew, Px , Int1)\n",
    "             unew  .^= 2\n",
    "             mul!(Int1, Px , unew)\n",
    "             Int1 .*= H\n",
    "             \n",
    "             Int2  .= h\n",
    "             Int2 .*= Dx\n",
    "             ldiv!(unew, Px , Int2)\n",
    "             unew  .*= hnew\n",
    "             mul!(Int2, Px , unew)\n",
    "             \n",
    "             Int3  .= h\n",
    "             Int3 .*= Gamma\n",
    "             ldiv!(unew, Px, Int3)\n",
    "             unew  .*= hnew\n",
    "             mul!(Int3 , Px , unew)\n",
    "             Int3 .*= H\n",
    "             \n",
    "             hnew  .= -u\n",
    "             hnew .*= Dx\n",
    "             \n",
    "             Int1 .-= Int2\n",
    "             Int1 .-= Int3\n",
    "             Int1 .*= Pi\n",
    "             Int1 .*= epsilon\n",
    "             \n",
    "             u  .= h\n",
    "             u .*= H\n",
    "             u .+= Int1\n",
    "             \n",
    "             h .= hnew\n",
    "             \n",
    "        end\n",
    "    \n",
    "        function rk4!( h::Vector{Complex{Float64}},\n",
    "                       u::Vector{Complex{Float64}})\n",
    "            \n",
    "            hhat .= h\n",
    "            uhat .= u\n",
    "            fwave!( hhat, uhat)\n",
    "            dh .= hhat\n",
    "            du .= uhat\n",
    "            \n",
    "            hhat .= h .+ dt/2*hhat\n",
    "            uhat .= u .+ dt/2*uhat\n",
    "            fwave!( hhat,uhat)\n",
    "            dh .+= 2 * hhat\n",
    "            du .+= 2 * uhat\n",
    "            \n",
    "            hhat .= h .+ dt/2*hhat\n",
    "            uhat .= u .+ dt/2*uhat\n",
    "            fwave!( hhat, uhat)\n",
    "            dh .+= 2 * hhat\n",
    "            du .+= 2 * uhat\n",
    "            \n",
    "            hhat .= h .+ dt*hhat\n",
    "            uhat .= u .+ dt*uhat\n",
    "            fwave!( hhat, uhat)\n",
    "            dh .+= hhat\n",
    "            du .+= uhat\n",
    "            \n",
    "            h .+= dt/6 * dh\n",
    "            u .+= dt/6 * du\n",
    "        end\n",
    "        \n",
    "        label = \"Cheng et al.\"\n",
    "        Modeles[label] = []\n",
    "      \n",
    "        push!(Modeles[label],(h,u))\n",
    "        for l in range(1,times.nt-1)\n",
    "            \n",
    "            dt = times.t[l+1]-times.t[l]\n",
    "            \n",
    "            rk4!( h, u)\n",
    "        \n",
    "            push!(Modeles[label],(h,u))   \n",
    "            next!(prog) # increment the progress bar\n",
    "        end\n",
    "                \n",
    "    end\n",
    "    \n",
    "    H     = -1im * sign.(freq.k)     # Hilbert transform\n",
    "    Dx    =  1im * freq.k            # Differentiation\n",
    "    Pi    = Gamma .< freq.kmax * 2/3 # Dealiasing low-pass filter\n",
    "    \n",
    "    h     = zeros(Complex{Float64},N)\n",
    "    h    .= exp.(-mesh.x.^2)\n",
    "    fft!(h)\n",
    "    h    .= Pi .* h\n",
    "    u     = zeros(Complex{Float64},N)\n",
    "    fft!(u)\n",
    "    u    .= Pi .* u\n",
    "    \n",
    "    solve!(h, u, times )\n",
    "    \n",
    "end"
   ]
  },
  {
   "cell_type": "code",
   "execution_count": 162,
   "metadata": {},
   "outputs": [
    {
     "name": "stdout",
     "output_type": "stream",
     "text": [
      "(epsilon, N, L, T, dt) = (0.5, 4096, 10, 5, 0.001)\n"
     ]
    },
    {
     "name": "stderr",
     "output_type": "stream",
     "text": [
      "\u001b[32mProgress:  94%|███████████████████████████████████████  |  ETA: 0:00:00\u001b[39m"
     ]
    },
    {
     "data": {
      "image/png": "[encoded data removed]",
      "text/plain": [
       "PyPlot.Figure(PyObject <Figure size 600x400 with 2 Axes>)"
      ]
     },
     "metadata": {},
     "output_type": "display_data"
    },
    {
     "name": "stdout",
     "output_type": "stream",
     "text": [
      "  5.728559 seconds (1.56 M allocations: 4.944 GiB, 14.10% gc time)\n"
     ]
    }
   ],
   "source": [
    "epsilon = 1/2\n",
    "N       = 2^12\n",
    "L       = 10\n",
    "T       = 5\n",
    "dt      = 0.001\n",
    "\n",
    "@show epsilon,N,L,T,dt\n",
    "\n",
    "mesh  = Mesh(-L, L, N)\n",
    "freq  = Freq(mesh.dx, N)\n",
    "times = Times(dt, T)\n",
    "\n",
    "Gamma   = abs.(freq.k)\n",
    "Modeles = Dict()\n",
    "    \n",
    "@time run(mesh, freq, times, Gamma)\n",
    "fig(5, times, Gamma, freq, Modeles, epsilon, mesh)"
   ]
  },
  {
   "cell_type": "code",
   "execution_count": null,
   "metadata": {},
   "outputs": [],
   "source": [
    "a = collect(1:9)\n",
    "b = copy(a)\n",
    "a, b .= a .* 2, b .* 3"
   ]
  },
  {
   "cell_type": "code",
   "execution_count": null,
   "metadata": {},
   "outputs": [],
   "source": []
  }
 ],
 "metadata": {
  "kernelspec": {
   "display_name": "Julia 1.0.1",
   "language": "julia",
   "name": "julia-1.0"
  },
  "language_info": {
   "file_extension": ".jl",
   "mimetype": "application/julia",
   "name": "julia",
   "version": "1.0.1"
  }
 },
 "nbformat": 4,
 "nbformat_minor": 2
}
