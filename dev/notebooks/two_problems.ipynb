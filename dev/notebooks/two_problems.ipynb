{
 "cells": [
  {
   "outputs": [],
   "cell_type": "markdown",
   "source": [
    "# Two deep water problems"
   ],
   "metadata": {}
  },
  {
   "outputs": [],
   "cell_type": "code",
   "source": [
    "using DeepWaterModels\n",
    "using FFTW\n",
    "using Plots"
   ],
   "metadata": {},
   "execution_count": null
  },
  {
   "outputs": [],
   "cell_type": "code",
   "source": [
    "function fig_problem!( p, problem::Problem )\n",
    "\n",
    "    s = 0\n",
    "    (hhat,uhat) = problem.data[end]\n",
    "    (hr,ur)     = (real(ifft((problem.model.Gamma.^s).*hhat)),\n",
    "\t\t   real(ifft(uhat)))\n",
    "\n",
    "    plot!(p[1,1], problem.model.mesh.x, hr;\n",
    "\t\t  title=\"physical space\",\n",
    "\t          label=problem.model.label)\n",
    "\n",
    "    plot!(p[2,1], fftshift(problem.model.mesh.k),\n",
    "                  log10.(1e-18.+abs.(fftshift(hhat)));\n",
    "\t\t  title=\"frequency\",\n",
    "    \t          label=problem.model.label)\n",
    "\n",
    "end"
   ],
   "metadata": {},
   "execution_count": null
  },
  {
   "outputs": [],
   "cell_type": "code",
   "source": [
    "param = Parameters( ϵ  = 1/2,\n",
    "                    N  = 2^12,\n",
    "                    L  = 10,\n",
    "                    T  = 5,\n",
    "                    dt = 0.001)\n",
    "\n",
    "init     = BellCurve(param)\n",
    "solver   = RK4(param)\n",
    "\n",
    "model    = CGBSW(param)\n",
    "problem1 = Problem(model, init, param, solver)\n",
    "\n",
    "matsuno  = Matsuno(param)\n",
    "problem2 = Problem(matsuno, init, param, solver);"
   ],
   "metadata": {},
   "execution_count": null
  },
  {
   "outputs": [],
   "cell_type": "code",
   "source": [
    "p = plot(layout=(2,1))\n",
    "\n",
    "problems = [ problem1, problem2 ]\n",
    "\n",
    "for problem in problems\n",
    "\n",
    "   solve!( problem )\n",
    "   fig_problem!( p, problem )\n",
    "\n",
    "end\n",
    "\n",
    "savefig(\"two_problems.png\"); nothing # hide"
   ],
   "metadata": {},
   "execution_count": null
  },
  {
   "outputs": [],
   "cell_type": "markdown",
   "source": [
    "*This notebook was generated using [Literate.jl](https://github.com/fredrikekre/Literate.jl).*"
   ],
   "metadata": {}
  }
 ],
 "nbformat_minor": 3,
 "metadata": {
  "language_info": {
   "file_extension": ".jl",
   "mimetype": "application/julia",
   "name": "julia",
   "version": "1.0.2"
  },
  "kernelspec": {
   "name": "julia-1.0",
   "display_name": "Julia 1.0.2",
   "language": "julia"
  }
 },
 "nbformat": 4
}
