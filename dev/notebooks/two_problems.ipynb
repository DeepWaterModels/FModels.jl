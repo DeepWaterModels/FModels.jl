{
 "cells": [
  {
   "outputs": [],
   "cell_type": "markdown",
   "source": [
    "# Two deep water problems"
   ],
   "metadata": {}
  },
  {
   "outputs": [],
   "cell_type": "code",
   "source": [
    "#using DeepWaterModels\n",
    "include(\"../src/dependencies.jl\")"
   ],
   "metadata": {},
   "execution_count": null
  },
  {
   "outputs": [],
   "cell_type": "code",
   "source": [
    "param = ( ϵ  = 1/2,\n",
    "        \tN  = 2^12,\n",
    "            L  = 10,\n",
    "            T  = 5,\n",
    "            dt = 0.001)\n",
    "\n",
    "init     = BellCurve(param)\n",
    "\n",
    "model1    = CGBSW(param)\n",
    "solver1   = RK4(param,model1)\n",
    "problem1 = Problem(model1, init, param, solver1);\n",
    "\n",
    "model2  = Matsuno(param)\n",
    "solver2   = RK4(param,model2)\n",
    "problem2 = Problem(model2, init, param, solver2);"
   ],
   "metadata": {},
   "execution_count": null
  },
  {
   "outputs": [],
   "cell_type": "code",
   "source": [
    "p = plot(layout=(2,1))\n",
    "\n",
    "problems = [ problem1, problem2 ]\n",
    "\n",
    "for problem in problems\n",
    "\tprint(\"\\nNow solving the model \",problem.model.label,\"\\n\")\n",
    "   \t@time solve!( problem )\n",
    "   \tfig_problem!( p, problem )\n",
    "\n",
    "end\n",
    "\n",
    "#savefig(\"two_problems.png\"); nothing # hide\n",
    "display(p)"
   ],
   "metadata": {},
   "execution_count": null
  },
  {
   "outputs": [],
   "cell_type": "markdown",
   "source": [
    "*This notebook was generated using [Literate.jl](https://github.com/fredrikekre/Literate.jl).*"
   ],
   "metadata": {}
  }
 ],
 "nbformat_minor": 3,
 "metadata": {
  "language_info": {
   "file_extension": ".jl",
   "mimetype": "application/julia",
   "name": "julia",
   "version": "1.2.0-DEV.322"
  },
  "kernelspec": {
   "name": "julia-1.2",
   "display_name": "Julia 1.2.0-DEV.322",
   "language": "julia"
  }
 },
 "nbformat": 4
}
