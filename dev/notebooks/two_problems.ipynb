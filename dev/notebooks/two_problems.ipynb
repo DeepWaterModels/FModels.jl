{
 "cells": [
  {
   "outputs": [],
   "cell_type": "markdown",
   "source": [
    "# Two water problems"
   ],
   "metadata": {}
  },
  {
   "outputs": [],
   "cell_type": "code",
   "source": [
    "#using ShallowWaterModels\n",
    "include(\"../src/dependencies.jl\")"
   ],
   "metadata": {},
   "execution_count": null
  },
  {
   "outputs": [],
   "cell_type": "code",
   "source": [
    "param = ( μ  = 1/20,\n",
    "\t\t\tϵ  = 1/2,\n",
    "        \tN  = 2^11,\n",
    "            L  = 20,\n",
    "            T  = 15,\n",
    "            dt = 0.001,\n",
    "\t\t\ttheta = 2)\n",
    "\n",
    "init     = BellCurve(param)\n",
    "\n",
    "model1    = fdBoussinesq_1b(param)\n",
    "solver1   = RK4(param,model1)\n",
    "problem1 = Problem(model1, init, param, solver1);\n",
    "\n",
    "model2  = fdBoussinesq_1(param)\n",
    "solver2   = RK4(param,model2)\n",
    "problem2 = Problem(model2, init, param, solver2);"
   ],
   "metadata": {},
   "execution_count": null
  },
  {
   "outputs": [],
   "cell_type": "code",
   "source": [
    "p = plot(layout=(2,1))\n",
    "\n",
    "problems = [ problem1, problem2 ]\n",
    "\n",
    "for problem in problems\n",
    "\tprint(\"\\nNow solving the model \",problem.model.label,\"\\n\")\n",
    "   \t@time solve!( problem )\n",
    "   \tfig_problem!( p, problem )\n",
    "\n",
    "end"
   ],
   "metadata": {},
   "execution_count": null
  },
  {
   "outputs": [],
   "cell_type": "markdown",
   "source": [
    "display(p)"
   ],
   "metadata": {}
  },
  {
   "outputs": [],
   "cell_type": "code",
   "source": [
    "savefig(\"two_problems.png\")"
   ],
   "metadata": {},
   "execution_count": null
  },
  {
   "outputs": [],
   "cell_type": "markdown",
   "source": [
    "---\n",
    "\n",
    "*This notebook was generated using [Literate.jl](https://github.com/fredrikekre/Literate.jl).*"
   ],
   "metadata": {}
  }
 ],
 "nbformat_minor": 3,
 "metadata": {
  "language_info": {
   "file_extension": ".jl",
   "mimetype": "application/julia",
   "name": "julia",
   "version": "1.3.1"
  },
  "kernelspec": {
   "name": "julia-1.3",
   "display_name": "Julia 1.3.1",
   "language": "julia"
  }
 },
 "nbformat": 4
}
