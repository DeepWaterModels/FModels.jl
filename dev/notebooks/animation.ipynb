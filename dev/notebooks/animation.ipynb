{
 "cells": [
  {
   "outputs": [],
   "cell_type": "code",
   "source": [
    "using DeepWaterModels\n",
    "using FFTW\n",
    "using Plots\n",
    "using ProgressMeter"
   ],
   "metadata": {},
   "execution_count": null
  },
  {
   "outputs": [],
   "cell_type": "code",
   "source": [
    "param = Parameters( ϵ  = 1/2,\n",
    "                    N  = 2^12,\n",
    "                    L  = 10,\n",
    "                    T  = 5.0,\n",
    "                    dt = 0.001)\n",
    "\n",
    "bump    = Bump(param,1)\n",
    "solver  = RK4(param)\n",
    "cheng   = CGBSW(param)\n",
    "times   = Times(param.dt, param.T)"
   ],
   "metadata": {},
   "execution_count": null
  },
  {
   "outputs": [],
   "cell_type": "code",
   "source": [
    "function create_animation( bump, solver, cheng, times )\n",
    "\n",
    "\n",
    "    h = cheng.Pi .* fft(bump.h)\n",
    "    u = cheng.Pi .* fft(bump.u)\n",
    "\n",
    "    prog = Progress(times.Nt,1)\n",
    "\n",
    "    hr = real(similar(h))\n",
    "\n",
    "    anim = @animate for l in range(1,times.Nt-1)\n",
    "\n",
    "        dt = times.t[l+1]-times.t[l]\n",
    "\n",
    "        step!(solver, cheng, h, u, dt)\n",
    "\n",
    "        p = plot(layout=(2,1))\n",
    "\n",
    "        hr = real(ifft(h))\n",
    "\n",
    "        plot!(p[1,1], cheng.mesh.x, hr;\n",
    "\t          ylims=(-0.6,1),\n",
    "        \t  title=\"physical space\",\n",
    "              label=cheng.label)\n",
    "\n",
    "        plot!(p[2,1], fftshift(cheng.mesh.k),\n",
    "              log10.(1e-18.+abs.(fftshift(h)));\n",
    "        \t  title=\"frequency\",\n",
    "          label=cheng.label)\n",
    "\n",
    "        next!(prog)\n",
    "\n",
    "    end when mod(l, 200) == 0\n",
    "\n",
    "    gif(anim, \"anim.gif\", fps=15); nothing\n",
    "\n",
    "end"
   ],
   "metadata": {},
   "execution_count": null
  },
  {
   "outputs": [],
   "cell_type": "markdown",
   "source": [
    "@time create_animation( bump, solver, cheng, times )"
   ],
   "metadata": {}
  },
  {
   "outputs": [],
   "cell_type": "markdown",
   "source": [
    "*This notebook was generated using [Literate.jl](https://github.com/fredrikekre/Literate.jl).*"
   ],
   "metadata": {}
  }
 ],
 "nbformat_minor": 3,
 "metadata": {
  "language_info": {
   "file_extension": ".jl",
   "mimetype": "application/julia",
   "name": "julia",
   "version": "1.0.2"
  },
  "kernelspec": {
   "name": "julia-1.0",
   "display_name": "Julia 1.0.2",
   "language": "julia"
  }
 },
 "nbformat": 4
}
