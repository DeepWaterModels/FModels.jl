{
 "cells": [
  {
   "outputs": [],
   "cell_type": "code",
   "source": [
    "#using DeepWaterModels\n",
    "include(\"../src/dependencies.jl\")"
   ],
   "metadata": {},
   "execution_count": null
  },
  {
   "outputs": [],
   "cell_type": "code",
   "source": [
    "param = ( ϵ  = 1/2,\n",
    "          N  = 2^12,\n",
    "          L  = 10,\n",
    "          T  = 5.0,\n",
    "          dt = 0.001,\n",
    "          theta = 2.5)\n",
    "\n",
    "initial = BellCurve(param)\n",
    "solver  = RK4(param)\n",
    "model   = Matsuno(param)\n",
    "problem = Problem( model, initial, param )"
   ],
   "metadata": {},
   "execution_count": null
  },
  {
   "outputs": [],
   "cell_type": "code",
   "source": [
    "print(\"\\nNow solving the model \",problem.model.label,\"\\n\")\n",
    "@time solve!( problem )"
   ],
   "metadata": {},
   "execution_count": null
  },
  {
   "outputs": [],
   "cell_type": "code",
   "source": [
    "print(\"\\nNow generating the animation\\n\")\n",
    "@time create_animation( problem )"
   ],
   "metadata": {},
   "execution_count": null
  },
  {
   "outputs": [],
   "cell_type": "markdown",
   "source": [
    "*This notebook was generated using [Literate.jl](https://github.com/fredrikekre/Literate.jl).*"
   ],
   "metadata": {}
  }
 ],
 "nbformat_minor": 3,
 "metadata": {
  "language_info": {
   "file_extension": ".jl",
   "mimetype": "application/julia",
   "name": "julia",
   "version": "1.0.4"
  },
  "kernelspec": {
   "name": "julia-1.0",
   "display_name": "Julia 1.0.4",
   "language": "julia"
  }
 },
 "nbformat": 4
}
