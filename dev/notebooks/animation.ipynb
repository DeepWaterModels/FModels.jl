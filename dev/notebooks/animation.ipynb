{
 "cells": [
  {
   "outputs": [],
   "cell_type": "code",
   "source": [
    "using DeepWaterModels\n",
    "using FFTW\n",
    "using Plots\n",
    "using ProgressMeter"
   ],
   "metadata": {},
   "execution_count": null
  },
  {
   "outputs": [],
   "cell_type": "code",
   "source": [
    "param = Parameters( ϵ  = 1/2,\n",
    "                    N  = 2^12,\n",
    "                    L  = 10,\n",
    "                    T  = 5.0,\n",
    "                    dt = 0.001)\n",
    "\n",
    "initial = BellCurve(param,2.5)\n",
    "solver  = RK4(param)\n",
    "model   = CGBSW(param)\n",
    "problem = Problem( model, initial, param, solver )"
   ],
   "metadata": {},
   "execution_count": null
  },
  {
   "outputs": [],
   "cell_type": "code",
   "source": [
    "function create_animation( p::Problem )\n",
    "\n",
    "\th = construct(p.model,p.initial)[1]\n",
    "    u = construct(p.model,p.initial)[2]\n",
    "\n",
    "    prog = Progress(p.times.Nt,1)\n",
    "\n",
    "    hr = real(similar(h))\n",
    "\n",
    "    anim = @animate for l in range(1,p.times.Nt-1)\n",
    "\n",
    "        dt = p.times.t[l+1]-p.times.t[l]\n",
    "\n",
    "        step!(p.solver, p.model, h, u, dt)\n",
    "\n",
    "        pl = plot(layout=(2,1))\n",
    "\n",
    "        hr = real(ifft(h))\n",
    "\n",
    "        plot!(pl[1,1], p.mesh.x, hr;\n",
    "\t          ylims=(-0.6,1),\n",
    "        \t  title=\"physical space\",\n",
    "              label=p.model.label)\n",
    "\n",
    "        plot!(pl[2,1], fftshift(p.mesh.k),\n",
    "              log10.(1e-18.+abs.(fftshift(h)));\n",
    "        \t  title=\"frequency\",\n",
    "          label=p.model.label)\n",
    "\n",
    "        next!(prog)\n",
    "\n",
    "    end when mod(l, 200) == 0\n",
    "\n",
    "    gif(anim, \"anim.gif\", fps=15); nothing\n",
    "\n",
    "end"
   ],
   "metadata": {},
   "execution_count": null
  },
  {
   "outputs": [],
   "cell_type": "markdown",
   "source": [
    "@time create_animation( problem )"
   ],
   "metadata": {}
  },
  {
   "outputs": [],
   "cell_type": "markdown",
   "source": [
    "*This notebook was generated using [Literate.jl](https://github.com/fredrikekre/Literate.jl).*"
   ],
   "metadata": {}
  }
 ],
 "nbformat_minor": 3,
 "metadata": {
  "language_info": {
   "file_extension": ".jl",
   "mimetype": "application/julia",
   "name": "julia",
   "version": "1.0.2"
  },
  "kernelspec": {
   "name": "julia-1.0",
   "display_name": "Julia 1.0.2",
   "language": "julia"
  }
 },
 "nbformat": 4
}
