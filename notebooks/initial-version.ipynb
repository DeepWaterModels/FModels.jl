{
 "cells": [
  {
   "cell_type": "code",
   "execution_count": 1,
   "metadata": {},
   "outputs": [
    {
     "data": {
      "text/plain": [
       "Plots.PyPlotBackend()"
      ]
     },
     "execution_count": 1,
     "metadata": {},
     "output_type": "execute_result"
    }
   ],
   "source": [
    "using  FFTW\n",
    "using  LinearAlgebra\n",
    "using  ProgressMeter\n",
    "using  BenchmarkTools\n",
    "using  Plots\n",
    "pyplot()"
   ]
  },
  {
   "cell_type": "markdown",
   "metadata": {},
   "source": [
    "Paramètres du système"
   ]
  },
  {
   "cell_type": "code",
   "execution_count": 2,
   "metadata": {},
   "outputs": [
    {
     "name": "stdout",
     "output_type": "stream",
     "text": [
      "(epsilon, N, L, T, dt) = (0.5, 4096, 10, 5, 0.001)\n"
     ]
    }
   ],
   "source": [
    "epsilon=1/2\n",
    "N=2^12\n",
    "L=10\n",
    "T=5\n",
    "dt=0.001\n",
    "@show epsilon,N,L,T,dt;"
   ]
  },
  {
   "cell_type": "markdown",
   "metadata": {},
   "source": [
    "Initialisation : grilles en espace, fréquence, temps"
   ]
  },
  {
   "cell_type": "code",
   "execution_count": 3,
   "metadata": {},
   "outputs": [],
   "source": [
    "include(\"mesh.jl\")\n",
    "include(\"times.jl\")\n",
    "include(\"freq.jl\")\n",
    "include(\"fig.jl\")\n",
    "\n",
    "mesh = Mesh(-L, L, N);\n",
    "freq = Freq(mesh.dx, N);\n",
    "times = Times(dt, T);"
   ]
  },
  {
   "cell_type": "markdown",
   "metadata": {},
   "source": [
    "Quelques multiplicateurs de Fourier"
   ]
  },
  {
   "cell_type": "code",
   "execution_count": 4,
   "metadata": {},
   "outputs": [],
   "source": [
    "Gamma=abs.(freq.k); # Lambda, \"absolute differentiation\"\n",
    "H=-1im.*sign.(freq.k); # Hilbert transform\n",
    "Dx=1im*freq.k; # Differentiation\n",
    "Pi=Gamma.<freq.kmax*2/3; # Dealiasing low-pass filter"
   ]
  },
  {
   "cell_type": "markdown",
   "metadata": {},
   "source": [
    "Donnée initiale"
   ]
  },
  {
   "cell_type": "code",
   "execution_count": 5,
   "metadata": {},
   "outputs": [],
   "source": [
    "h0=exp.(-mesh.x.^2);\n",
    "h0hat=Pi.*fft(h0);\n",
    "u0=zeros(N);\n",
    "u0hat=Pi.*fft(u0);"
   ]
  },
  {
   "cell_type": "code",
   "execution_count": 6,
   "metadata": {},
   "outputs": [
    {
     "data": {
      "image/png": "[encoded data removed]"
     },
     "execution_count": 6,
     "metadata": {},
     "output_type": "execute_result"
    }
   ],
   "source": [
    "plot(mesh.x,h0,label=\"h₀\")"
   ]
  },
  {
   "cell_type": "markdown",
   "metadata": {},
   "source": [
    "Systèmes à résoudre : d_t U=F(U)"
   ]
  },
  {
   "cell_type": "code",
   "execution_count": 7,
   "metadata": {},
   "outputs": [
    {
     "data": {
      "text/plain": [
       "BenchmarkTools.Trial: \n",
       "  memory estimate:  1.43 MiB\n",
       "  allocs estimate:  462\n",
       "  --------------\n",
       "  minimum time:     477.706 μs (0.00% GC)\n",
       "  median time:      579.792 μs (0.00% GC)\n",
       "  mean time:        843.037 μs (21.99% GC)\n",
       "  maximum time:     5.098 ms (81.46% GC)\n",
       "  --------------\n",
       "  samples:          5909\n",
       "  evals/sample:     1"
      ]
     },
     "execution_count": 7,
     "metadata": {},
     "output_type": "execute_result"
    }
   ],
   "source": [
    "#=\n",
    "# WW2\n",
    "function FWW2(hhat,uhat)\n",
    "    h=real(ifft(hhat))\n",
    "    u=real(ifft(uhat))\n",
    "    Hu=real(ifft(H.*uhat))\n",
    "    return (H.*uhat-epsilon*Pi.*(Gamma.*fft(h.*Hu)+Dx.*fft(h.*u)),-(Dx.*hhat)-epsilon/2*Pi.*Dx.*fft(u.^2-Hu.^2))\n",
    "end\n",
    "#@btime FWW2(h0hat,u0hat);\n",
    "=#\n",
    "# Cheng et al\n",
    "function Fwave_naive(hhat,uhat)\n",
    "    h=ifft(hhat);\n",
    "    Int1=H.*fft(ifft(Gamma.*uhat).^2);\n",
    "    Int2=fft(h.*ifft(Dx.*hhat)) ;\n",
    "    Int3=H.*fft(h.*ifft(Gamma.*hhat));\n",
    "    return (-(Dx.*uhat),H.*hhat+epsilon*Pi.*(Int1-Int2-Int3))\n",
    "end\n",
    "@benchmark Fwave_naive(h0hat,u0hat)\n",
    "\n",
    "#=\n",
    "# Matsuno  \n",
    "function Matsuno(hhat,uhat)\n",
    "    h=real(ifft(hhat))\n",
    "    u=real(ifft(uhat))\n",
    "    Int4=fft(real(ifft(Dx.*hhat)).*real(ifft(Gamma.*hhat)))\n",
    "    return (H.*uhat-epsilon*Pi.*(H.*fft(h.*real(ifft(Gamma.*uhat)))+Dx.*fft(h.*u)),-(Dx.*hhat)-epsilon/2*Pi.*(Dx.*fft(u.^2))+epsilon*Pi.*Int4)\n",
    "end    \n",
    "#@btime Matsuno(h0hat,u0hat);\n",
    "\n",
    "# Saut-Xu\n",
    "function SautXu(hhat,uhat)\n",
    "    h=real(ifft(hhat))\n",
    "    u=real(ifft(uhat))\n",
    "    Dh=real(ifft(Dx.*hhat))\n",
    "    Du=real(ifft(Dx.*uhat))\n",
    "    Gu=real(ifft(Gamma.*uhat))\n",
    "    Gh=real(ifft(Gamma.*hhat))\n",
    "    return (H.*uhat-epsilon*Pi.*(fft(u.*Dh/2+h.*Du)+H.*fft(h.*Gu+u.*Gh/2)),-(Dx.*hhat)-epsilon*Pi.*(Dx.*fft(u.^2)-fft(Dh.*Gh)/2))\n",
    "end  \n",
    "#btime SautXu(h0hat,u0hat);\n",
    "\n",
    "# WW2 modifié (prime)\n",
    "function FWW2p(hhat,uhat)\n",
    "    h=real(ifft(hhat))\n",
    "    u=real(ifft(uhat))\n",
    "    Hu=real(ifft(H.*uhat))\n",
    "    Dth=H.*uhat-epsilon*Pi.*(Gamma.*fft(h.*Hu)+Dx.*fft(h.*u))\n",
    "    return (Dth,-Dx.*hhat-epsilon/2*Pi.*Dx.*fft(u.^2-real(ifft(Dth).^2)))\n",
    "end\n",
    "#@btime FWW2p(h0hat,u0hat);\n",
    "=#"
   ]
  },
  {
   "cell_type": "code",
   "execution_count": 8,
   "metadata": {},
   "outputs": [
    {
     "data": {
      "text/plain": [
       "BenchmarkTools.Trial: \n",
       "  memory estimate:  898.48 KiB\n",
       "  allocs estimate:  73\n",
       "  --------------\n",
       "  minimum time:     310.645 μs (0.00% GC)\n",
       "  median time:      415.710 μs (0.00% GC)\n",
       "  mean time:        572.455 μs (19.32% GC)\n",
       "  maximum time:     6.352 ms (77.04% GC)\n",
       "  --------------\n",
       "  samples:          8673\n",
       "  evals/sample:     1"
      ]
     },
     "execution_count": 8,
     "metadata": {},
     "output_type": "execute_result"
    }
   ],
   "source": [
    "Px=plan_fft(h0hat);\n",
    "function Fwave_plan(hhat,uhat)\n",
    "    h = Px \\ copy(hhat);\n",
    "    Int1=copy(uhat);Int1.*=Gamma; dum = Px \\ Int1; dum.^=2; Int1 .= Px * dum; Int1.*=H; \n",
    "    #@PNavaro : pourquoi dum .= Px \\ Int1; (avec le point) produit plus d'allocations ?\n",
    "    Int2=copy(hhat);Int2.*=Dx; dum = Px \\ Int2; dum.*=h; Int2 .= Px * dum;\n",
    "    Int3=copy(hhat);Int3.*=Gamma; dum = Px \\ Int3; dum.*=h; Int3 .= Px * dum; Int3.*=H;\n",
    "    nhhat=-copy(uhat);nhhat.*=Dx;\n",
    "    Int1.-=Int2;Int1.-=Int3;Int1.*=Pi;Int1.*=epsilon;\n",
    "    nuhat=copy(hhat);nuhat.*=H;nuhat.+=Int1;\n",
    "    return (nhhat,nuhat)\n",
    "end\n",
    "@benchmark Fwave_plan(h0hat,u0hat)\n"
   ]
  },
  {
   "cell_type": "code",
   "execution_count": 9,
   "metadata": {},
   "outputs": [
    {
     "data": {
      "text/plain": [
       "BenchmarkTools.Trial: \n",
       "  memory estimate:  642.02 KiB\n",
       "  allocs estimate:  55\n",
       "  --------------\n",
       "  minimum time:     309.923 μs (0.00% GC)\n",
       "  median time:      428.329 μs (0.00% GC)\n",
       "  mean time:        566.481 μs (16.06% GC)\n",
       "  maximum time:     5.716 ms (89.66% GC)\n",
       "  --------------\n",
       "  samples:          8724\n",
       "  evals/sample:     1"
      ]
     },
     "execution_count": 9,
     "metadata": {},
     "output_type": "execute_result"
    }
   ],
   "source": [
    "#h=copy(h0hat);dum=copy(u0hat);Int1=copy(u0hat);Int2=copy(u0hat);Int3=copy(u0hat);nhhat=copy(u0hat);nuhat=copy(u0hat);\n",
    "function Fwave_prealloc(hhat,uhat)\n",
    "    #global h, dum, Int1, Int2, Int3, nhhat, nuhat\n",
    "    dum=similar(hhat); \n",
    "    #@PNavaro : je voudrais faire cette allocation (et d'autres) en dehors de la fonction (en utilisant global ? en ajoutant une variable ?), mais je n'arrive pas à le faire avec un gain de temps substantiel\n",
    "    h = Px \\ copy(hhat);\n",
    "    Int1=copy(uhat);Int1.*=Gamma; ldiv!(dum , Px , Int1); dum.^=2; mul!(Int1 , Px , dum); Int1.*=H; \n",
    "    Int2=copy(hhat);Int2.*=Dx; ldiv!(dum , Px , Int2); dum.*=h; mul!(Int2 , Px , dum);\n",
    "    Int3=copy(hhat);Int3.*=Gamma; ldiv!(dum,Px,Int3); dum.*=h; mul!(Int3 , Px , dum); Int3.*=H;\n",
    "    nhhat=-copy(uhat);nhhat.*=Dx;\n",
    "    Int1-=Int2;Int1.-=Int3;Int1.*=Pi;Int1.*=epsilon;\n",
    "    nuhat=copy(hhat);nuhat.*=H;nuhat.+=Int1;\n",
    "    return (nhhat,nuhat)\n",
    "end\n",
    "@benchmark Fwave_prealloc(h0hat,u0hat)"
   ]
  },
  {
   "cell_type": "markdown",
   "metadata": {},
   "source": [
    "Intégration en temps : RK4 (remplace la donnée)"
   ]
  },
  {
   "cell_type": "code",
   "execution_count": 10,
   "metadata": {},
   "outputs": [],
   "source": [
    "function RK4!(h,u,F,dt)\n",
    "    (h1,u1) =F(h,u)\n",
    "    (h2,u2) =F(h+dt/2*h1,u+dt/2*u1)\n",
    "    (h3,u3) =F(h+dt/2*h2,u+dt/2*u2)\n",
    "    (h4,u4) =F(h+dt*h3,u+dt*u3)\n",
    "    h.+=dt/6*(h1+2*h2+2*h3+h4)\n",
    "    u.+=dt/6*(u1+2*u2+2*u3+u4)\n",
    "end\n",
    "#@btime RK4!(h0hat,u0hat,Fwave,dt);"
   ]
  },
  {
   "cell_type": "markdown",
   "metadata": {},
   "source": [
    "wrap-up : intégration sur tous les pas de temps, écriture sur la donnée Us"
   ]
  },
  {
   "cell_type": "code",
   "execution_count": 11,
   "metadata": {},
   "outputs": [
    {
     "data": {
      "text/plain": [
       "solve (generic function with 1 method)"
      ]
     },
     "execution_count": 11,
     "metadata": {},
     "output_type": "execute_result"
    }
   ],
   "source": [
    "Us=[];Modeles=[];\n",
    "function solve(U0,F,times)\n",
    "    h=copy(U0[1]);u=copy(U0[2])\n",
    "    push!(Us,zeros(Complex{Float64},(mesh.nx,2,times.nt)))\n",
    "    (Us[end][:,1,1],Us[end][:,2,1])=(h,u)\n",
    "    prog = Progress(times.nt,1) # progress bar\n",
    "    for l in range(1,times.nt-1)\n",
    "        dt=times.t[l+1]-times.t[l]\n",
    "        #Compute one time step\n",
    "        RK4!(h,u,F,dt)\n",
    "        \n",
    "        #Store\n",
    "        (Us[end][:,1,l+1],Us[end][:,2,l+1])=(h,u)\n",
    "            \n",
    "        next!(prog) # increment the progress bar\n",
    "    end\n",
    "end"
   ]
  },
  {
   "cell_type": "markdown",
   "metadata": {},
   "source": [
    "Finalement les calculs : version naive, puis fft_plan, puis prealloc"
   ]
  },
  {
   "cell_type": "code",
   "execution_count": 12,
   "metadata": {},
   "outputs": [],
   "source": [
    "#print(\"*** Calculs WW2 ***\")\n",
    "#push!(Modeles,\"WW2\")\n",
    "#@time solve((h0hat,u0hat),FWW2,times);"
   ]
  },
  {
   "cell_type": "code",
   "execution_count": 13,
   "metadata": {},
   "outputs": [
    {
     "name": "stderr",
     "output_type": "stream",
     "text": [
      "\u001b[32mProgress:  97%|████████████████████████████████████████ |  ETA: 0:00:01\u001b[39m"
     ]
    },
    {
     "name": "stdout",
     "output_type": "stream",
     "text": [
      " 21.973503 seconds (12.43 M allocations: 34.805 GiB, 22.97% gc time)\n"
     ]
    }
   ],
   "source": [
    "#print(\"*** Calculs Cheng et al. ***\")\n",
    "push!(Modeles,\"Cheng et al. version naive\")\n",
    "@time solve((h0hat,u0hat),Fwave_naive,times);"
   ]
  },
  {
   "cell_type": "code",
   "execution_count": 14,
   "metadata": {},
   "outputs": [
    {
     "name": "stderr",
     "output_type": "stream",
     "text": [
      "\u001b[32mProgress:  97%|████████████████████████████████████████ |  ETA: 0:00:00\u001b[39m"
     ]
    },
    {
     "name": "stdout",
     "output_type": "stream",
     "text": [
      " 14.912928 seconds (1.84 M allocations: 23.865 GiB, 23.08% gc time)\n"
     ]
    }
   ],
   "source": [
    "#print(\"*** Calculs Cheng et al. ***\")\n",
    "push!(Modeles,\"Cheng et al. version fft_plan\")\n",
    "@time solve((h0hat,u0hat),Fwave_plan,times);"
   ]
  },
  {
   "cell_type": "code",
   "execution_count": 15,
   "metadata": {},
   "outputs": [
    {
     "name": "stderr",
     "output_type": "stream",
     "text": [
      "\u001b[32mProgress:  94%|██████████████████████████████████████   |  ETA: 0:00:01\u001b[39m"
     ]
    },
    {
     "name": "stdout",
     "output_type": "stream",
     "text": [
      " 13.139512 seconds (1.47 M allocations: 18.973 GiB, 20.71% gc time)\n"
     ]
    }
   ],
   "source": [
    "#print(\"*** Calculs Cheng et al. ***\")\n",
    "push!(Modeles,\"Cheng et al. version prealloc\")\n",
    "@time solve((h0hat,u0hat),Fwave_prealloc,times);"
   ]
  },
  {
   "cell_type": "code",
   "execution_count": 16,
   "metadata": {},
   "outputs": [],
   "source": [
    "#print(\"*** Calculs Matsuno ***\")\n",
    "#push!(Modeles,\"Matsuno\")\n",
    "#@time solve((h0hat,u0hat),Matsuno,times);"
   ]
  },
  {
   "cell_type": "code",
   "execution_count": 17,
   "metadata": {},
   "outputs": [],
   "source": [
    "#print(\"*** Calculs Saut-Xu ***\")\n",
    "#push!(Modeles,\"Saut-Xu\")\n",
    "#@time solve((h0hat,u0hat),SautXu,times);"
   ]
  },
  {
   "cell_type": "code",
   "execution_count": 18,
   "metadata": {},
   "outputs": [],
   "source": [
    "#print(\"*** Calculs WW2 modifié ***\")\n",
    "#push!(Modeles,\"WW2 modifié\")\n",
    "#@time solve((h0hat,u0hat),FWW2p,times);"
   ]
  },
  {
   "cell_type": "markdown",
   "metadata": {},
   "source": [
    "Graphiques"
   ]
  },
  {
   "cell_type": "code",
   "execution_count": 19,
   "metadata": {
    "scrolled": false
   },
   "outputs": [
    {
     "data": {
      "text/plain": [
       "1×3 Array{Any,2}:\n",
       " \"Cheng et al. version naive\"  …  \"Cheng et al. version prealloc\""
      ]
     },
     "execution_count": 19,
     "metadata": {},
     "output_type": "execute_result"
    }
   ],
   "source": [
    "Labels=reshape(copy(Modeles),(1,length(Modeles)))\n"
   ]
  },
  {
   "cell_type": "code",
   "execution_count": 20,
   "metadata": {},
   "outputs": [
    {
     "data": {
      "image/png": "[encoded data removed]",
      "text/plain": [
       "PyPlot.Figure(PyObject <Figure size 600x400 with 2 Axes>)"
      ]
     },
     "metadata": {},
     "output_type": "display_data"
    }
   ],
   "source": [
    "fig(5)\n",
    "#@PNavaro : Sais-tu comment afficher des plots interactifs ? (=possibilité de zoomer, bouton pour sauvegarder)"
   ]
  },
  {
   "cell_type": "code",
   "execution_count": 21,
   "metadata": {},
   "outputs": [
    {
     "data": {
      "text/plain": [
       "(0.0, 0.0)"
      ]
     },
     "execution_count": 21,
     "metadata": {},
     "output_type": "execute_result"
    }
   ],
   "source": [
    "norm(Us[2][:,:,:]-Us[1][:,:,:]),norm(Us[3][:,:,:]-Us[1][:,:,:],Inf)\n",
    "#@PNavaro : C'est possible qu'il n'y ait *aucune* différence entre deux simulations ?"
   ]
  }
 ],
 "metadata": {
  "kernelspec": {
   "display_name": "Julia 1.0.1",
   "language": "julia",
   "name": "julia-1.0"
  },
  "language_info": {
   "file_extension": ".jl",
   "mimetype": "application/julia",
   "name": "julia",
   "version": "1.0.1"
  }
 },
 "nbformat": 4,
 "nbformat_minor": 2
}
