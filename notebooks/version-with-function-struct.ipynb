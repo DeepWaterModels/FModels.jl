{
 "cells": [
  {
   "cell_type": "code",
   "execution_count": 11,
   "metadata": {},
   "outputs": [
    {
     "name": "stdout",
     "output_type": "stream",
     "text": [
      "\u001b[32m\u001b[1m Resolving\u001b[22m\u001b[39m package versions...\n",
      "\u001b[32m\u001b[1m  Updating\u001b[22m\u001b[39m `~/.julia/environments/v1.0/Project.toml`\n",
      "\u001b[90m [no changes]\u001b[39m\n",
      "\u001b[32m\u001b[1m  Updating\u001b[22m\u001b[39m `~/.julia/environments/v1.0/Manifest.toml`\n",
      "\u001b[90m [no changes]\u001b[39m\n",
      "\u001b[32m\u001b[1m  Updating\u001b[22m\u001b[39m git-repo `https://github.com/DeepWaterModels/FModels.jl`\n",
      "\u001b[?25l\u001b[2K"
     ]
    },
    {
     "name": "stderr",
     "output_type": "stream",
     "text": [
      "┌ Warning: Pkg.clone is only kept for legacy CI script reasons, please use `add`\n",
      "└ @ Pkg.API /Users/osx/buildbot/slave/package_osx64/build/usr/share/julia/stdlib/v1.0/Pkg/src/API.jl:463\n"
     ]
    },
    {
     "name": "stdout",
     "output_type": "stream",
     "text": [
      "\u001b[?25h\u001b[32m\u001b[1m Resolving\u001b[22m\u001b[39m package versions...\n"
     ]
    },
    {
     "name": "stderr",
     "output_type": "stream",
     "text": [
      "┌ Info: Path `/Users/navaro/.julia/dev/FModels` exists and looks like the correct package, using existing path instead of cloning\n",
      "└ @ Pkg.Types /Users/osx/buildbot/slave/package_osx64/build/usr/share/julia/stdlib/v1.0/Pkg/src/Types.jl:586\n"
     ]
    },
    {
     "name": "stdout",
     "output_type": "stream",
     "text": [
      "\u001b[32m\u001b[1m  Updating\u001b[22m\u001b[39m `~/.julia/environments/v1.0/Project.toml`\n",
      "\u001b[90m [no changes]\u001b[39m\n",
      "\u001b[32m\u001b[1m  Updating\u001b[22m\u001b[39m `~/.julia/environments/v1.0/Manifest.toml`\n",
      "\u001b[90m [no changes]\u001b[39m\n",
      "\u001b[32m\u001b[1m  Updating\u001b[22m\u001b[39m registry at `~/.julia/registries/General`\n",
      "\u001b[32m\u001b[1m  Updating\u001b[22m\u001b[39m git-repo `https://github.com/JuliaRegistries/General.git`\n",
      "\u001b[?25l\u001b[2K\u001b[?25h\u001b[32m\u001b[1m  Updating\u001b[22m\u001b[39m git-repo `https://github.com/JuliaVlasov/SplittingOperators.jl`\n",
      "\u001b[?25l\u001b[2K\u001b[?25h\u001b[32m\u001b[1m  Updating\u001b[22m\u001b[39m git-repo `https://github.com/pnavaro/FINUFFT.jl`\n",
      "\u001b[?25l\u001b[2K\u001b[?25h\u001b[32m\u001b[1m  Updating\u001b[22m\u001b[39m git-repo `https://github.com/pnavaro/Splittings.jl.git`\n",
      "\u001b[?25l\u001b[2K\u001b[?25h\u001b[32m\u001b[1m Resolving\u001b[22m\u001b[39m package versions...\n",
      "\u001b[32m\u001b[1m  Updating\u001b[22m\u001b[39m `~/.julia/environments/v1.0/Project.toml`\n",
      "\u001b[90m [no changes]\u001b[39m\n",
      "\u001b[32m\u001b[1m  Updating\u001b[22m\u001b[39m `~/.julia/environments/v1.0/Manifest.toml`\n",
      "\u001b[90m [no changes]\u001b[39m\n"
     ]
    }
   ],
   "source": [
    "using Pkg\n",
    "Pkg.resolve()\n",
    "Pkg.clone(\"https://github.com/DeepWaterModels/FModels.jl\")\n",
    "Pkg.update()"
   ]
  },
  {
   "cell_type": "code",
   "execution_count": 2,
   "metadata": {},
   "outputs": [
    {
     "data": {
      "text/plain": [
       "Plots.PyPlotBackend()"
      ]
     },
     "execution_count": 2,
     "metadata": {},
     "output_type": "execute_result"
    }
   ],
   "source": [
    "using  FFTW\n",
    "using  LinearAlgebra\n",
    "using  ProgressMeter\n",
    "using  BenchmarkTools\n",
    "using  Plots\n",
    "using  FModels\n",
    "\n",
    "pyplot()"
   ]
  },
  {
   "cell_type": "code",
   "execution_count": 3,
   "metadata": {},
   "outputs": [
    {
     "ename": "LoadError",
     "evalue": "syntax: unexpected \"end\"",
     "output_type": "error",
     "traceback": [
      "syntax: unexpected \"end\"",
      ""
     ]
    }
   ],
   "source": [
    "abstract type AbstractModel end\n",
    "\n",
    "mutable struct Cheng <: AbstractModel\n",
    "\n",
    "    freq    :: Freq\n",
    "    label   :: String\n",
    "    data    :: Vector{Tuple{Vector{Complex{Float64}},Vector{Complex{Float64}}}}\n",
    "    Gamma   :: Array{Float64,1}\n",
    "    Dx      :: Array{Complex{Float64},1}\n",
    "    H       :: Array{Complex{Float64},1}\n",
    "    Pi      :: BitArray{1}\n",
    "    epsilon :: Float64\n",
    "    hnew    :: Vector{Complex{Float64}}\n",
    "    unew    :: Vector{Complex{Float64}}\n",
    "    \n",
    "    Int1    :: Vector{Complex{Float64}}\n",
    "    Int2    :: Vector{Complex{Float64}}\n",
    "    Int3    :: Vector{Complex{Float64}}\n",
    "    \n",
    "    Px      :: FFTW.FFTWPlan\n",
    "        \n",
    "    function Cheng(freq::Freq, epsilon::Float64)\n",
    "        label = \"Cheng et al.\"\n",
    "        data  = []\n",
    "        Gamma = abs.(freq.k)\n",
    "        Dx    =  1im * freq.k            # Differentiation\n",
    "        H     = -1im * sign.(freq.k)     # Hilbert transform\n",
    "        Pi    = Gamma .< freq.kmax * 2/3 # Dealiasing low-pass filter\n",
    "        \n",
    "        hnew = zeros(Complex{Float64}, freq.nk)\n",
    "        unew = zeros(Complex{Float64}, freq.nk)\n",
    "    \n",
    "        Int1 = zeros(Complex{Float64}, freq.nk)\n",
    "        Int2 = zeros(Complex{Float64}, freq.nk)\n",
    "        Int3 = zeros(Complex{Float64}, freq.nk)\n",
    "        \n",
    "        Px  = plan_fft(hnew; flags = FFTW.MEASURE)\n",
    "      \n",
    "        new(freq, label, data, Gamma, Dx, H, Pi, epsilon,\n",
    "            hnew, unew, Int1, Int2, Int3, Px)\n",
    "        \n",
    "    end\n",
    "end\n",
    "\n",
    "function (m::Cheng)(h::Vector{Complex{Float64}},\n",
    "                    u::Vector{Complex{Float64}})\n",
    "         \n",
    "         ldiv!(m.hnew, m.Px , h)\n",
    "         \n",
    "         m.Int1  .= u\n",
    "         m.Int1 .*= Gamma\n",
    "         ldiv!(m.unew, m.Px , m.Int1)\n",
    "         m.unew  .^= 2\n",
    "         mul!(m.Int1, m.Px , m.unew)\n",
    "         m.Int1 .*= m.H\n",
    "         \n",
    "         m.Int2  .= m.h\n",
    "         m.Int2 .*= m.Dx\n",
    "         ldiv!(m.unew, m.Px , m.Int2)\n",
    "         m.unew  .*= m.hnew\n",
    "         mul!(m.Int2, m.Px , m.unew)\n",
    "         \n",
    "         m.Int3  .= h\n",
    "         m.Int3 .*= m.Gamma\n",
    "         ldiv!(m.unew, m.Px, m.Int3)\n",
    "         m.unew  .*= m.hnew\n",
    "         mul!(m.Int3 , m.Px , m.unew)\n",
    "         m.Int3 .*= m.H\n",
    "         \n",
    "         m.hnew  .= -u\n",
    "         m.hnew .*= m.Dx\n",
    "         \n",
    "         m.Int1 .-= m.Int2\n",
    "         m.Int1 .-= m.Int3\n",
    "         m.Int1 .*= m.Pi\n",
    "         m.Int1 .*= m.epsilon\n",
    "         \n",
    "         u  .= h\n",
    "         u .*= m.H\n",
    "         u .+= m.Int1\n",
    "         \n",
    "         h .= m.hnew\n",
    "         \n",
    "    end\n",
    "    \n",
    "end\n",
    "\n"
   ]
  },
  {
   "cell_type": "code",
   "execution_count": 4,
   "metadata": {},
   "outputs": [],
   "source": [
    "mutable struct Matsuno <: AbstractModel\n",
    "    \n",
    "    freq    :: Freq\n",
    "    label   :: String\n",
    "    data    :: Vector{Tuple{Vector{Complex{Float64}},Vector{Complex{Float64}}}}\n",
    "    Gamma   :: Array{Float64,1}\n",
    "    Dx      :: Array{Complex{Float64},1}\n",
    "    H       :: Array{Complex{Float64},1}\n",
    "    Pi      :: BitArray{1}\n",
    "    epsilon :: Float64\n",
    "    hnew    :: Vector{Complex{Float64}}\n",
    "    unew    :: Vector{Complex{Float64}}\n",
    "    \n",
    "    Int1    :: Vector{Complex{Float64}}\n",
    "    Int2    :: Vector{Complex{Float64}}\n",
    "    Int3    :: Vector{Complex{Float64}}\n",
    "    \n",
    "    Px      :: FFTW.FFTWPlan\n",
    "\n",
    "    function Matsuno(freq::Freq, epsilon::Float64)\n",
    "        label = \"Matsuno\"\n",
    "        data  = []\n",
    "        Gamma = abs.(freq.k)\n",
    "        Dx    =  1im * freq.k            # Differentiation\n",
    "        H     = -1im * sign.(freq.k)     # Hilbert transform\n",
    "        Pi    = Gamma .< freq.kmax * 2/3 # Dealiasing low-pass filter\n",
    "        hnew = zeros(Complex{Float64}, freq.nk)\n",
    "        unew = zeros(Complex{Float64}, freq.nk)\n",
    "    \n",
    "        Int1 = zeros(Complex{Float64}, freq.nk)\n",
    "        Int2 = zeros(Complex{Float64}, freq.nk)\n",
    "        Int3 = zeros(Complex{Float64}, freq.nk)\n",
    "        \n",
    "        Px  = plan_fft(hnew; flags = FFTW.MEASURE)\n",
    "      \n",
    "        new(freq, label, data, Gamma, Dx, H, Pi, epsilon,\n",
    "            hnew, unew, Int1, Int2, Int3, Px)\n",
    "    end\n",
    "end\n",
    "\n",
    "\n",
    "function (m::Matsuno)(h::Vector{Complex{Float64}},\n",
    "                      u::Vector{Complex{Float64}})\n",
    "    \n",
    "   # hnew .= real(ifft(h))\n",
    "   # unew .= real(ifft(u))\n",
    "   # Int3 .= fft(real(ifft(Dx.*h)).*real(ifft(Gamma.*h)))\n",
    " #\n",
    "   # Int1 .= H.*u-epsilon*Pi.*(H.*fft(hnew.*real(ifft(Gamma.*u))).+Dx.*fft(hnew.*unew))\n",
    "   # Int2 .= -(Dx.*h)-epsilon/2*Pi.*(Dx.*fft(unew.^2))+epsilon*Pi.*Int3\n",
    "   # \n",
    "   # h .= Int1\n",
    "   # u .= Int2\n",
    "     \n",
    "    m.hnew .= m.Gamma \n",
    "    m.hnew .*= h         \n",
    "    ldiv!(m.unew, m.Px, m.hnew )   \n",
    "    m.hnew .= m.Dx \n",
    "    m.hnew .*= m.h            \n",
    "    ldiv!(m.Int1, m.Px, m.hnew)    \n",
    "    m.unew .*= m.Int1            \n",
    "    mul!(m.Int1, m.Px, m.unew)     \n",
    "    m.Int1 .*= m.epsilon*m.Pi\n",
    "    m.Int2 .= m.Dx .* h\n",
    "    m.Int1 .-= m.Int2\n",
    "    ldiv!(m.hnew, m.Px, h)\n",
    "    ldiv!(m.unew, m.Px, u)\n",
    "    m.Int2  .= m.hnew .* m.unew\n",
    "    mul!(m.Int3, m.Px, m.Int2)\n",
    "    m.Int3 .*= m.Dx\n",
    "    h     .= m.H.*u\n",
    "    u    .*= m.Gamma\n",
    "    ldiv!(m.Int2, m.Px, u)\n",
    "    m.Int2 .*= m.hnew\n",
    "    mul!(u, m.Px, m.Int2)\n",
    "    u    .*= m.H\n",
    "    m.Int3 .+= u\n",
    "    m.Int3 .*= epsilon * m.Pi\n",
    "    h    .-= m.Int3     \n",
    "    m.Int3  .= m.unew.^2\n",
    "    mul!(m.unew, m.Px, m.Int3)\n",
    "    m.unew  .*= m.Dx\n",
    "    m.unew  .*= m.epsilon/2 * m.Pi \n",
    "    m.Int1  .-= m.unew\n",
    "    u .= m.Int1\n",
    "end\n",
    "    "
   ]
  },
  {
   "cell_type": "code",
   "execution_count": 5,
   "metadata": {},
   "outputs": [
    {
     "data": {
      "text/plain": [
       "solve! (generic function with 1 method)"
      ]
     },
     "execution_count": 5,
     "metadata": {},
     "output_type": "execute_result"
    }
   ],
   "source": [
    "function solve!(model::AbstractModel, h, u, times::Times, solver::TimeSolver)\n",
    "                \n",
    "    prog = Progress(times.nt,1) # progress bar\n",
    "    \n",
    "    model.data = []\n",
    "  \n",
    "    push!(model.data,(h,u))\n",
    "    for l in range(1,times.nt-1)\n",
    "        \n",
    "        dt = times.t[l+1]-times.t[l]\n",
    "        \n",
    "        step!( solver, model, h, u, dt)\n",
    "    \n",
    "        push!(model.data,(h,u))   \n",
    "        next!(prog)\n",
    "    end\n",
    "            \n",
    "end"
   ]
  },
  {
   "cell_type": "code",
   "execution_count": 6,
   "metadata": {},
   "outputs": [
    {
     "data": {
      "text/plain": [
       "run_simulations (generic function with 1 method)"
      ]
     },
     "execution_count": 6,
     "metadata": {},
     "output_type": "execute_result"
    }
   ],
   "source": [
    "function run_simulations(mesh::Mesh, models, times::Times)\n",
    "   \n",
    "    solver = RK4( mesh.nx )\n",
    "    h  = zeros(Complex{Float64}, mesh.nx)\n",
    "    u  = zeros(Complex{Float64}, mesh.nx)\n",
    "\n",
    "    for model in models\n",
    "            \n",
    "        h .= exp.(-mesh.x.^2)\n",
    "        h .= model.Pi .* fft(h)\n",
    "        u .= model.Pi .* fft(u)\n",
    "        \n",
    "        solve!(model, h, u, times, solver )\n",
    "    end\n",
    "    \n",
    "end"
   ]
  },
  {
   "cell_type": "code",
   "execution_count": 7,
   "metadata": {},
   "outputs": [
    {
     "name": "stdout",
     "output_type": "stream",
     "text": [
      "(epsilon, N, L, T, dt) = (0.5, 4096, 10, 5, 0.001)\n"
     ]
    },
    {
     "ename": "UndefVarError",
     "evalue": "UndefVarError: step! not defined",
     "output_type": "error",
     "traceback": [
      "UndefVarError: step! not defined",
      "",
      "Stacktrace:",
      " [1] solve!(::Cheng, ::Array{Complex{Float64},1}, ::Array{Complex{Float64},1}, ::Times, ::RK4) at ./In[5]:12",
      " [2] run_simulations(::Mesh, ::Array{AbstractModel,1}, ::Times) at ./In[6]:13",
      " [3] top-level scope at util.jl:156",
      " [4] top-level scope at In[7]:14"
     ]
    }
   ],
   "source": [
    "epsilon = 1/2\n",
    "N       = 2^12\n",
    "L       = 10\n",
    "T       = 5\n",
    "dt      = 0.001\n",
    "\n",
    "@show epsilon,N,L,T,dt\n",
    "\n",
    "mesh  = Mesh(-L, L, N)\n",
    "freq  = Freq(mesh.dx, N)\n",
    "times = Times(dt, T)\n",
    "\n",
    "models = [Cheng(freq, epsilon), Matsuno(freq, epsilon)]\n",
    "    \n",
    "@time run_simulations(mesh, models, times)\n",
    "fig(5, times, models, mesh)"
   ]
  },
  {
   "cell_type": "code",
   "execution_count": null,
   "metadata": {},
   "outputs": [],
   "source": []
  }
 ],
 "metadata": {
  "kernelspec": {
   "display_name": "Julia 1.0.1",
   "language": "julia",
   "name": "julia-1.0"
  },
  "language_info": {
   "file_extension": ".jl",
   "mimetype": "application/julia",
   "name": "julia",
   "version": "1.0.1"
  }
 },
 "nbformat": 4,
 "nbformat_minor": 2
}
