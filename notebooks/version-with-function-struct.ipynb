{
 "cells": [
  {
   "cell_type": "code",
   "execution_count": 56,
   "metadata": {},
   "outputs": [
    {
     "name": "stdout",
     "output_type": "stream",
     "text": [
      "\u001b[32m\u001b[1m Resolving\u001b[22m\u001b[39m package versions...\n",
      "\u001b[32m\u001b[1m  Updating\u001b[22m\u001b[39m `~/.julia/environments/v1.0/Project.toml`\n",
      "\u001b[90m [no changes]\u001b[39m\n",
      "\u001b[32m\u001b[1m  Updating\u001b[22m\u001b[39m `~/.julia/environments/v1.0/Manifest.toml`\n",
      "\u001b[90m [no changes]\u001b[39m\n"
     ]
    },
    {
     "name": "stderr",
     "output_type": "stream",
     "text": [
      "┌ Warning: Pkg.clone is only kept for legacy CI script reasons, please use `add`\n",
      "└ @ Pkg.API /Users/osx/buildbot/slave/package_osx64/build/usr/share/julia/stdlib/v1.0/Pkg/src/API.jl:445\n"
     ]
    },
    {
     "name": "stdout",
     "output_type": "stream",
     "text": [
      "\u001b[32m\u001b[1m  Updating\u001b[22m\u001b[39m git-repo `https://github.com/WaterWavesModels/DeepWaterModels.jl`\n",
      "\u001b[2K\u001b[?25h[1mFetching:\u001b[22m\u001b[39m [========================================>]  100.0 %.0 %"
     ]
    },
    {
     "ename": "Pkg.Types.PkgError",
     "evalue": "expected the file `src/DeepWaterModels.jl` to exist for package DeepWaterModels at /var/folders/9k/179s_qtx4pj7yjrwyglr6zp80000gp/T/tmpuPLbpj",
     "output_type": "error",
     "traceback": [
      "expected the file `src/DeepWaterModels.jl` to exist for package DeepWaterModels at /var/folders/9k/179s_qtx4pj7yjrwyglr6zp80000gp/T/tmpuPLbpj",
      "",
      "Stacktrace:",
      " [1] pkgerror(::String) at /Users/osx/buildbot/slave/package_osx64/build/usr/share/julia/stdlib/v1.0/Pkg/src/Types.jl:120",
      " [2] read_package(::String) at /Users/osx/buildbot/slave/package_osx64/build/usr/share/julia/stdlib/v1.0/Pkg/src/Types.jl:452",
      " [3] parse_package!(::Pkg.Types.Context, ::Pkg.Types.PackageSpec, ::String) at /Users/osx/buildbot/slave/package_osx64/build/usr/share/julia/stdlib/v1.0/Pkg/src/Types.jl:694",
      " [4] (::getfield(Pkg.Types, Symbol(\"##25#28\")){Pkg.Types.Context,Array{Pkg.Types.PackageSpec,1},String})(::LibGit2.CachedCredentials) at /Users/osx/buildbot/slave/package_osx64/build/usr/share/julia/stdlib/v1.0/Pkg/src/Types.jl:567",
      " [5] shred!(::getfield(Pkg.Types, Symbol(\"##25#28\")){Pkg.Types.Context,Array{Pkg.Types.PackageSpec,1},String}, ::LibGit2.CachedCredentials) at ./secretbuffer.jl:184",
      " [6] handle_repos_develop! at /Users/osx/buildbot/slave/package_osx64/build/usr/share/julia/stdlib/v1.0/Pkg/src/Types.jl:498 [inlined]",
      " [7] #add_or_develop#13(::Symbol, ::Bool, ::Base.Iterators.Pairs{Union{},Union{},Tuple{},NamedTuple{(),Tuple{}}}, ::Function, ::Pkg.Types.Context, ::Array{Pkg.Types.PackageSpec,1}) at /Users/osx/buildbot/slave/package_osx64/build/usr/share/julia/stdlib/v1.0/Pkg/src/API.jl:52",
      " [8] #add_or_develop at ./none:0 [inlined]",
      " [9] #develop#19 at /Users/osx/buildbot/slave/package_osx64/build/usr/share/julia/stdlib/v1.0/Pkg/src/API.jl:70 [inlined]",
      " [10] develop at /Users/osx/buildbot/slave/package_osx64/build/usr/share/julia/stdlib/v1.0/Pkg/src/API.jl:70 [inlined]",
      " [11] macro expansion at ./logging.jl:310 [inlined]",
      " [12] clone(::String, ::String) at /Users/osx/buildbot/slave/package_osx64/build/usr/share/julia/stdlib/v1.0/Pkg/src/API.jl:445 (repeats 2 times)",
      " [13] top-level scope at In[56]:3"
     ]
    }
   ],
   "source": [
    "using Pkg\n",
    "Pkg.resolve()\n",
    "Pkg.clone(\"https://github.com/WaterWavesModels/DeepWaterModels.jl\")\n",
    "Pkg.update()"
   ]
  },
  {
   "cell_type": "code",
   "execution_count": 57,
   "metadata": {},
   "outputs": [
    {
     "data": {
      "text/plain": [
       "Plots.PyPlotBackend()"
      ]
     },
     "execution_count": 57,
     "metadata": {},
     "output_type": "execute_result"
    }
   ],
   "source": [
    "using  FFTW\n",
    "using  LinearAlgebra\n",
    "using  ProgressMeter\n",
    "using  BenchmarkTools\n",
    "using  Plots\n",
    "#using  DeepWaterModels\n",
    "include(\"mesh.jl\")\n",
    "include(\"times.jl\")\n",
    "include(\"fig.jl\")\n",
    "include(\"solvers.jl\")\n",
    "\n",
    "pyplot()\n"
   ]
  },
  {
   "cell_type": "code",
   "execution_count": 58,
   "metadata": {},
   "outputs": [],
   "source": [
    "abstract type AbstractModel end\n",
    "\n",
    "mutable struct Cheng <: AbstractModel\n",
    "\n",
    "    mesh    :: Mesh\n",
    "    label   :: String\n",
    "    data    :: Vector{Tuple{Vector{Complex{Float64}},Vector{Complex{Float64}}}}\n",
    "    Gamma   :: Array{Float64,1}\n",
    "    Dx      :: Array{Complex{Float64},1}\n",
    "    H       :: Array{Complex{Float64},1}\n",
    "    Pi      :: BitArray{1}\n",
    "    epsilon :: Float64\n",
    "    hnew    :: Vector{Complex{Float64}}\n",
    "    unew    :: Vector{Complex{Float64}}\n",
    "    \n",
    "    Int1    :: Vector{Complex{Float64}}\n",
    "    Int2    :: Vector{Complex{Float64}}\n",
    "    Int3    :: Vector{Complex{Float64}}\n",
    "    \n",
    "    Px      :: FFTW.FFTWPlan\n",
    "        \n",
    "    function Cheng(mesh::Mesh, epsilon::Float64)\n",
    "        label = \"Cheng et al.\"\n",
    "        data  = []\n",
    "        Gamma = abs.(mesh.k)\n",
    "        Dx    =  1im * mesh.k            # Differentiation\n",
    "        H     = -1im * sign.(mesh.k)     # Hilbert transform\n",
    "        Pi    = Gamma .< mesh.kmax * 2/3 # Dealiasing low-pass filter\n",
    "        \n",
    "        hnew = zeros(Complex{Float64}, mesh.N)\n",
    "        unew = zeros(Complex{Float64}, mesh.N)\n",
    "    \n",
    "        Int1 = zeros(Complex{Float64}, mesh.N)\n",
    "        Int2 = zeros(Complex{Float64}, mesh.N)\n",
    "        Int3 = zeros(Complex{Float64}, mesh.N)\n",
    "        \n",
    "        Px  = plan_fft(hnew; flags = FFTW.MEASURE)\n",
    "      \n",
    "        new(mesh, label, data, Gamma, Dx, H, Pi, epsilon,\n",
    "            hnew, unew, Int1, Int2, Int3, Px)\n",
    "        \n",
    "    end\n",
    "end\n",
    "\n",
    "function (m::Cheng)(h::Vector{Complex{Float64}},\n",
    "                    u::Vector{Complex{Float64}})\n",
    "         \n",
    "         ldiv!(m.hnew, m.Px , h)\n",
    "         \n",
    "         m.Int1  .= u\n",
    "         m.Int1 .*= Gamma\n",
    "         ldiv!(m.unew, m.Px , m.Int1)\n",
    "         m.unew  .^= 2\n",
    "         mul!(m.Int1, m.Px , m.unew)\n",
    "         m.Int1 .*= m.H\n",
    "         \n",
    "         m.Int2  .= m.h\n",
    "         m.Int2 .*= m.Dx\n",
    "         ldiv!(m.unew, m.Px , m.Int2)\n",
    "         m.unew  .*= m.hnew\n",
    "         mul!(m.Int2, m.Px , m.unew)\n",
    "         \n",
    "         m.Int3  .= h\n",
    "         m.Int3 .*= m.Gamma\n",
    "         ldiv!(m.unew, m.Px, m.Int3)\n",
    "         m.unew  .*= m.hnew\n",
    "         mul!(m.Int3 , m.Px , m.unew)\n",
    "         m.Int3 .*= m.H\n",
    "         \n",
    "         m.hnew  .= -u\n",
    "         m.hnew .*= m.Dx\n",
    "         \n",
    "         m.Int1 .-= m.Int2\n",
    "         m.Int1 .-= m.Int3\n",
    "         m.Int1 .*= m.Pi\n",
    "         m.Int1 .*= m.epsilon\n",
    "         \n",
    "         u  .= h\n",
    "         u .*= m.H\n",
    "         u .+= m.Int1\n",
    "         \n",
    "         h .= m.hnew\n",
    "         \n",
    "    \n",
    "end\n",
    "\n"
   ]
  },
  {
   "cell_type": "code",
   "execution_count": 59,
   "metadata": {},
   "outputs": [],
   "source": [
    "mutable struct Matsuno <: AbstractModel\n",
    "    \n",
    "    mesh    :: Mesh\n",
    "    label   :: String\n",
    "    data    :: Vector{Tuple{Vector{Complex{Float64}},Vector{Complex{Float64}}}}\n",
    "    Gamma   :: Array{Float64,1}\n",
    "    Dx      :: Array{Complex{Float64},1}\n",
    "    H       :: Array{Complex{Float64},1}\n",
    "    Pi      :: BitArray{1}\n",
    "    epsilon :: Float64\n",
    "    hnew    :: Vector{Complex{Float64}}\n",
    "    unew    :: Vector{Complex{Float64}}\n",
    "    \n",
    "    Int1    :: Vector{Complex{Float64}}\n",
    "    Int2    :: Vector{Complex{Float64}}\n",
    "    Int3    :: Vector{Complex{Float64}}\n",
    "    \n",
    "    Px      :: FFTW.FFTWPlan\n",
    "\n",
    "    function Matsuno(mesh::Mesh, epsilon::Float64)\n",
    "        label = \"Matsuno\"\n",
    "        data  = []\n",
    "        Gamma = abs.(mesh.k)\n",
    "        Dx    =  1im * mesh.k            # Differentiation\n",
    "        H     = -1im * sign.(mesh.k)     # Hilbert transform\n",
    "        Pi    = Gamma .< mesh.kmax * 2/3 # Dealiasing low-pass filter\n",
    "        hnew = zeros(Complex{Float64}, mesh.N)\n",
    "        unew = zeros(Complex{Float64}, mesh.N)\n",
    "    \n",
    "        Int1 = zeros(Complex{Float64}, mesh.N)\n",
    "        Int2 = zeros(Complex{Float64}, mesh.N)\n",
    "        Int3 = zeros(Complex{Float64}, mesh.N)\n",
    "        \n",
    "        Px  = plan_fft(hnew; flags = FFTW.MEASURE)\n",
    "      \n",
    "        new(mesh, label, data, Gamma, Dx, H, Pi, epsilon,\n",
    "            hnew, unew, Int1, Int2, Int3, Px)\n",
    "    end\n",
    "end\n",
    "\n",
    "\n",
    "function (m::Matsuno)(h::Vector{Complex{Float64}},\n",
    "                      u::Vector{Complex{Float64}})\n",
    "    \n",
    "   # hnew .= real(ifft(h))\n",
    "   # unew .= real(ifft(u))\n",
    "   # Int3 .= fft(real(ifft(Dx.*h)).*real(ifft(Gamma.*h)))\n",
    " #\n",
    "   # Int1 .= H.*u-epsilon*Pi.*(H.*fft(hnew.*real(ifft(Gamma.*u))).+Dx.*fft(hnew.*unew))\n",
    "   # Int2 .= -(Dx.*h)-epsilon/2*Pi.*(Dx.*fft(unew.^2))+epsilon*Pi.*Int3\n",
    "   # \n",
    "   # h .= Int1\n",
    "   # u .= Int2\n",
    "     \n",
    "    m.hnew .= m.Gamma \n",
    "    m.hnew .*= h         \n",
    "    ldiv!(m.unew, m.Px, m.hnew )   \n",
    "    m.hnew .= m.Dx \n",
    "    m.hnew .*= m.h            \n",
    "    ldiv!(m.Int1, m.Px, m.hnew)    \n",
    "    m.unew .*= m.Int1            \n",
    "    mul!(m.Int1, m.Px, m.unew)     \n",
    "    m.Int1 .*= m.epsilon*m.Pi\n",
    "    m.Int2 .= m.Dx .* h\n",
    "    m.Int1 .-= m.Int2\n",
    "    ldiv!(m.hnew, m.Px, h)\n",
    "    ldiv!(m.unew, m.Px, u)\n",
    "    m.Int2  .= m.hnew .* m.unew\n",
    "    mul!(m.Int3, m.Px, m.Int2)\n",
    "    m.Int3 .*= m.Dx\n",
    "    h     .= m.H.*u\n",
    "    u    .*= m.Gamma\n",
    "    ldiv!(m.Int2, m.Px, u)\n",
    "    m.Int2 .*= m.hnew\n",
    "    mul!(u, m.Px, m.Int2)\n",
    "    u    .*= m.H\n",
    "    m.Int3 .+= u\n",
    "    m.Int3 .*= epsilon * m.Pi\n",
    "    h    .-= m.Int3     \n",
    "    m.Int3  .= m.unew.^2\n",
    "    mul!(m.unew, m.Px, m.Int3)\n",
    "    m.unew  .*= m.Dx\n",
    "    m.unew  .*= m.epsilon/2 * m.Pi \n",
    "    m.Int1  .-= m.unew\n",
    "    u .= m.Int1\n",
    "end\n",
    "    "
   ]
  },
  {
   "cell_type": "code",
   "execution_count": 60,
   "metadata": {},
   "outputs": [
    {
     "data": {
      "text/plain": [
       "solve! (generic function with 1 method)"
      ]
     },
     "execution_count": 60,
     "metadata": {},
     "output_type": "execute_result"
    }
   ],
   "source": [
    "function solve!(model::AbstractModel, h, u, times::Times, solver::TimeSolver)\n",
    "                \n",
    "    prog = Progress(times.Nt,1) # progress bar\n",
    "    \n",
    "    model.data = []\n",
    "  \n",
    "    push!(model.data,(h,u))\n",
    "    for l in range(1,times.Nt-1)\n",
    "        \n",
    "        dt = times.t[l+1]-times.t[l]\n",
    "        \n",
    "        step!( solver, model, h, u, dt)\n",
    "    \n",
    "        push!(model.data,(h,u))   \n",
    "        next!(prog)\n",
    "    end\n",
    "            \n",
    "end"
   ]
  },
  {
   "cell_type": "code",
   "execution_count": 61,
   "metadata": {},
   "outputs": [
    {
     "data": {
      "text/plain": [
       "run_simulations (generic function with 1 method)"
      ]
     },
     "execution_count": 61,
     "metadata": {},
     "output_type": "execute_result"
    }
   ],
   "source": [
    "function run_simulations(mesh::Mesh, models, times::Times)\n",
    "   \n",
    "    solver = RK4( mesh.N )\n",
    "    h  = zeros(Complex{Float64}, mesh.N)\n",
    "    u  = zeros(Complex{Float64}, mesh.N)\n",
    "\n",
    "    for model in models\n",
    "            \n",
    "        h .= exp.(-mesh.x.^2)\n",
    "        h .= model.Pi .* fft(h)\n",
    "        u .= model.Pi .* fft(u)\n",
    "        \n",
    "        solve!(model, h, u, times, solver )\n",
    "    end\n",
    "    \n",
    "end"
   ]
  },
  {
   "cell_type": "code",
   "execution_count": 62,
   "metadata": {},
   "outputs": [
    {
     "name": "stdout",
     "output_type": "stream",
     "text": [
      "(epsilon, N, L, T, dt) = (0.5, 4096, 10, 5, 0.001)\n"
     ]
    },
    {
     "ename": "MethodError",
     "evalue": "MethodError: no method matching step!(::RK4, ::Cheng, ::Array{Complex{Float64},1}, ::Array{Complex{Float64},1}, ::Float64)\nClosest candidates are:\n  step!(::RK4, !Matched::Function, ::Array{Complex{Float64},1}, ::Array{Complex{Float64},1}, ::Float64) at /Users/vduchene/Desktop/Julia/DeepWaterModels/solvers.jl:34",
     "output_type": "error",
     "traceback": [
      "MethodError: no method matching step!(::RK4, ::Cheng, ::Array{Complex{Float64},1}, ::Array{Complex{Float64},1}, ::Float64)\nClosest candidates are:\n  step!(::RK4, !Matched::Function, ::Array{Complex{Float64},1}, ::Array{Complex{Float64},1}, ::Float64) at /Users/vduchene/Desktop/Julia/DeepWaterModels/solvers.jl:34",
      "",
      "Stacktrace:",
      " [1] solve!(::Cheng, ::Array{Complex{Float64},1}, ::Array{Complex{Float64},1}, ::Times, ::RK4) at ./In[60]:12",
      " [2] run_simulations(::Mesh, ::Array{AbstractModel,1}, ::Times) at ./In[61]:13",
      " [3] top-level scope at util.jl:156",
      " [4] top-level scope at In[62]:13"
     ]
    }
   ],
   "source": [
    "epsilon = 1/2\n",
    "N       = 2^12\n",
    "L       = 10\n",
    "T       = 5\n",
    "dt      = 0.001\n",
    "\n",
    "@show epsilon,N,L,T,dt\n",
    "\n",
    "mesh  = Mesh(-L, L, N)\n",
    "times = Times(dt, T)\n",
    "\n",
    "models = [Cheng(mesh, epsilon), Matsuno(mesh, epsilon)]\n",
    "    \n",
    "@time run_simulations(mesh, models, times)\n",
    "fig(5, times, models, mesh)"
   ]
  },
  {
   "cell_type": "code",
   "execution_count": null,
   "metadata": {},
   "outputs": [],
   "source": []
  },
  {
   "cell_type": "code",
   "execution_count": null,
   "metadata": {},
   "outputs": [],
   "source": []
  },
  {
   "cell_type": "code",
   "execution_count": null,
   "metadata": {},
   "outputs": [],
   "source": []
  }
 ],
 "metadata": {
  "kernelspec": {
   "display_name": "Julia 1.0.0",
   "language": "julia",
   "name": "julia-1.0"
  },
  "language_info": {
   "file_extension": ".jl",
   "mimetype": "application/julia",
   "name": "julia",
   "version": "1.0.0"
  }
 },
 "nbformat": 4,
 "nbformat_minor": 2
}
