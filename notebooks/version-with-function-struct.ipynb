{
 "cells": [
  {
   "cell_type": "code",
   "execution_count": 1,
   "metadata": {},
   "outputs": [
    {
     "data": {
      "text/plain": [
       "Plots.PyPlotBackend()"
      ]
     },
     "execution_count": 1,
     "metadata": {},
     "output_type": "execute_result"
    }
   ],
   "source": [
    "using  FFTW\n",
    "using  LinearAlgebra\n",
    "using  ProgressMeter\n",
    "using  BenchmarkTools\n",
    "using  Plots\n",
    "using  FModels\n",
    "\n",
    "pyplot()"
   ]
  },
  {
   "cell_type": "code",
   "execution_count": 2,
   "metadata": {},
   "outputs": [],
   "source": [
    "abstract type AbstractModel end\n",
    "\n",
    "mutable struct Cheng <: AbstractModel\n",
    "\n",
    "    freq    :: Freq\n",
    "    label   :: String\n",
    "    data    :: Vector{Tuple{Vector{Complex{Float64}},Vector{Complex{Float64}}}}\n",
    "    Gamma   :: Array{Float64,1}\n",
    "    Dx      :: Array{Complex{Float64},1}\n",
    "    H       :: Array{Complex{Float64},1}\n",
    "    Pi      :: BitArray{1}\n",
    "    epsilon :: Float64\n",
    "    hnew    :: Vector{Complex{Float64}}\n",
    "    unew    :: Vector{Complex{Float64}}\n",
    "    \n",
    "    Int1    :: Vector{Complex{Float64}}\n",
    "    Int2    :: Vector{Complex{Float64}}\n",
    "    Int3    :: Vector{Complex{Float64}}\n",
    "    \n",
    "    Px      :: FFTW.FFTWPlan\n",
    "        \n",
    "    function Cheng(freq::Freq, epsilon::Float64)\n",
    "        label = \"Cheng et al.\"\n",
    "        data  = []\n",
    "        Gamma = abs.(freq.k)\n",
    "        Dx    =  1im * freq.k            # Differentiation\n",
    "        H     = -1im * sign.(freq.k)     # Hilbert transform\n",
    "        Pi    = Gamma .< freq.kmax * 2/3 # Dealiasing low-pass filter\n",
    "        \n",
    "        hnew = zeros(Complex{Float64}, freq.nk)\n",
    "        unew = zeros(Complex{Float64}, freq.nk)\n",
    "    \n",
    "        Int1 = zeros(Complex{Float64}, freq.nk)\n",
    "        Int2 = zeros(Complex{Float64}, freq.nk)\n",
    "        Int3 = zeros(Complex{Float64}, freq.nk)\n",
    "        \n",
    "        Px  = plan_fft(hnew; flags = FFTW.MEASURE)\n",
    "      \n",
    "        new(freq, label, data, Gamma, Dx, H, Pi, epsilon,\n",
    "            hnew, unew, Int1, Int2, Int3, Px)\n",
    "        \n",
    "    end\n",
    "end\n",
    "\n",
    "function (m::Cheng)(h::Vector{Complex{Float64}},\n",
    "                    u::Vector{Complex{Float64}})\n",
    "         \n",
    "    ldiv!(m.hnew, m.Px , h)\n",
    "    \n",
    "    m.Int1  .= u\n",
    "    m.Int1 .*= m.Gamma\n",
    "    ldiv!(m.unew, m.Px , m.Int1)\n",
    "    m.unew  .^= 2\n",
    "    mul!(m.Int1, m.Px , m.unew)\n",
    "    m.Int1 .*= m.H\n",
    "    \n",
    "    m.Int2  .= h\n",
    "    m.Int2 .*= m.Dx\n",
    "    ldiv!(m.unew, m.Px , m.Int2)\n",
    "    m.unew  .*= m.hnew\n",
    "    mul!(m.Int2, m.Px , m.unew)\n",
    "    \n",
    "    m.Int3  .= h\n",
    "    m.Int3 .*= m.Gamma\n",
    "    ldiv!(m.unew, m.Px, m.Int3)\n",
    "    m.unew  .*= m.hnew\n",
    "    mul!(m.Int3 , m.Px , m.unew)\n",
    "    m.Int3 .*= m.H\n",
    "    \n",
    "    m.hnew  .= -u\n",
    "    m.hnew .*= m.Dx\n",
    "    \n",
    "    m.Int1 .-= m.Int2\n",
    "    m.Int1 .-= m.Int3\n",
    "    m.Int1 .*= m.Pi\n",
    "    m.Int1 .*= m.epsilon\n",
    "    \n",
    "    u  .= h\n",
    "    u .*= m.H\n",
    "    u .+= m.Int1\n",
    "    \n",
    "    h .= m.hnew\n",
    "             \n",
    "end\n",
    "\n"
   ]
  },
  {
   "cell_type": "code",
   "execution_count": 3,
   "metadata": {},
   "outputs": [],
   "source": [
    "mutable struct Matsuno <: AbstractModel\n",
    "    \n",
    "    freq    :: Freq\n",
    "    label   :: String\n",
    "    data    :: Vector{Tuple{Vector{Complex{Float64}},Vector{Complex{Float64}}}}\n",
    "    Gamma   :: Array{Float64,1}\n",
    "    Dx      :: Array{Complex{Float64},1}\n",
    "    H       :: Array{Complex{Float64},1}\n",
    "    Pi      :: BitArray{1}\n",
    "    epsilon :: Float64\n",
    "    hnew    :: Vector{Complex{Float64}}\n",
    "    unew    :: Vector{Complex{Float64}}\n",
    "    \n",
    "    Int1    :: Vector{Complex{Float64}}\n",
    "    Int2    :: Vector{Complex{Float64}}\n",
    "    Int3    :: Vector{Complex{Float64}}\n",
    "    \n",
    "    Px      :: FFTW.FFTWPlan\n",
    "\n",
    "    function Matsuno(freq::Freq, epsilon::Float64)\n",
    "        label = \"Matsuno\"\n",
    "        data  = []\n",
    "        Gamma = abs.(freq.k)\n",
    "        Dx    =  1im * freq.k            # Differentiation\n",
    "        H     = -1im * sign.(freq.k)     # Hilbert transform\n",
    "        Pi    = Gamma .< freq.kmax * 2/3 # Dealiasing low-pass filter\n",
    "        hnew = zeros(Complex{Float64}, freq.nk)\n",
    "        unew = zeros(Complex{Float64}, freq.nk)\n",
    "    \n",
    "        Int1 = zeros(Complex{Float64}, freq.nk)\n",
    "        Int2 = zeros(Complex{Float64}, freq.nk)\n",
    "        Int3 = zeros(Complex{Float64}, freq.nk)\n",
    "        \n",
    "        Px  = plan_fft(hnew; flags = FFTW.MEASURE)\n",
    "      \n",
    "        new(freq, label, data, Gamma, Dx, H, Pi, epsilon,\n",
    "            hnew, unew, Int1, Int2, Int3, Px)\n",
    "    end\n",
    "end\n",
    "\n",
    "\n",
    "function (m::Matsuno)(h::Vector{Complex{Float64}},\n",
    "                      u::Vector{Complex{Float64}})\n",
    "    \n",
    "   # hnew .= real(ifft(h))\n",
    "   # unew .= real(ifft(u))\n",
    "   # Int3 .= fft(real(ifft(Dx.*h)).*real(ifft(Gamma.*h)))\n",
    " #\n",
    "   # Int1 .= H.*u-epsilon*Pi.*(H.*fft(hnew.*real(ifft(Gamma.*u))).+Dx.*fft(hnew.*unew))\n",
    "   # Int2 .= -(Dx.*h)-epsilon/2*Pi.*(Dx.*fft(unew.^2))+epsilon*Pi.*Int3\n",
    "   # \n",
    "   # h .= Int1\n",
    "   # u .= Int2\n",
    "     \n",
    "    m.hnew .= m.Gamma \n",
    "    m.hnew .*= h         \n",
    "    ldiv!(m.unew, m.Px, m.hnew )   \n",
    "    m.hnew .= m.Dx \n",
    "    m.hnew .*= h            \n",
    "    ldiv!(m.Int1, m.Px, m.hnew)    \n",
    "    m.unew .*= m.Int1            \n",
    "    mul!(m.Int1, m.Px, m.unew)     \n",
    "    m.Int1 .*= m.epsilon*m.Pi\n",
    "    m.Int2 .= m.Dx .* h\n",
    "    m.Int1 .-= m.Int2\n",
    "    ldiv!(m.hnew, m.Px, h)\n",
    "    ldiv!(m.unew, m.Px, u)\n",
    "    m.Int2  .= m.hnew .* m.unew\n",
    "    mul!(m.Int3, m.Px, m.Int2)\n",
    "    m.Int3 .*= m.Dx\n",
    "    h     .= m.H.*u\n",
    "    u    .*= m.Gamma\n",
    "    ldiv!(m.Int2, m.Px, u)\n",
    "    m.Int2 .*= m.hnew\n",
    "    mul!(u, m.Px, m.Int2)\n",
    "    u    .*= m.H\n",
    "    m.Int3 .+= u\n",
    "    m.Int3 .*= m.epsilon * m.Pi\n",
    "    h    .-= m.Int3     \n",
    "    m.Int3  .= m.unew.^2\n",
    "    mul!(m.unew, m.Px, m.Int3)\n",
    "    m.unew  .*= m.Dx\n",
    "    m.unew  .*= m.epsilon/2 * m.Pi \n",
    "    m.Int1  .-= m.unew\n",
    "    u .= m.Int1\n",
    "end\n",
    "    "
   ]
  },
  {
   "cell_type": "code",
   "execution_count": 4,
   "metadata": {},
   "outputs": [
    {
     "data": {
      "text/plain": [
       "solve! (generic function with 1 method)"
      ]
     },
     "execution_count": 4,
     "metadata": {},
     "output_type": "execute_result"
    }
   ],
   "source": [
    "function solve!(model::AbstractModel, h, u, times::Times, solver::TimeSolver)\n",
    "                \n",
    "    prog = Progress(times.nt,1) # progress bar\n",
    "    \n",
    "    model.data = []\n",
    "  \n",
    "    push!(model.data,(h,u))\n",
    "    for l in range(1,times.nt-1)\n",
    "        \n",
    "        dt = times.t[l+1]-times.t[l]\n",
    "        \n",
    "        step!( solver, model, h, u, dt)\n",
    "    \n",
    "        push!(model.data,(h,u))   \n",
    "        next!(prog)\n",
    "    end\n",
    "            \n",
    "end"
   ]
  },
  {
   "cell_type": "code",
   "execution_count": 5,
   "metadata": {},
   "outputs": [
    {
     "data": {
      "text/plain": [
       "step! (generic function with 1 method)"
      ]
     },
     "execution_count": 5,
     "metadata": {},
     "output_type": "execute_result"
    }
   ],
   "source": [
    "function step!(s  :: RK4,\n",
    "               f  :: AbstractModel,\n",
    "               h  :: Vector{Complex{Float64}},\n",
    "               u  :: Vector{Complex{Float64}},\n",
    "               dt :: Float64)\n",
    "        \n",
    "    s.hhat .= h\n",
    "    s.uhat .= u\n",
    "    f( s.hhat, s.uhat)\n",
    "    s.dh .= s.hhat\n",
    "    s.du .= s.uhat\n",
    "    \n",
    "    s.hhat .= h .+ dt/2*s.hhat\n",
    "    s.uhat .= u .+ dt/2*s.uhat\n",
    "    f( s.hhat, s.uhat)\n",
    "    s.dh .+= 2 * s.hhat\n",
    "    s.du .+= 2 * s.uhat\n",
    "    \n",
    "    s.hhat .= h .+ dt/2*s.hhat\n",
    "    s.uhat .= u .+ dt/2*s.uhat\n",
    "    f( s.hhat, s.uhat)\n",
    "    s.dh .+= 2 * s.hhat\n",
    "    s.du .+= 2 * s.uhat\n",
    "    \n",
    "    s.hhat .= h .+ dt*s.hhat\n",
    "    s.uhat .= u .+ dt*s.uhat\n",
    "    f( s.hhat, s.uhat)\n",
    "    s.dh .+= s.hhat\n",
    "    s.du .+= s.uhat\n",
    "    \n",
    "    h .+= dt/6 * s.dh\n",
    "    u .+= dt/6 * s.du\n",
    "end\n"
   ]
  },
  {
   "cell_type": "code",
   "execution_count": 6,
   "metadata": {},
   "outputs": [
    {
     "name": "stdout",
     "output_type": "stream",
     "text": [
      "(epsilon, N, L, T, dt) = (0.5, 4096, 10, 5, 0.001)\n"
     ]
    },
    {
     "data": {
      "text/plain": [
       "4096-element Array{Complex{Float64},1}:\n",
       " 0.0 + 0.0im\n",
       " 0.0 + 0.0im\n",
       " 0.0 + 0.0im\n",
       " 0.0 + 0.0im\n",
       " 0.0 + 0.0im\n",
       " 0.0 + 0.0im\n",
       " 0.0 + 0.0im\n",
       " 0.0 + 0.0im\n",
       " 0.0 + 0.0im\n",
       " 0.0 + 0.0im\n",
       " 0.0 + 0.0im\n",
       " 0.0 + 0.0im\n",
       " 0.0 + 0.0im\n",
       "     ⋮      \n",
       " 0.0 + 0.0im\n",
       " 0.0 + 0.0im\n",
       " 0.0 + 0.0im\n",
       " 0.0 + 0.0im\n",
       " 0.0 + 0.0im\n",
       " 0.0 + 0.0im\n",
       " 0.0 + 0.0im\n",
       " 0.0 + 0.0im\n",
       " 0.0 + 0.0im\n",
       " 0.0 + 0.0im\n",
       " 0.0 + 0.0im\n",
       " 0.0 + 0.0im"
      ]
     },
     "execution_count": 6,
     "metadata": {},
     "output_type": "execute_result"
    }
   ],
   "source": [
    "epsilon = 1/2\n",
    "N       = 2^12\n",
    "L       = 10\n",
    "T       = 5\n",
    "dt      = 0.001\n",
    "\n",
    "@show epsilon,N,L,T,dt\n",
    "\n",
    "mesh  = Mesh(-L, L, N)\n",
    "freq  = Freq(mesh.dx, N)\n",
    "times = Times(dt, T)\n",
    "\n",
    "solver = RK4( mesh.nx )\n",
    "h  = zeros(Complex{Float64}, mesh.nx)\n",
    "u  = zeros(Complex{Float64}, mesh.nx)\n",
    "\n",
    "Gamma = abs.(freq.k)\n",
    "Pi    = Gamma .< freq.kmax * 2/3\n",
    "\n",
    "h .= exp.(-mesh.x.^2)\n",
    "h .= Pi .* fft(h)\n",
    "u .= Pi .* fft(u)"
   ]
  },
  {
   "cell_type": "code",
   "execution_count": 7,
   "metadata": {},
   "outputs": [
    {
     "name": "stderr",
     "output_type": "stream",
     "text": [
      "\u001b[32mProgress:  94%|██████████████████████████████████████   |  ETA: 0:00:00\u001b[39m"
     ]
    },
    {
     "data": {
      "image/png": "[encoded data removed]",
      "text/plain": [
       "PyPlot.Figure(PyObject <Figure size 600x400 with 2 Axes>)"
      ]
     },
     "metadata": {},
     "output_type": "display_data"
    },
    {
     "name": "stdout",
     "output_type": "stream",
     "text": [
      "  8.123116 seconds (6.33 M allocations: 5.795 GiB, 7.36% gc time)\n"
     ]
    }
   ],
   "source": [
    "matsuno = Matsuno(freq, epsilon)\n",
    "\n",
    "h .= exp.(-mesh.x.^2)\n",
    "h .= Pi .* fft(h)\n",
    "u .= Pi .* fft(u)\n",
    "        \n",
    "@time solve!(matsuno, h, u, times, solver )\n",
    "fig(5, times, [matsuno], mesh)    "
   ]
  },
  {
   "cell_type": "code",
   "execution_count": 57,
   "metadata": {},
   "outputs": [
    {
     "name": "stderr",
     "output_type": "stream",
     "text": [
      "\u001b[32mProgress:  93%|██████████████████████████████████████   |  ETA: 0:00:00\u001b[39m"
     ]
    },
    {
     "data": {
      "image/png": "[encoded data removed]",
      "text/plain": [
       "PyPlot.Figure(PyObject <Figure size 600x400 with 2 Axes>)"
      ]
     },
     "metadata": {},
     "output_type": "display_data"
    },
    {
     "name": "stdout",
     "output_type": "stream",
     "text": [
      "  6.696788 seconds (879.00 k allocations: 4.922 GiB, 8.42% gc time)\n"
     ]
    }
   ],
   "source": [
    "cheng = Cheng(freq, epsilon)\n",
    "\n",
    "@time solve!(cheng, h, u, times, solver )\n",
    "fig(5, times, [cheng], mesh)"
   ]
  },
  {
   "cell_type": "code",
   "execution_count": null,
   "metadata": {},
   "outputs": [],
   "source": []
  },
  {
   "cell_type": "code",
   "execution_count": null,
   "metadata": {},
   "outputs": [],
   "source": []
  }
 ],
 "metadata": {
  "kernelspec": {
   "display_name": "Julia 1.0.1",
   "language": "julia",
   "name": "julia-1.0"
  },
  "language_info": {
   "file_extension": ".jl",
   "mimetype": "application/julia",
   "name": "julia",
   "version": "1.0.1"
  }
 },
 "nbformat": 4,
 "nbformat_minor": 2
}
