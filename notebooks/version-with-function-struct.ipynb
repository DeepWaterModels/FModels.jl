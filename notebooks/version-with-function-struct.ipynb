{
 "cells": [
  {
   "cell_type": "code",
   "execution_count": 1,
   "metadata": {},
   "outputs": [
    {
     "data": {
      "text/plain": [
       "Plots.PyPlotBackend()"
      ]
     },
     "execution_count": 1,
     "metadata": {},
     "output_type": "execute_result"
    }
   ],
   "source": [
    "using  FFTW\n",
    "using  LinearAlgebra\n",
    "using  ProgressMeter\n",
    "using  BenchmarkTools\n",
    "using  Plots\n",
    "using  DeepWaterModels\n",
    "\n",
    "pyplot()"
   ]
  },
  {
   "cell_type": "code",
   "execution_count": 2,
   "metadata": {},
   "outputs": [],
   "source": [
    "abstract type AbstractModel end\n",
    "\n",
    "mutable struct Cheng <: AbstractModel\n",
    "\n",
    "    freq    :: Freq\n",
    "    label   :: String\n",
    "    Gamma   :: Array{Float64,1}\n",
    "    Dx      :: Array{Complex{Float64},1}\n",
    "    H       :: Array{Complex{Float64},1}\n",
    "    Pi      :: BitArray{1}\n",
    "    epsilon :: Float64\n",
    "    hnew    :: Vector{Complex{Float64}}\n",
    "    unew    :: Vector{Complex{Float64}}\n",
    "    \n",
    "    Int1    :: Vector{Complex{Float64}}\n",
    "    Int2    :: Vector{Complex{Float64}}\n",
    "    Int3    :: Vector{Complex{Float64}}\n",
    "    \n",
    "    Px      :: FFTW.FFTWPlan\n",
    "        \n",
    "    function Cheng(freq::Freq, epsilon::Float64)\n",
    "        label = \"Cheng et al.\"\n",
    "        Gamma = abs.(freq.k)\n",
    "        Dx    =  1im * freq.k            # Differentiation\n",
    "        H     = -1im * sign.(freq.k)     # Hilbert transform\n",
    "        Pi    = Gamma .< freq.kmax * 2/3 # Dealiasing low-pass filter\n",
    "        \n",
    "        hnew = zeros(Complex{Float64}, freq.nk)\n",
    "        unew = zeros(Complex{Float64}, freq.nk)\n",
    "    \n",
    "        Int1 = zeros(Complex{Float64}, freq.nk)\n",
    "        Int2 = zeros(Complex{Float64}, freq.nk)\n",
    "        Int3 = zeros(Complex{Float64}, freq.nk)\n",
    "        \n",
    "        Px  = plan_fft(hnew; flags = FFTW.MEASURE)\n",
    "      \n",
    "        new(freq, label, Gamma, Dx, H, Pi, epsilon,\n",
    "            hnew, unew, Int1, Int2, Int3, Px)\n",
    "        \n",
    "    end\n",
    "end\n",
    "\n",
    "function (m::Cheng)(h::Vector{Complex{Float64}},\n",
    "                    u::Vector{Complex{Float64}})\n",
    "         \n",
    "    ldiv!(m.hnew, m.Px , h)\n",
    "    \n",
    "    m.Int1  .= u\n",
    "    m.Int1 .*= m.Gamma\n",
    "    ldiv!(m.unew, m.Px , m.Int1)\n",
    "    m.unew  .^= 2\n",
    "    mul!(m.Int1, m.Px , m.unew)\n",
    "    m.Int1 .*= m.H\n",
    "    \n",
    "    m.Int2  .= h\n",
    "    m.Int2 .*= m.Dx\n",
    "    ldiv!(m.unew, m.Px , m.Int2)\n",
    "    m.unew  .*= m.hnew\n",
    "    mul!(m.Int2, m.Px , m.unew)\n",
    "    \n",
    "    m.Int3  .= h\n",
    "    m.Int3 .*= m.Gamma\n",
    "    ldiv!(m.unew, m.Px, m.Int3)\n",
    "    m.unew  .*= m.hnew\n",
    "    mul!(m.Int3 , m.Px , m.unew)\n",
    "    m.Int3 .*= m.H\n",
    "    \n",
    "    m.hnew  .= -u\n",
    "    m.hnew .*= m.Dx\n",
    "    \n",
    "    m.Int1 .-= m.Int2\n",
    "    m.Int1 .-= m.Int3\n",
    "    m.Int1 .*= m.Pi\n",
    "    m.Int1 .*= m.epsilon\n",
    "    \n",
    "    u  .= h\n",
    "    u .*= m.H\n",
    "    u .+= m.Int1\n",
    "    \n",
    "    h .= m.hnew\n",
    "             \n",
    "end\n",
    "\n"
   ]
  },
  {
   "cell_type": "code",
   "execution_count": 3,
   "metadata": {},
   "outputs": [],
   "source": [
    "mutable struct Matsuno <: AbstractModel\n",
    "    \n",
    "    freq    :: Freq\n",
    "    label   :: String\n",
    "    Gamma   :: Array{Float64,1}\n",
    "    Dx      :: Array{Complex{Float64},1}\n",
    "    H       :: Array{Complex{Float64},1}\n",
    "    Pi      :: BitArray{1}\n",
    "    epsilon :: Float64\n",
    "    hnew    :: Vector{Complex{Float64}}\n",
    "    unew    :: Vector{Complex{Float64}}\n",
    "    \n",
    "    Int1    :: Vector{Complex{Float64}}\n",
    "    Int2    :: Vector{Complex{Float64}}\n",
    "    Int3    :: Vector{Complex{Float64}}\n",
    "    \n",
    "    Px      :: FFTW.FFTWPlan\n",
    "\n",
    "    function Matsuno(freq::Freq, epsilon::Float64)\n",
    "        label = \"Matsuno\"\n",
    "        Gamma = abs.(freq.k)\n",
    "        Dx    =  1im * freq.k            # Differentiation\n",
    "        H     = -1im * sign.(freq.k)     # Hilbert transform\n",
    "        Pi    = Gamma .< freq.kmax * 2/3 # Dealiasing low-pass filter\n",
    "        hnew = zeros(Complex{Float64}, freq.nk)\n",
    "        unew = zeros(Complex{Float64}, freq.nk)\n",
    "    \n",
    "        Int1 = zeros(Complex{Float64}, freq.nk)\n",
    "        Int2 = zeros(Complex{Float64}, freq.nk)\n",
    "        Int3 = zeros(Complex{Float64}, freq.nk)\n",
    "        \n",
    "        Px  = plan_fft(hnew; flags = FFTW.MEASURE)\n",
    "      \n",
    "        new(freq, label, Gamma, Dx, H, Pi, epsilon,\n",
    "            hnew, unew, Int1, Int2, Int3, Px)\n",
    "    end\n",
    "end\n",
    "\n",
    "\n",
    "function (m::Matsuno)(h::Vector{Complex{Float64}},\n",
    "                      u::Vector{Complex{Float64}})\n",
    "    \n",
    "   # hnew .= real(ifft(h))\n",
    "   # unew .= real(ifft(u))\n",
    "   # Int3 .= fft(real(ifft(Dx.*h)).*real(ifft(Gamma.*h)))\n",
    " #\n",
    "   # Int1 .= H.*u-epsilon*Pi.*(H.*fft(hnew.*real(ifft(Gamma.*u))).+Dx.*fft(hnew.*unew))\n",
    "   # Int2 .= -(Dx.*h)-epsilon/2*Pi.*(Dx.*fft(unew.^2))+epsilon*Pi.*Int3\n",
    "   # \n",
    "   # h .= Int1\n",
    "   # u .= Int2\n",
    "     \n",
    "    m.hnew .= m.Gamma \n",
    "    m.hnew .*= h         \n",
    "    ldiv!(m.unew, m.Px, m.hnew )   \n",
    "    m.hnew .= m.Dx \n",
    "    m.hnew .*= h            \n",
    "    ldiv!(m.Int1, m.Px, m.hnew)    \n",
    "    m.unew .*= m.Int1            \n",
    "    mul!(m.Int1, m.Px, m.unew)     \n",
    "    m.Int1 .*= m.epsilon*m.Pi\n",
    "    m.Int2 .= m.Dx .* h\n",
    "    m.Int1 .-= m.Int2\n",
    "    ldiv!(m.hnew, m.Px, h)\n",
    "    ldiv!(m.unew, m.Px, u)\n",
    "    m.Int2  .= m.hnew .* m.unew\n",
    "    mul!(m.Int3, m.Px, m.Int2)\n",
    "    m.Int3 .*= m.Dx\n",
    "    h     .= m.H.*u\n",
    "    u    .*= m.Gamma\n",
    "    ldiv!(m.Int2, m.Px, u)\n",
    "    m.Int2 .*= m.hnew\n",
    "    mul!(u, m.Px, m.Int2)\n",
    "    u    .*= m.H\n",
    "    m.Int3 .+= u\n",
    "    m.Int3 .*= m.epsilon * m.Pi\n",
    "    h    .-= m.Int3     \n",
    "    m.Int3  .= m.unew.^2\n",
    "    mul!(m.unew, m.Px, m.Int3)\n",
    "    m.unew  .*= m.Dx\n",
    "    m.unew  .*= m.epsilon/2 * m.Pi \n",
    "    m.Int1  .-= m.unew\n",
    "    u .= m.Int1\n",
    "end\n",
    "    "
   ]
  },
  {
   "cell_type": "code",
   "execution_count": 4,
   "metadata": {},
   "outputs": [
    {
     "data": {
      "text/plain": [
       "solve (generic function with 1 method)"
      ]
     },
     "execution_count": 4,
     "metadata": {},
     "output_type": "execute_result"
    }
   ],
   "source": [
    "function solve(model::AbstractModel, \n",
    "        h::Vector{Complex{Float64}}, \n",
    "        u::Vector{Complex{Float64}}, \n",
    "        times::Times, solver::TimeSolver)\n",
    "                \n",
    "    prog = Progress(times.nt,1)\n",
    "    \n",
    "    data = []\n",
    "    push!(data,(h,u))\n",
    "    for l in range(1,times.nt-1)\n",
    "        \n",
    "        dt = times.t[l+1]-times.t[l]\n",
    "        \n",
    "        step!( solver, model, h, u, dt)\n",
    "    \n",
    "        push!(data,(h,u))   \n",
    "        next!(prog)\n",
    "        \n",
    "    end\n",
    "    data     \n",
    "end"
   ]
  },
  {
   "cell_type": "code",
   "execution_count": 5,
   "metadata": {},
   "outputs": [
    {
     "data": {
      "text/plain": [
       "step! (generic function with 1 method)"
      ]
     },
     "execution_count": 5,
     "metadata": {},
     "output_type": "execute_result"
    }
   ],
   "source": [
    "function step!(s  :: RK4,\n",
    "               f  :: AbstractModel,\n",
    "               h  :: Vector{Complex{Float64}},\n",
    "               u  :: Vector{Complex{Float64}},\n",
    "               dt :: Float64)\n",
    "        \n",
    "    s.hhat .= h\n",
    "    s.uhat .= u\n",
    "    f( s.hhat, s.uhat)\n",
    "    s.dh .= s.hhat\n",
    "    s.du .= s.uhat\n",
    "    \n",
    "    s.hhat .= h .+ dt/2*s.hhat\n",
    "    s.uhat .= u .+ dt/2*s.uhat\n",
    "    f( s.hhat, s.uhat)\n",
    "    s.dh .+= 2 * s.hhat\n",
    "    s.du .+= 2 * s.uhat\n",
    "    \n",
    "    s.hhat .= h .+ dt/2*s.hhat\n",
    "    s.uhat .= u .+ dt/2*s.uhat\n",
    "    f( s.hhat, s.uhat)\n",
    "    s.dh .+= 2 * s.hhat\n",
    "    s.du .+= 2 * s.uhat\n",
    "    \n",
    "    s.hhat .= h .+ dt*s.hhat\n",
    "    s.uhat .= u .+ dt*s.uhat\n",
    "    f( s.hhat, s.uhat)\n",
    "    s.dh .+= s.hhat\n",
    "    s.du .+= s.uhat\n",
    "    \n",
    "    h .+= dt/6 * s.dh\n",
    "    u .+= dt/6 * s.du\n",
    "end\n"
   ]
  },
  {
   "cell_type": "code",
   "execution_count": 28,
   "metadata": {},
   "outputs": [
    {
     "data": {
      "text/plain": [
       "fig (generic function with 2 methods)"
      ]
     },
     "execution_count": 28,
     "metadata": {},
     "output_type": "execute_result"
    }
   ],
   "source": [
    "function fig(t, times::Times, models::Dict, mesh::Mesh, Gamma, freq)\n",
    "        \n",
    "    s = 0\n",
    "    if indexin(false,times.t.<=t)[1]==nothing\n",
    "        index=length(times.t)\n",
    "    else \n",
    "        index=indexin(false,times.t.<=t)\n",
    "    end\n",
    "    \n",
    "    p = plot(layout=(2,1))\n",
    "\n",
    "\n",
    "    for label in keys(models)\n",
    "    \n",
    "        (hhat,uhat)=models[label][index]\n",
    "        (h,u)=(real(ifft((Gamma.^s).*hhat)),real(ifft(uhat)))\n",
    "        plot!(p[1,1], mesh.x,h; label=string(label))\n",
    "        plot!(p[2,1], fftshift(freq.k),log10.(1e-18.+abs.(fftshift(hhat))); \n",
    "            label=string(label))\n",
    "    end\n",
    "    \n",
    "    p\n",
    "end\n"
   ]
  },
  {
   "cell_type": "code",
   "execution_count": 29,
   "metadata": {},
   "outputs": [
    {
     "name": "stdout",
     "output_type": "stream",
     "text": [
      "(epsilon, N, L, T, dt) = (0.5, 4096, 10, 5, 0.001)\n"
     ]
    }
   ],
   "source": [
    "epsilon = 1/2\n",
    "N       = 2^12\n",
    "L       = 10\n",
    "T       = 5\n",
    "dt      = 0.001\n",
    "\n",
    "@show epsilon,N,L,T,dt\n",
    "\n",
    "mesh  = Mesh(-L, L, N)\n",
    "freq  = Freq(mesh.dx, N)\n",
    "times = Times(dt, T)\n",
    "\n",
    "solver = RK4( mesh.nx )\n",
    "h  = zeros(Complex{Float64}, mesh.nx)\n",
    "u  = zeros(Complex{Float64}, mesh.nx)\n",
    "\n",
    "Gamma = abs.(freq.k)\n",
    "Pi    = Gamma .< freq.kmax * 2/3;\n",
    "\n"
   ]
  },
  {
   "cell_type": "code",
   "execution_count": 30,
   "metadata": {},
   "outputs": [
    {
     "name": "stderr",
     "output_type": "stream",
     "text": [
      "\u001b[32mProgress:  96%|███████████████████████████████████████  |  ETA: 0:00:00\u001b[39m"
     ]
    },
    {
     "name": "stdout",
     "output_type": "stream",
     "text": [
      "  6.246809 seconds (551.18 k allocations: 5.519 GiB, 9.04% gc time)\n"
     ]
    },
    {
     "name": "stderr",
     "output_type": "stream",
     "text": [
      "\u001b[32mProgress:  96%|███████████████████████████████████████  |  ETA: 0:00:00\u001b[39m"
     ]
    },
    {
     "name": "stdout",
     "output_type": "stream",
     "text": [
      "  6.254393 seconds (551.33 k allocations: 5.519 GiB, 8.73% gc time)\n"
     ]
    },
    {
     "data": {
      "image/png": "[encoded data removed]"
     },
     "execution_count": 30,
     "metadata": {},
     "output_type": "execute_result"
    }
   ],
   "source": [
    "results = Dict()\n",
    "\n",
    "for model in [Matsuno(freq, epsilon), Cheng(freq, epsilon)]\n",
    "\n",
    "    h .= exp.(-mesh.x.^2)\n",
    "    h .= Pi .* fft(h)\n",
    "    fill!(u, 0)\n",
    "    u .= Pi .* fft(u)\n",
    "        \n",
    "    @time results[model.label] = solve(matsuno, h, u, times, solver )\n",
    "end\n",
    "\n",
    "p1 = fig(5, times, results, mesh, Gamma, freq)    "
   ]
  },
  {
   "cell_type": "code",
   "execution_count": null,
   "metadata": {},
   "outputs": [],
   "source": []
  }
 ],
 "metadata": {
  "kernelspec": {
   "display_name": "Julia 1.0.1",
   "language": "julia",
   "name": "julia-1.0"
  },
  "language_info": {
   "file_extension": ".jl",
   "mimetype": "application/julia",
   "name": "julia",
   "version": "1.0.1"
  }
 },
 "nbformat": 4,
 "nbformat_minor": 2
}
