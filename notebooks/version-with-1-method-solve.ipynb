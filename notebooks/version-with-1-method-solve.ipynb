{
 "cells": [
  {
   "cell_type": "code",
   "execution_count": 2,
   "metadata": {},
   "outputs": [
    {
     "data": {
      "text/plain": [
       "Plots.PyPlotBackend()"
      ]
     },
     "execution_count": 2,
     "metadata": {},
     "output_type": "execute_result"
    }
   ],
   "source": [
    "using  FFTW\n",
    "using  LinearAlgebra\n",
    "using  ProgressMeter\n",
    "using  BenchmarkTools\n",
    "using  Plots\n",
    "pyplot()"
   ]
  },
  {
   "cell_type": "code",
   "execution_count": 3,
   "metadata": {},
   "outputs": [],
   "source": [
    "struct Mesh\n",
    "    \n",
    "    N   :: Int\n",
    "    xmin :: Float64\n",
    "    xmax :: Float64\n",
    "    dx   :: Float64\n",
    "    x    :: Vector{Float64}\n",
    "    kmin :: Float64\n",
    "    kmax :: Float64\n",
    "    dk   :: Float64\n",
    "    k    :: Vector{Float64}\n",
    "    \n",
    "    function Mesh( xmin, xmax, N)\n",
    "        dx = (xmax-xmin)/N\n",
    "        x = range(xmin, stop=xmax, length=N+1)[1:end-1]\n",
    "        dk = 2π/(N*dx)\n",
    "        kmin = -N/2*dk\n",
    "        kmax = (N/2-1)*dk\n",
    "        k = [range(0, length=N ÷ 2, step = dk) ; range(kmin, length=N ÷ 2, step = dk) ]\n",
    "        new( N, xmin, xmax, dx, x, kmin, kmax, dk, k)\n",
    "    end\n",
    "end"
   ]
  },
  {
   "cell_type": "code",
   "execution_count": 4,
   "metadata": {},
   "outputs": [],
   "source": [
    "struct Times\n",
    "    \n",
    "    Nt   :: Int\n",
    "    tfin :: Float64\n",
    "    dt   :: Float64\n",
    "    t    :: Vector{Float64}\n",
    "    \n",
    "    function Times( dt, tfin)\n",
    "        t = range(0, stop=tfin, step = dt)\n",
    "        Nt = length(t)\n",
    "        new( Nt, tfin, dt, t)\n",
    "    end\n",
    "end"
   ]
  },
  {
   "cell_type": "code",
   "execution_count": 5,
   "metadata": {},
   "outputs": [],
   "source": [
    "struct Parameters\n",
    "    \n",
    "    epsilon :: Float64\n",
    "    mu :: Float64\n",
    "end"
   ]
  },
  {
   "cell_type": "code",
   "execution_count": 6,
   "metadata": {},
   "outputs": [],
   "source": [
    "struct Datum\n",
    "    \n",
    "    h0 :: Array{Complex{Float64},1}\n",
    "    u0 :: Array{Complex{Float64},1}\n",
    "    \n",
    "end"
   ]
  },
  {
   "cell_type": "code",
   "execution_count": 7,
   "metadata": {},
   "outputs": [],
   "source": [
    "abstract type TimeSolver end\n",
    "abstract type Model end\n",
    "#A placer avant la def de RK4 qui utilise ces types"
   ]
  },
  {
   "cell_type": "code",
   "execution_count": 8,
   "metadata": {},
   "outputs": [
    {
     "data": {
      "text/plain": [
       "step! (generic function with 2 methods)"
      ]
     },
     "execution_count": 8,
     "metadata": {},
     "output_type": "execute_result"
    }
   ],
   "source": [
    "mutable struct RK4 <: TimeSolver\n",
    "    \n",
    "    hhat :: Vector{Complex{Float64}}\n",
    "    uhat :: Vector{Complex{Float64}}\n",
    "    dh   :: Vector{Complex{Float64}}\n",
    "    du   :: Vector{Complex{Float64}}\n",
    "    \n",
    "    function RK4( n )\n",
    "        \n",
    "        hhat = zeros(Complex{Float64}, n)\n",
    "        uhat = zeros(Complex{Float64}, n)\n",
    "        du   = zeros(Complex{Float64}, n)\n",
    "        dh   = zeros(Complex{Float64}, n)\n",
    "        \n",
    "        new( hhat, uhat, du, dh)\n",
    "        \n",
    "    end\n",
    "    \n",
    "end\n",
    "\n",
    "function step!(s  :: RK4,\n",
    "               m  :: Model,\n",
    "               f  :: Function,\n",
    "               h  :: Vector{Complex{Float64}},\n",
    "               u  :: Vector{Complex{Float64}},\n",
    "               dt :: Float64)\n",
    "        \n",
    "    s.hhat .= h\n",
    "    s.uhat .= u\n",
    "    f(m, s.hhat, s.uhat)\n",
    "    s.dh .= s.hhat\n",
    "    s.du .= s.uhat\n",
    "    \n",
    "    s.hhat .= h .+ dt/2*s.hhat\n",
    "    s.uhat .= u .+ dt/2*s.uhat\n",
    "    f(m, s.hhat, s.uhat)\n",
    "    s.dh .+= 2 * s.hhat\n",
    "    s.du .+= 2 * s.uhat\n",
    "    \n",
    "    s.hhat .= h .+ dt/2*s.hhat\n",
    "    s.uhat .= u .+ dt/2*s.uhat\n",
    "    f(m, s.hhat, s.uhat)\n",
    "    s.dh .+= 2 * s.hhat\n",
    "    s.du .+= 2 * s.uhat\n",
    "    \n",
    "    s.hhat .= h .+ dt*s.hhat\n",
    "    s.uhat .= u .+ dt*s.uhat\n",
    "    f(m, s.hhat, s.uhat)\n",
    "    s.dh .+= s.hhat\n",
    "    s.du .+= s.uhat\n",
    "    \n",
    "    h .+= dt/6 * s.dh\n",
    "    u .+= dt/6 * s.du\n",
    "end\n",
    "\n",
    "mutable struct EulExp <: TimeSolver\n",
    "    \n",
    "    hhat :: Vector{Complex{Float64}}\n",
    "    uhat :: Vector{Complex{Float64}}\n",
    "    \n",
    "    function EulExp( n )\n",
    "        \n",
    "        hhat = zeros(Complex{Float64}, n)\n",
    "        uhat = zeros(Complex{Float64}, n)\n",
    "        \n",
    "        new( hhat, uhat)\n",
    "        \n",
    "    end\n",
    "    \n",
    "end\n",
    "\n",
    "function step!(s  :: EulExp,\n",
    "               m  :: Model,\n",
    "               f  :: Function,\n",
    "               h  :: Vector{Complex{Float64}},\n",
    "               u  :: Vector{Complex{Float64}},\n",
    "               dt :: Float64)\n",
    "        \n",
    "    s.hhat .= h\n",
    "    s.uhat .= u\n",
    "    f( m, s.hhat, s.uhat)\n",
    "    \n",
    "    h .+= dt * s.hhat\n",
    "    u .+= dt * s.uhat\n",
    "end\n",
    "    "
   ]
  },
  {
   "cell_type": "code",
   "execution_count": 15,
   "metadata": {},
   "outputs": [
    {
     "data": {
      "text/plain": [
       "fwave! (generic function with 2 methods)"
      ]
     },
     "execution_count": 15,
     "metadata": {},
     "output_type": "execute_result"
    }
   ],
   "source": [
    "mutable struct Cheng <: Model\n",
    "    \n",
    "    mesh    :: Mesh\n",
    "    label   :: String\n",
    "    data    :: Vector{Tuple{Vector{Complex{Float64}},Vector{Complex{Float64}}}}\n",
    "    Gamma   :: Array{Float64,1}\n",
    "    Dx      :: Array{Complex{Float64},1}\n",
    "    H       :: Array{Complex{Float64},1}\n",
    "    Pi      :: BitArray{1}\n",
    "    Px      :: FFTW.cFFTWPlan{Complex{Float64},-1,false,1}\n",
    "    epsilon :: Float64\n",
    "    hnew    :: Array{Complex{Float64},1}\n",
    "    unew    :: Array{Complex{Float64},1}\n",
    "    Int1    :: Array{Complex{Float64},1}\n",
    "    Int2    :: Array{Complex{Float64},1}\n",
    "    Int3    :: Array{Complex{Float64},1}\n",
    "\n",
    "    function Cheng()\n",
    "        label = \"Cheng et al.\"\n",
    "        data  = []\n",
    "        Gamma = abs.(mesh.k)\n",
    "        epsilon= parameters.epsilon\n",
    "        Dx    =  1im * mesh.k            # Differentiation\n",
    "        H     = -1im * sign.(mesh.k)     # Hilbert transform\n",
    "        Pi    = Gamma .< mesh.kmax * 2/3 # Dealiasing low-pass filter\n",
    "        h0=initial_data.h0\n",
    "        Px  = plan_fft(h0; flags = FFTW.MEASURE)\n",
    "        hnew, unew ,Int1, Int2, Int3 = similar(h0), similar(h0), similar(h0), similar(h0), similar(h0)\n",
    "        new(mesh, label, data, Gamma, Dx, H, Pi, Px, epsilon, hnew, unew, Int1, Int2, Int3)\n",
    "    end\n",
    "end\n",
    "\n",
    "function init(m :: Cheng, datum::Datum)\n",
    "         \n",
    "         return Datum(m.Pi.*fft(datum.h0),m.Pi.*fft(datum.u0))\n",
    "end\n",
    "\n",
    "function build(m :: Cheng, datum::Datum)\n",
    "         \n",
    "         return Datum(real(ifft(datum.h0)),real(ifft(datum.u0)))\n",
    "end\n",
    "\n",
    "function fwave!(m :: Cheng,\n",
    "                    h::Vector{Complex{Float64}},\n",
    "                    u::Vector{Complex{Float64}})\n",
    "         \n",
    "         ldiv!(m.hnew, m.Px , h)\n",
    "         \n",
    "         m.Int1  .= u\n",
    "         m.Int1 .*= m.Gamma\n",
    "         ldiv!(m.unew, m.Px , m.Int1)\n",
    "         m.unew  .^= 2\n",
    "         mul!(m.Int1, m.Px , m.unew)\n",
    "         m.Int1 .*= m.H\n",
    "         \n",
    "         m.Int2  .= h\n",
    "         m.Int2 .*= m.Dx\n",
    "         ldiv!(m.unew, m.Px , m.Int2)\n",
    "         m.unew  .*= m.hnew\n",
    "         mul!(m.Int2, m.Px , m.unew)\n",
    "         \n",
    "         m.Int3  .= h\n",
    "         m.Int3 .*= m.Gamma\n",
    "         ldiv!(m.unew, m.Px, m.Int3)\n",
    "         m.unew  .*= m.hnew\n",
    "         mul!(m.Int3 , m.Px , m.unew)\n",
    "         m.Int3 .*= m.H\n",
    "         \n",
    "         m.hnew  .= -u\n",
    "         m.hnew .*= m.Dx\n",
    "         \n",
    "         m.Int1 .-= m.Int2\n",
    "         m.Int1 .-= m.Int3\n",
    "         m.Int1 .*= m.Pi\n",
    "         m.Int1 .*= m.epsilon\n",
    "         \n",
    "         u  .= h\n",
    "         u .*= m.H\n",
    "         u .+= m.Int1\n",
    "         \n",
    "         h .= m.hnew\n",
    "         \n",
    "end"
   ]
  },
  {
   "cell_type": "code",
   "execution_count": 16,
   "metadata": {},
   "outputs": [
    {
     "data": {
      "text/plain": [
       "fwave! (generic function with 2 methods)"
      ]
     },
     "execution_count": 16,
     "metadata": {},
     "output_type": "execute_result"
    }
   ],
   "source": [
    "mutable struct Matsuno <: Model\n",
    "    \n",
    "    mesh    :: Mesh\n",
    "    label   :: String\n",
    "    data    :: Vector{Tuple{Vector{Complex{Float64}},Vector{Complex{Float64}}}}\n",
    "    Gamma   :: Array{Float64,1}\n",
    "    Dx      :: Array{Complex{Float64},1}\n",
    "    H       :: Array{Complex{Float64},1}\n",
    "    Pi      :: BitArray{1}\n",
    "    Px      :: FFTW.cFFTWPlan{Complex{Float64},-1,false,1}\n",
    "    epsilon :: Float64\n",
    "    hnew    :: Array{Complex{Float64},1}\n",
    "    unew    :: Array{Complex{Float64},1}\n",
    "    Int1    :: Array{Complex{Float64},1}\n",
    "    Int2    :: Array{Complex{Float64},1}\n",
    "    Int3    :: Array{Complex{Float64},1}\n",
    "\n",
    "    function Matsuno()\n",
    "        label = \"Matsuno\"\n",
    "        data  = []\n",
    "        Gamma = abs.(mesh.k)\n",
    "        epsilon= parameters.epsilon\n",
    "        Dx    =  1im * mesh.k            # Differentiation\n",
    "        H     = -1im * sign.(mesh.k)     # Hilbert transform\n",
    "        Pi    = Gamma .< mesh.kmax * 2/3 # Dealiasing low-pass filter\n",
    "        h0=initial_data.h0\n",
    "        Px  = plan_fft(h0; flags = FFTW.MEASURE)\n",
    "        hnew, unew ,Int1, Int2, Int3 = similar(h0), similar(h0), similar(h0), similar(h0), similar(h0)\n",
    "        new(mesh, label, data, Gamma, Dx, H, Pi, Px, epsilon, hnew, unew, Int1, Int2, Int3)\n",
    "    end\n",
    "end\n",
    "\n",
    "\n",
    "function init(m :: Matsuno, datum::Datum)\n",
    "         \n",
    "         return Datum(m.Pi.*fft(datum.h0),m.Pi.*fft(datum.u0))\n",
    "end\n",
    "\n",
    "function build(m :: Matsuno, datum::Datum)\n",
    "         \n",
    "         return Datum(real(ifft(datum.h0)),real(ifft(datum.u0)))\n",
    "end\n",
    "\n",
    "function fwave!(m :: Matsuno,\n",
    "                    h::Vector{Complex{Float64}},\n",
    "                    u::Vector{Complex{Float64}})\n",
    "         \n",
    "        m.hnew .= m.Gamma .* h         \n",
    "        ldiv!(m.unew, m.Px, m.hnew )   \n",
    "        m.hnew .= m.Dx .* h            \n",
    "        ldiv!(m.Int1, m.Px, m.hnew)    \n",
    "        m.unew .*= m.Int1            \n",
    "        mul!(m.Int1, m.Px, m.unew)     \n",
    "        m.Int1 .*= m.epsilon*m.Pi\n",
    "        m.Int1 .-= m.Dx .* h \n",
    "        ldiv!(m.hnew, m.Px, h)\n",
    "        ldiv!(m.unew, m.Px, u)\n",
    "        m.Int2  .= m.hnew .* m.unew\n",
    "        mul!(m.Int3, m.Px, m.Int2)\n",
    "        m.Int3 .*= m.Dx\n",
    "        h     .= m.H.*u\n",
    "        u    .*= m.Gamma\n",
    "        ldiv!(m.Int2, m.Px, u)\n",
    "        m.Int2 .*= m.hnew\n",
    "        mul!(u, m.Px, m.Int2)\n",
    "        u    .*= m.H\n",
    "        m.Int3 .+= u\n",
    "        m.Int3 .*= m.epsilon * m.Pi\n",
    "        h    .-= m.Int3     \n",
    "        m.Int3  .= m.unew.^2\n",
    "        mul!(m.unew, m.Px, m.Int3)\n",
    "        m.unew  .*= m.Dx\n",
    "        m.unew  .*= m.epsilon/2 * m.Pi \n",
    "        m.Int1  .-= m.unew\n",
    "        u .= m.Int1\n",
    "end"
   ]
  },
  {
   "cell_type": "code",
   "execution_count": 23,
   "metadata": {},
   "outputs": [
    {
     "data": {
      "text/plain": [
       "solve! (generic function with 1 method)"
      ]
     },
     "execution_count": 23,
     "metadata": {},
     "output_type": "execute_result"
    }
   ],
   "source": [
    "function solve!(model::Model, init_datum::Datum, parameters::Parameters, mesh::Mesh, times::Times, solver::TimeSolver)\n",
    "    \n",
    "    prog = Progress(times.Nt,1) # progress bar\n",
    "    \n",
    "    h = init(model, init_datum).h0\n",
    "    u = init(model, init_datum).u0\n",
    "\n",
    "    model.data = [] #pourquoi je ne peux pas commenter cette ligne ?\n",
    "  \n",
    "    push!(model.data,(copy(h),copy(u)))\n",
    "    for l in range(1,times.Nt-1)\n",
    "        \n",
    "        dt = times.t[l+1]-times.t[l]\n",
    "        \n",
    "        step!( solver, model, fwave!, h, u, dt)\n",
    "    \n",
    "        push!(model.data,(copy(h),copy(u)))   \n",
    "        next!(prog)\n",
    "    end\n",
    "            \n",
    "end"
   ]
  },
  {
   "cell_type": "code",
   "execution_count": 24,
   "metadata": {},
   "outputs": [
    {
     "data": {
      "text/plain": [
       "fig (generic function with 1 method)"
      ]
     },
     "execution_count": 24,
     "metadata": {},
     "output_type": "execute_result"
    }
   ],
   "source": [
    "function fig(t, times::Times, models, mesh::Mesh)\n",
    "        \n",
    "    if indexin(false,times.t.<=t)[1]==nothing\n",
    "        index=length(times.t)\n",
    "        else index=indexin(false,times.t.<=t)[1]-1\n",
    "    end\n",
    "    t=times.t[index]\n",
    "    \n",
    "    p = plot(layout=(2,1))\n",
    "    \n",
    "    for model in models\n",
    "        datum=Datum(model.data[index][1],model.data[index][2])\n",
    "        (h,u)=(real(build(model, datum).h0),real(build(model, datum).u0))\n",
    "        plot!(p[1,1], mesh.x,h; label=model.label)\n",
    "        plot!(p[2,1], fftshift(model.mesh.k),log10.(1e-18.+abs.(fftshift(fft(h)))); \n",
    "            label=model.label)  \n",
    "    end\n",
    "    \n",
    "    display(p)\n",
    "end"
   ]
  },
  {
   "cell_type": "code",
   "execution_count": 25,
   "metadata": {},
   "outputs": [
    {
     "name": "stdout",
     "output_type": "stream",
     "text": [
      "(epsilon, N, L, T, dt) = (0.5, 4096, 10, 5, 0.001)\n",
      "*** Cheng et al. ***"
     ]
    },
    {
     "name": "stderr",
     "output_type": "stream",
     "text": [
      "\u001b[32mProgress:  98%|████████████████████████████████████████ |  ETA: 0:00:00\u001b[39m"
     ]
    },
    {
     "name": "stdout",
     "output_type": "stream",
     "text": [
      " 12.404390 seconds (478.52 k allocations: 5.517 GiB, 20.79% gc time)\n",
      "*** Matsuno ***"
     ]
    },
    {
     "name": "stderr",
     "output_type": "stream",
     "text": [
      "\u001b[32mProgress:  97%|████████████████████████████████████████ |  ETA: 0:00:00\u001b[39m"
     ]
    },
    {
     "data": {
      "image/png": "[encoded data removed]",
      "text/plain": [
       "PyPlot.Figure(PyObject <Figure size 600x400 with 2 Axes>)"
      ]
     },
     "metadata": {},
     "output_type": "display_data"
    },
    {
     "name": "stdout",
     "output_type": "stream",
     "text": [
      " 14.765146 seconds (619.13 k allocations: 6.133 GiB, 17.89% gc time)\n"
     ]
    }
   ],
   "source": [
    "epsilon = 1/2\n",
    "mu      = 0\n",
    "N       = 2^12\n",
    "L       = 10\n",
    "T       = 5\n",
    "dt      = 0.001\n",
    "\n",
    "@show epsilon,N,L,T,dt\n",
    "\n",
    "parameters=Parameters(epsilon,mu)\n",
    "mesh  = Mesh(-L, L, N)\n",
    "times = Times(dt, T)\n",
    "initial_data = Datum(exp.(-(mesh.x).^2),zeros(Complex{Float64}, mesh.N))\n",
    "#h0=exp.(-(mesh.x).^2)\n",
    "#u0=zeros(Complex{Float64}, mesh.N)\n",
    "#initial_datas = Datas(h0,u0)\n",
    "\n",
    "models = []\n",
    "push!(models, Cheng())\n",
    "push!(models, Matsuno())\n",
    " \n",
    "#function run_simulations(mesh::Mesh, models, initial_data::InitialData, parameters::Parameters, times::Times)\n",
    "\n",
    "solver = RK4( mesh.N )\n",
    "\n",
    "    for model in models\n",
    "        \n",
    "        print(\"*** $(model.label) ***\")\n",
    "        @time solve!(model, initial_data, parameters, mesh , times, solver)\n",
    "    end\n",
    "#end\n",
    "#run_simulations(mesh, models, initial_data, parameters, times)\n",
    "\n",
    "\n",
    "fig(5, times, models, mesh)"
   ]
  },
  {
   "cell_type": "code",
   "execution_count": 26,
   "metadata": {},
   "outputs": [
    {
     "data": {
      "image/png": "[encoded data removed]",
      "text/plain": [
       "PyPlot.Figure(PyObject <Figure size 600x400 with 2 Axes>)"
      ]
     },
     "metadata": {},
     "output_type": "display_data"
    }
   ],
   "source": [
    "fig(0, times, models, mesh)"
   ]
  },
  {
   "cell_type": "code",
   "execution_count": null,
   "metadata": {},
   "outputs": [],
   "source": []
  }
 ],
 "metadata": {
  "kernelspec": {
   "display_name": "Julia 1.0.0",
   "language": "julia",
   "name": "julia-1.0"
  },
  "language_info": {
   "file_extension": ".jl",
   "mimetype": "application/julia",
   "name": "julia",
   "version": "1.0.0"
  }
 },
 "nbformat": 4,
 "nbformat_minor": 2
}
