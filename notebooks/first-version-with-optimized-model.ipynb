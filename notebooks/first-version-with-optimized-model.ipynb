{
 "cells": [
  {
   "cell_type": "code",
   "execution_count": 2,
   "metadata": {},
   "outputs": [
    {
     "name": "stderr",
     "output_type": "stream",
     "text": [
      "┌ Info: Recompiling stale cache file /Users/navaro/.julia/compiled/v1.0/Plots/ld3vC.ji for Plots [91a5bcdd-55d7-5caf-9e0b-520d859cae80]\n",
      "└ @ Base loading.jl:1187\n",
      "┌ Info: Recompiling stale cache file /Users/navaro/.julia/compiled/v1.0/PyPlot/oatAj.ji for PyPlot [d330b81b-6aea-500a-939a-2ce795aea3ee]\n",
      "└ @ Base loading.jl:1187\n"
     ]
    },
    {
     "data": {
      "text/plain": [
       "Plots.PyPlotBackend()"
      ]
     },
     "execution_count": 2,
     "metadata": {},
     "output_type": "execute_result"
    }
   ],
   "source": [
    "using  FFTW\n",
    "using  LinearAlgebra\n",
    "using  ProgressMeter\n",
    "using  BenchmarkTools\n",
    "using  Plots\n",
    "pyplot()"
   ]
  },
  {
   "cell_type": "code",
   "execution_count": 3,
   "metadata": {},
   "outputs": [
    {
     "name": "stderr",
     "output_type": "stream",
     "text": [
      "┌ Info: Precompiling FModels [56bd5bc8-d889-11e8-33a6-bb3ace1bc7c7]\n",
      "└ @ Base loading.jl:1189\n",
      "┌ Warning: Package FModels does not have Plots in its dependencies:\n",
      "│ - If you have FModels checked out for development and have\n",
      "│   added Plots as a dependency but haven't updated your primary\n",
      "│   environment's manifest file, try `Pkg.resolve()`.\n",
      "│ - Otherwise you may need to report an issue with FModels\n",
      "└ Loading Plots into FModels from project dependency, future warnings for FModels are suppressed.\n",
      "ERROR: LoadError: LoadError: UndefVarError: Times not defined\n",
      "Stacktrace:\n",
      " [1] top-level scope at none:0\n",
      " [2] include at ./boot.jl:317 [inlined]\n",
      " [3] include_relative(::Module, ::String) at ./loading.jl:1041\n",
      " [4] include at ./sysimg.jl:29 [inlined]\n",
      " [5] include(::String) at /Users/navaro/.julia/packages/FModels/PA8E9/src/FModels.jl:1\n",
      " [6] top-level scope at none:0\n",
      " [7] include at ./boot.jl:317 [inlined]\n",
      " [8] include_relative(::Module, ::String) at ./loading.jl:1041\n",
      " [9] include(::Module, ::String) at ./sysimg.jl:29\n",
      " [10] top-level scope at none:2\n",
      " [11] eval at ./boot.jl:319 [inlined]\n",
      " [12] eval(::Expr) at ./client.jl:389\n",
      " [13] top-level scope at ./none:3\n",
      "in expression starting at /Users/navaro/.julia/packages/FModels/PA8E9/src/fig.jl:60\n",
      "in expression starting at /Users/navaro/.julia/packages/FModels/PA8E9/src/FModels.jl:7\n"
     ]
    },
    {
     "ename": "ErrorException",
     "evalue": "Failed to precompile FModels [56bd5bc8-d889-11e8-33a6-bb3ace1bc7c7] to /Users/navaro/.julia/compiled/v1.0/FModels/mpuzA.ji.",
     "output_type": "error",
     "traceback": [
      "Failed to precompile FModels [56bd5bc8-d889-11e8-33a6-bb3ace1bc7c7] to /Users/navaro/.julia/compiled/v1.0/FModels/mpuzA.ji.",
      "",
      "Stacktrace:",
      " [1] error(::String) at ./error.jl:33",
      " [2] macro expansion at ./logging.jl:313 [inlined]",
      " [3] compilecache(::Base.PkgId, ::String) at ./loading.jl:1187",
      " [4] macro expansion at ./logging.jl:311 [inlined]",
      " [5] _require(::Base.PkgId) at ./loading.jl:944",
      " [6] require(::Base.PkgId) at ./loading.jl:855",
      " [7] macro expansion at ./logging.jl:311 [inlined]",
      " [8] require(::Module, ::Symbol) at ./loading.jl:837",
      " [9] top-level scope at In[3]:1"
     ]
    }
   ],
   "source": [
    "using FModels"
   ]
  },
  {
   "cell_type": "code",
   "execution_count": 4,
   "metadata": {},
   "outputs": [
    {
     "ename": "UndefVarError",
     "evalue": "UndefVarError: Mesh not defined",
     "output_type": "error",
     "traceback": [
      "UndefVarError: Mesh not defined",
      "",
      "Stacktrace:",
      " [1] top-level scope at In[4]:1"
     ]
    }
   ],
   "source": [
    "\n",
    "function main(mesh::Mesh, freq::Freq, times::Times, Gamma::Vector{Float64})\n",
    "    \n",
    "    function solve!(h, u, times)\n",
    "                \n",
    "        prog = Progress(times.nt,1) # progress bar\n",
    "        \n",
    "        dh, du = similar(h), similar(u)\n",
    "        hhat, uhat = similar(h), similar(u)\n",
    "        hnew, unew = similar(h), similar(u)\n",
    "        \n",
    "        Int1 = similar(u)\n",
    "        Int2 = similar(h)\n",
    "        Int3 = similar(h)\n",
    "        \n",
    "        Px  = plan_fft(hnew; flags = FFTW.MEASURE)\n",
    "\n",
    "        function fwave!(h::Vector{Complex{Float64}},\n",
    "                        u::Vector{Complex{Float64}})\n",
    "             \n",
    "             ldiv!(hnew, Px , h)\n",
    "             \n",
    "             Int1  .= u\n",
    "             Int1 .*= Gamma\n",
    "             ldiv!(unew, Px , Int1)\n",
    "             unew  .^= 2\n",
    "             mul!(Int1, Px , unew)\n",
    "             Int1 .*= H\n",
    "             \n",
    "             Int2  .= h\n",
    "             Int2 .*= Dx\n",
    "             ldiv!(unew, Px , Int2)\n",
    "             unew  .*= hnew\n",
    "             mul!(Int2, Px , unew)\n",
    "             \n",
    "             Int3  .= h\n",
    "             Int3 .*= Gamma\n",
    "             ldiv!(unew, Px, Int3)\n",
    "             unew  .*= hnew\n",
    "             mul!(Int3 , Px , unew)\n",
    "             Int3 .*= H\n",
    "             \n",
    "             hnew  .= -u\n",
    "             hnew .*= Dx\n",
    "             \n",
    "             Int1 .-= Int2\n",
    "             Int1 .-= Int3\n",
    "             Int1 .*= Pi\n",
    "             Int1 .*= epsilon\n",
    "             \n",
    "             u  .= h\n",
    "             u .*= H\n",
    "             u .+= Int1\n",
    "             \n",
    "             h .= hnew\n",
    "             \n",
    "        end\n",
    "    \n",
    "        function rk4!( h::Vector{Complex{Float64}},\n",
    "                       u::Vector{Complex{Float64}})\n",
    "            \n",
    "            hhat .= h\n",
    "            uhat .= u\n",
    "            fwave!( hhat, uhat)\n",
    "            dh .= hhat\n",
    "            du .= uhat\n",
    "            \n",
    "            hhat .= h .+ dt/2*hhat\n",
    "            uhat .= u .+ dt/2*uhat\n",
    "            fwave!( hhat,uhat)\n",
    "            dh .+= 2 * hhat\n",
    "            du .+= 2 * uhat\n",
    "            \n",
    "            hhat .= h .+ dt/2*hhat\n",
    "            uhat .= u .+ dt/2*uhat\n",
    "            fwave!( hhat, uhat)\n",
    "            dh .+= 2 * hhat\n",
    "            du .+= 2 * uhat\n",
    "            \n",
    "            hhat .= h .+ dt*hhat\n",
    "            uhat .= u .+ dt*uhat\n",
    "            fwave!( hhat, uhat)\n",
    "            dh .+= hhat\n",
    "            du .+= uhat\n",
    "            \n",
    "            h .+= dt/6 * dh\n",
    "            u .+= dt/6 * du\n",
    "        end\n",
    "        \n",
    "        label = \"Cheng et al.\"\n",
    "        Modeles[label] = []\n",
    "      \n",
    "        push!(Modeles[label],(h,u))\n",
    "        for l in range(1,times.nt-1)\n",
    "            \n",
    "            dt = times.t[l+1]-times.t[l]\n",
    "            \n",
    "            rk4!( h, u)\n",
    "        \n",
    "            push!(Modeles[label],(h,u))   \n",
    "            next!(prog)\n",
    "        end\n",
    "                \n",
    "    end\n",
    "    \n",
    "    H     = -1im * sign.(freq.k)     # Hilbert transform\n",
    "    Dx    =  1im * freq.k            # Differentiation\n",
    "    Pi    = Gamma .< freq.kmax * 2/3 # Dealiasing low-pass filter\n",
    "    \n",
    "    h     = zeros(Complex{Float64},N)\n",
    "    h    .= exp.(-mesh.x.^2)\n",
    "    h    .= Pi .* fft(h)\n",
    "    u     = zeros(Complex{Float64},N)\n",
    "    u    .= Pi .* fft(u)\n",
    "    \n",
    "    solve!(h, u, times )\n",
    "    \n",
    "end"
   ]
  },
  {
   "cell_type": "code",
   "execution_count": 5,
   "metadata": {},
   "outputs": [
    {
     "name": "stdout",
     "output_type": "stream",
     "text": [
      "(epsilon, N, L, T, dt) = (0.5, 4096, 10, 5, 0.001)\n"
     ]
    },
    {
     "ename": "UndefVarError",
     "evalue": "UndefVarError: Mesh not defined",
     "output_type": "error",
     "traceback": [
      "UndefVarError: Mesh not defined",
      "",
      "Stacktrace:",
      " [1] top-level scope at In[5]:8"
     ]
    }
   ],
   "source": [
    "epsilon = 1/2\n",
    "N       = 2^12\n",
    "L       = 10\n",
    "T       = 5\n",
    "dt      = 0.001\n",
    "\n",
    "@show epsilon,N,L,T,dt\n",
    "\n",
    "mesh  = Mesh(-L, L, N)\n",
    "freq  = Freq(mesh.dx, N)\n",
    "times = Times(dt, T)\n",
    "\n",
    "Gamma   = abs.(freq.k)\n",
    "Modeles = Dict()\n",
    "    \n",
    "@time main(mesh, freq, times, Gamma)\n",
    "fig(5, times, Gamma, freq, Modeles, epsilon, mesh)"
   ]
  },
  {
   "cell_type": "code",
   "execution_count": null,
   "metadata": {},
   "outputs": [],
   "source": []
  }
 ],
 "metadata": {
  "kernelspec": {
   "display_name": "Julia 1.0.1",
   "language": "julia",
   "name": "julia-1.0"
  },
  "language_info": {
   "file_extension": ".jl",
   "mimetype": "application/julia",
   "name": "julia",
   "version": "1.0.1"
  }
 },
 "nbformat": 4,
 "nbformat_minor": 2
}
