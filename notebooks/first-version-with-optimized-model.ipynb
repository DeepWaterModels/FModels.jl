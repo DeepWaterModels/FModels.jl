{
 "cells": [
  {
   "cell_type": "code",
   "execution_count": 1,
   "metadata": {},
   "outputs": [
    {
     "data": {
      "text/plain": [
       "Plots.PyPlotBackend()"
      ]
     },
     "execution_count": 1,
     "metadata": {},
     "output_type": "execute_result"
    }
   ],
   "source": [
    "using  FFTW\n",
    "using  LinearAlgebra\n",
    "using  ProgressMeter\n",
    "using  BenchmarkTools\n",
    "using  Plots\n",
    "pyplot()"
   ]
  },
  {
   "cell_type": "code",
   "execution_count": 9,
   "metadata": {},
   "outputs": [
    {
     "data": {
      "text/plain": [
       "fig (generic function with 3 methods)"
      ]
     },
     "execution_count": 9,
     "metadata": {},
     "output_type": "execute_result"
    }
   ],
   "source": [
    "#using FModels\n",
    "include(\"mesh.jl\")\n",
    "include(\"times.jl\")\n",
    "include(\"fig.jl\")"
   ]
  },
  {
   "cell_type": "code",
   "execution_count": 10,
   "metadata": {},
   "outputs": [
    {
     "data": {
      "text/plain": [
       "main (generic function with 1 method)"
      ]
     },
     "execution_count": 10,
     "metadata": {},
     "output_type": "execute_result"
    }
   ],
   "source": [
    "\n",
    "function main(mesh::Mesh, times::Times, Gamma::Vector{Float64})\n",
    "    \n",
    "    function solve!(h, u, times)\n",
    "                \n",
    "        prog = Progress(times.Nt,1) # progress bar\n",
    "        \n",
    "        dh, du = similar(h), similar(u)\n",
    "        hhat, uhat = similar(h), similar(u)\n",
    "        hnew, unew = similar(h), similar(u)\n",
    "        \n",
    "        Int1 = similar(u)\n",
    "        Int2 = similar(h)\n",
    "        Int3 = similar(h)\n",
    "        \n",
    "        Px  = plan_fft(hnew; flags = FFTW.MEASURE)\n",
    "\n",
    "        function fwave!(h::Vector{Complex{Float64}},\n",
    "                        u::Vector{Complex{Float64}})\n",
    "             \n",
    "             ldiv!(hnew, Px , h)\n",
    "             \n",
    "             Int1  .= u\n",
    "             Int1 .*= Gamma\n",
    "             ldiv!(unew, Px , Int1)\n",
    "             unew  .^= 2\n",
    "             mul!(Int1, Px , unew)\n",
    "             Int1 .*= H\n",
    "             \n",
    "             Int2  .= h\n",
    "             Int2 .*= Dx\n",
    "             ldiv!(unew, Px , Int2)\n",
    "             unew  .*= hnew\n",
    "             mul!(Int2, Px , unew)\n",
    "             \n",
    "             Int3  .= h\n",
    "             Int3 .*= Gamma\n",
    "             ldiv!(unew, Px, Int3)\n",
    "             unew  .*= hnew\n",
    "             mul!(Int3 , Px , unew)\n",
    "             Int3 .*= H\n",
    "             \n",
    "             hnew  .= -u\n",
    "             hnew .*= Dx\n",
    "             \n",
    "             Int1 .-= Int2\n",
    "             Int1 .-= Int3\n",
    "             Int1 .*= Pi\n",
    "             Int1 .*= epsilon\n",
    "             \n",
    "             u  .= h\n",
    "             u .*= H\n",
    "             u .+= Int1\n",
    "             \n",
    "             h .= hnew\n",
    "             \n",
    "        end\n",
    "    \n",
    "        function rk4!( h::Vector{Complex{Float64}},\n",
    "                       u::Vector{Complex{Float64}})\n",
    "            \n",
    "            hhat .= h\n",
    "            uhat .= u\n",
    "            fwave!( hhat, uhat)\n",
    "            dh .= hhat\n",
    "            du .= uhat\n",
    "            \n",
    "            hhat .= h .+ dt/2*hhat\n",
    "            uhat .= u .+ dt/2*uhat\n",
    "            fwave!( hhat,uhat)\n",
    "            dh .+= 2 * hhat\n",
    "            du .+= 2 * uhat\n",
    "            \n",
    "            hhat .= h .+ dt/2*hhat\n",
    "            uhat .= u .+ dt/2*uhat\n",
    "            fwave!( hhat, uhat)\n",
    "            dh .+= 2 * hhat\n",
    "            du .+= 2 * uhat\n",
    "            \n",
    "            hhat .= h .+ dt*hhat\n",
    "            uhat .= u .+ dt*uhat\n",
    "            fwave!( hhat, uhat)\n",
    "            dh .+= hhat\n",
    "            du .+= uhat\n",
    "            \n",
    "            h .+= dt/6 * dh\n",
    "            u .+= dt/6 * du\n",
    "        end\n",
    "        \n",
    "        label = \"Cheng et al.\"\n",
    "        Modeles[label] = []\n",
    "      \n",
    "        push!(Modeles[label],(h,u))\n",
    "        for l in range(1,times.Nt-1)\n",
    "            \n",
    "            dt = times.t[l+1]-times.t[l]\n",
    "            \n",
    "            rk4!( h, u)\n",
    "        \n",
    "            push!(Modeles[label],(h,u))   \n",
    "            next!(prog)\n",
    "        end\n",
    "                \n",
    "    end\n",
    "    \n",
    "    H     = -1im * sign.(mesh.k)     # Hilbert transform\n",
    "    Dx    =  1im * mesh.k            # Differentiation\n",
    "    Pi    = Gamma .< mesh.kmax * 2/3 # Dealiasing low-pass filter\n",
    "    \n",
    "    h     = zeros(Complex{Float64},N)\n",
    "    h    .= exp.(-mesh.x.^2)\n",
    "    h    .= Pi .* fft(h)\n",
    "    u     = zeros(Complex{Float64},N)\n",
    "    u    .= Pi .* fft(u)\n",
    "    \n",
    "    solve!(h, u, times )\n",
    "    \n",
    "end"
   ]
  },
  {
   "cell_type": "code",
   "execution_count": 11,
   "metadata": {},
   "outputs": [
    {
     "name": "stdout",
     "output_type": "stream",
     "text": [
      "(epsilon, N, L, T, dt) = (0.5, 4096, 10, 5, 0.001)\n"
     ]
    },
    {
     "name": "stderr",
     "output_type": "stream",
     "text": [
      "\u001b[32mProgress:  90%|█████████████████████████████████████    |  ETA: 0:00:01\u001b[39m"
     ]
    },
    {
     "data": {
      "image/png": "[encoded data removed]",
      "text/plain": [
       "PyPlot.Figure(PyObject <Figure size 600x400 with 2 Axes>)"
      ]
     },
     "metadata": {},
     "output_type": "display_data"
    },
    {
     "name": "stdout",
     "output_type": "stream",
     "text": [
      " 12.032158 seconds (1.57 M allocations: 4.944 GiB, 6.26% gc time)\n"
     ]
    },
    {
     "name": "stderr",
     "output_type": "stream",
     "text": [
      "\r",
      "\u001b[32mProgress:  99%|█████████████████████████████████████████|  ETA: 0:00:00\u001b[39m"
     ]
    }
   ],
   "source": [
    "epsilon = 1/2\n",
    "N       = 2^12\n",
    "L       = 10\n",
    "T       = 5\n",
    "dt      = 0.001\n",
    "\n",
    "@show epsilon,N,L,T,dt\n",
    "\n",
    "mesh  = Mesh(-L, L, N)\n",
    "times = Times(dt, T)\n",
    "\n",
    "Gamma   = abs.(mesh.k)\n",
    "Modeles = Dict()\n",
    "    \n",
    "@time main(mesh, times, Gamma)\n",
    "fig(5, times, Gamma, Modeles, epsilon, mesh)"
   ]
  },
  {
   "cell_type": "code",
   "execution_count": null,
   "metadata": {},
   "outputs": [],
   "source": []
  },
  {
   "cell_type": "code",
   "execution_count": null,
   "metadata": {},
   "outputs": [],
   "source": []
  }
 ],
 "metadata": {
  "kernelspec": {
   "display_name": "Julia 1.0.0",
   "language": "julia",
   "name": "julia-1.0"
  },
  "language_info": {
   "file_extension": ".jl",
   "mimetype": "application/julia",
   "name": "julia",
   "version": "1.0.0"
  }
 },
 "nbformat": 4,
 "nbformat_minor": 2
}
