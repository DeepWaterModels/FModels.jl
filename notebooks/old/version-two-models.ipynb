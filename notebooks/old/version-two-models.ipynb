{
 "cells": [
  {
   "cell_type": "code",
   "execution_count": 1,
   "metadata": {},
   "outputs": [
    {
     "data": {
      "text/plain": [
       "step! (generic function with 1 method)"
      ]
     },
     "execution_count": 1,
     "metadata": {},
     "output_type": "execute_result"
    }
   ],
   "source": [
    "using  FFTW\n",
    "using  LinearAlgebra\n",
    "using  ProgressMeter\n",
    "using  BenchmarkTools\n",
    "using  Plots\n",
    "pyplot()\n",
    "include(\"mesh.jl\")\n",
    "include(\"times.jl\")\n",
    "include(\"fig.jl\")\n",
    "include(\"solvers.jl\")"
   ]
  },
  {
   "cell_type": "code",
   "execution_count": 2,
   "metadata": {},
   "outputs": [],
   "source": [
    "mutable struct Cheng\n",
    "\n",
    "    mesh    :: Mesh\n",
    "    label   :: String\n",
    "    data    :: Vector{Tuple{Vector{Complex{Float64}},Vector{Complex{Float64}}}}\n",
    "    Gamma   :: Array{Float64,1}\n",
    "    Dx      :: Array{Complex{Float64},1}\n",
    "    H       :: Array{Complex{Float64},1}\n",
    "    Pi      :: BitArray{1}\n",
    "    epsilon :: Float64\n",
    "\n",
    "    function Cheng(mesh::Mesh, epsilon::Float64)\n",
    "        label = \"Cheng et al.\"\n",
    "        data  = []\n",
    "        Gamma = abs.(mesh.k)\n",
    "        Dx    =  1im * mesh.k            # Differentiation\n",
    "        H     = -1im * sign.(mesh.k)     # Hilbert transform\n",
    "        Pi    = Gamma .< mesh.kmax * 2/3 # Dealiasing low-pass filter\n",
    "        new(mesh, label, data, Gamma, Dx, H, Pi, epsilon)\n",
    "    end\n",
    "end\n"
   ]
  },
  {
   "cell_type": "code",
   "execution_count": 3,
   "metadata": {},
   "outputs": [
    {
     "data": {
      "text/plain": [
       "solve! (generic function with 1 method)"
      ]
     },
     "execution_count": 3,
     "metadata": {},
     "output_type": "execute_result"
    }
   ],
   "source": [
    "function solve!(model::Cheng, h, u, times::Times, solver::TimeSolver)\n",
    "                \n",
    "    Gamma = model.Gamma\n",
    "    H     = model.H     # Hilbert transform\n",
    "    Dx    = model.Dx    # Differentiation\n",
    "    Pi    = model.Pi    # Dealiasing low-pass filter\n",
    "    \n",
    "    prog = Progress(times.Nt,1) # progress bar\n",
    "    hnew, unew = similar(h), similar(u)\n",
    "    \n",
    "    Int1 = similar(u)\n",
    "    Int2 = similar(h)\n",
    "    Int3 = similar(h)\n",
    "    \n",
    "    Px  = plan_fft(hnew; flags = FFTW.MEASURE)\n",
    "\n",
    "    function fwave!(h::Vector{Complex{Float64}},\n",
    "                    u::Vector{Complex{Float64}})\n",
    "         \n",
    "         ldiv!(hnew, Px , h)\n",
    "         \n",
    "         Int1  .= u\n",
    "         Int1 .*= Gamma\n",
    "         ldiv!(unew, Px , Int1)\n",
    "         unew  .^= 2\n",
    "         mul!(Int1, Px , unew)\n",
    "         Int1 .*= H\n",
    "         \n",
    "         Int2  .= h\n",
    "         Int2 .*= Dx\n",
    "         ldiv!(unew, Px , Int2)\n",
    "         unew  .*= hnew\n",
    "         mul!(Int2, Px , unew)\n",
    "         \n",
    "         Int3  .= h\n",
    "         Int3 .*= Gamma\n",
    "         ldiv!(unew, Px, Int3)\n",
    "         unew  .*= hnew\n",
    "         mul!(Int3 , Px , unew)\n",
    "         Int3 .*= H\n",
    "         \n",
    "         hnew  .= -u\n",
    "         hnew .*= Dx\n",
    "         \n",
    "         Int1 .-= Int2\n",
    "         Int1 .-= Int3\n",
    "         Int1 .*= Pi\n",
    "         Int1 .*= epsilon\n",
    "         \n",
    "         u  .= h\n",
    "         u .*= H\n",
    "         u .+= Int1\n",
    "         \n",
    "         h .= hnew\n",
    "         \n",
    "    end\n",
    "\n",
    "    \n",
    "    model.data = []\n",
    "  \n",
    "    push!(model.data,(h,u))\n",
    "    for l in range(1,times.Nt-1)\n",
    "        \n",
    "        dt = times.t[l+1]-times.t[l]\n",
    "        \n",
    "        step!( solver, fwave!, h, u, dt)\n",
    "    \n",
    "        push!(model.data,(h,u))   \n",
    "        next!(prog)\n",
    "    end\n",
    "            \n",
    "end"
   ]
  },
  {
   "cell_type": "code",
   "execution_count": 4,
   "metadata": {},
   "outputs": [],
   "source": [
    "mutable struct Matsuno\n",
    "    \n",
    "    mesh    :: Mesh\n",
    "    label   :: String\n",
    "    data    :: Vector{Tuple{Vector{Complex{Float64}},Vector{Complex{Float64}}}}\n",
    "    Gamma   :: Array{Float64,1}\n",
    "    Dx      :: Array{Complex{Float64},1}\n",
    "    H       :: Array{Complex{Float64},1}\n",
    "    Pi      :: BitArray{1}\n",
    "    epsilon :: Float64\n",
    "\n",
    "    function Matsuno(mesh::Mesh, epsilon::Float64)\n",
    "        label = \"Matsuno\"\n",
    "        data  = []\n",
    "        Gamma = abs.(mesh.k)\n",
    "        Dx    =  1im * mesh.k            # Differentiation\n",
    "        H     = -1im * sign.(mesh.k)     # Hilbert transform\n",
    "        Pi    = Gamma .< mesh.kmax * 2/3 # Dealiasing low-pass filter\n",
    "        new(mesh, label, data, Gamma, Dx, H, Pi, epsilon)\n",
    "    end\n",
    "end"
   ]
  },
  {
   "cell_type": "code",
   "execution_count": 5,
   "metadata": {},
   "outputs": [
    {
     "data": {
      "text/plain": [
       "solve! (generic function with 2 methods)"
      ]
     },
     "execution_count": 5,
     "metadata": {},
     "output_type": "execute_result"
    }
   ],
   "source": [
    "function solve!(model::Matsuno, h, u, times::Times, solver::TimeSolver)\n",
    "                \n",
    "    Gamma = model.Gamma\n",
    "    H     = model.H     # Hilbert transform\n",
    "    Dx    = model.Dx    # Differentiation\n",
    "    Pi    = model.Pi    # Dealiasing low-pass filter\n",
    "    \n",
    "    prog = Progress(times.Nt,1) # progress bar\n",
    "    \n",
    "    hnew, unew = similar(h), similar(u)\n",
    "    \n",
    "    Int1 = similar(h)\n",
    "    Int2 = similar(u)\n",
    "    Int3 = similar(h)\n",
    "    \n",
    "    Px  = plan_fft(hnew; flags = FFTW.MEASURE)\n",
    "  \n",
    "    function fwave!(h::Vector{Complex{Float64}},\n",
    "                    u::Vector{Complex{Float64}})\n",
    "        \n",
    "       # hnew .= real(ifft(h))\n",
    "       # unew .= real(ifft(u))\n",
    "       # Int3 .= fft(real(ifft(Dx.*h)).*real(ifft(Gamma.*h)))\n",
    "     #\n",
    "       # Int1 .= H.*u-epsilon*Pi.*(H.*fft(hnew.*real(ifft(Gamma.*u))).+Dx.*fft(hnew.*unew))\n",
    "       # Int2 .= -(Dx.*h)-epsilon/2*Pi.*(Dx.*fft(unew.^2))+epsilon*Pi.*Int3\n",
    "       # \n",
    "       # h .= Int1\n",
    "       # u .= Int2\n",
    "         \n",
    "        hnew .= Gamma \n",
    "        hnew .*= h         \n",
    "        ldiv!(unew, Px, hnew )   \n",
    "        hnew .= Dx \n",
    "        hnew .*= h            \n",
    "        ldiv!(Int1, Px, hnew)    \n",
    "        unew .*= Int1            \n",
    "        mul!(Int1, Px, unew)     \n",
    "        Int1 .*= epsilon*Pi\n",
    "        Int2 .= Dx .* h\n",
    "        Int1 .-= Int2\n",
    "        ldiv!(hnew, Px, h)\n",
    "        ldiv!(unew, Px, u)\n",
    "        Int2  .= hnew .* unew\n",
    "        mul!(Int3, Px, Int2)\n",
    "        Int3 .*= Dx\n",
    "        h     .= H.*u\n",
    "        u    .*= Gamma\n",
    "        ldiv!(Int2, Px, u)\n",
    "        Int2 .*= hnew\n",
    "        mul!(u, Px, Int2)\n",
    "        u    .*= H\n",
    "        Int3 .+= u\n",
    "        Int3 .*= epsilon * Pi\n",
    "        h    .-= Int3     \n",
    "        Int3  .= unew.^2\n",
    "        mul!(unew, Px, Int3)\n",
    "        unew  .*= Dx\n",
    "        unew  .*= epsilon/2 * Pi \n",
    "        Int1  .-= unew\n",
    "        u .= Int1\n",
    "    end\n",
    "    \n",
    "    model.data = []\n",
    "  \n",
    "    push!(model.data,(h,u))\n",
    "    for l in range(1,times.Nt-1)\n",
    "        \n",
    "        dt = times.t[l+1]-times.t[l]\n",
    "        \n",
    "        step!( solver, fwave!, h, u, dt)\n",
    "    \n",
    "        push!(model.data,(h,u))   \n",
    "        next!(prog)\n",
    "    end\n",
    "            \n",
    "end"
   ]
  },
  {
   "cell_type": "code",
   "execution_count": 6,
   "metadata": {},
   "outputs": [
    {
     "data": {
      "text/plain": [
       "run_simulations (generic function with 1 method)"
      ]
     },
     "execution_count": 6,
     "metadata": {},
     "output_type": "execute_result"
    }
   ],
   "source": [
    "function run_simulations(mesh::Mesh, models, times::Times)\n",
    "   \n",
    "    solver = RK4( mesh.N )\n",
    "\n",
    "    for model in models\n",
    "        \n",
    "        h  = zeros(Complex{Float64}, mesh.N)\n",
    "        h .= exp.(-mesh.x.^2)\n",
    "        h .= model.Pi .* fft(h)\n",
    "        u  = zeros(Complex{Float64}, mesh.N)\n",
    "        u .= model.Pi .* fft(u)\n",
    "    \n",
    "        solve!(model, h, u, times, solver )\n",
    "    end\n",
    "    \n",
    "end"
   ]
  },
  {
   "cell_type": "code",
   "execution_count": 7,
   "metadata": {},
   "outputs": [
    {
     "name": "stdout",
     "output_type": "stream",
     "text": [
      "(epsilon, N, L, T, dt) = (0.5, 4096, 10, 5, 0.001)\n"
     ]
    },
    {
     "name": "stderr",
     "output_type": "stream",
     "text": [
      "\u001b[32mProgress:  97%|████████████████████████████████████████ |  ETA: 0:00:00\u001b[39m"
     ]
    },
    {
     "name": "stdout",
     "output_type": "stream",
     "text": [
      " 32.418540 seconds (10.46 M allocations: 10.870 GiB, 4.14% gc time)\n"
     ]
    },
    {
     "data": {
      "image/png": "[encoded data removed]",
      "text/plain": [
       "PyPlot.Figure(PyObject <Figure size 600x400 with 2 Axes>)"
      ]
     },
     "metadata": {},
     "output_type": "display_data"
    }
   ],
   "source": [
    "epsilon = 1/2\n",
    "N       = 2^12\n",
    "L       = 10\n",
    "T       = 5\n",
    "dt      = 0.001\n",
    "\n",
    "@show epsilon,N,L,T,dt\n",
    "\n",
    "mesh  = Mesh(-L, L, N)\n",
    "times = Times(dt, T)\n",
    "\n",
    "models = []\n",
    "push!(models, Cheng(mesh, epsilon))\n",
    "push!(models, Matsuno(mesh, epsilon))\n",
    "    \n",
    "@time run_simulations(mesh, models, times)\n",
    "fig(5, times, models, mesh)"
   ]
  },
  {
   "cell_type": "code",
   "execution_count": null,
   "metadata": {},
   "outputs": [],
   "source": []
  }
 ],
 "metadata": {
  "kernelspec": {
   "display_name": "Julia 1.0.0",
   "language": "julia",
   "name": "julia-1.0"
  },
  "language_info": {
   "file_extension": ".jl",
   "mimetype": "application/julia",
   "name": "julia",
   "version": "1.0.0"
  }
 },
 "nbformat": 4,
 "nbformat_minor": 2
}
